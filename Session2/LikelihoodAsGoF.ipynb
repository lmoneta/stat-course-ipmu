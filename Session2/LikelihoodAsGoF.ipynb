{
 "cells": [
  {
   "cell_type": "markdown",
   "metadata": {},
   "source": [
    "### Likelihood fit to exponential data: can the log-likelihood value use as goodness of fit ? \n",
    "\n",
    "This notebook shows how the negative log-likelihood function value at the minimum cannot be used at all as quality of the fit and as a goodness of fit. \n",
    "\n",
    "Using the previous example (**LikelihoodFit** notebook) we generate *n* events (e.g. n=20) randomly using the ROOT exponential random number generator and we compute the negative log-likelihood function. \n",
    "\n",
    "Afterwards, we generate an alternative data set using instead a Gaussian distribution centered around the exponential parameter *tau*. \n",
    "We compute for this data set the same negative log-likelihood as for the exponential data, thus assuming that the data are exponentially distributed. \n",
    "\n",
    "You can see that in this case the negative log-likelihood function has a lower value with this alternative data set compared to the negative log-likelihood computed with the exponential data set. \n",
    "\n",
    "It is clear that the fit using the alternative gaussian data will not fit better an exponential function that the original one. \n",
    "\n"
   ]
  },
  {
   "cell_type": "markdown",
   "metadata": {},
   "source": [
    "#### 1. Event generation\n",
    "First we generate n events using an exponential distribution with mean life tau=2"
   ]
  },
  {
   "cell_type": "code",
   "execution_count": 1,
   "metadata": {
    "collapsed": false
   },
   "outputs": [],
   "source": [
    "int n = 20;\n",
    "double tau = 2; \n",
    "std::vector<double> x(n);\n",
    "TRandom3 r(111);\n",
    "for (int i = 0; i < n; ++i) \n",
    "    x[i] = r.Exp(tau)"
   ]
  },
  {
   "cell_type": "markdown",
   "metadata": {},
   "source": [
    "#### 2. Make an histogram of the generated data\n",
    "\n",
    "We create a ROOT histogram and we fill with the content of the data vector we have created before. \n",
    "\n",
    "We display the histogram using the javascript graphics option (*jsroot on*)"
   ]
  },
  {
   "cell_type": "code",
   "execution_count": 2,
   "metadata": {
    "collapsed": false,
    "scrolled": true
   },
   "outputs": [
    {
     "data": {
      "image/png": "[encoded data removed]",
      "text/plain": [
       "<IPython.core.display.Image object>"
      ]
     },
     "metadata": {},
     "output_type": "display_data"
    },
    {
     "name": "stderr",
     "output_type": "stream",
     "text": [
      "Info in <TCanvas::MakeDefCanvas>:  created default TCanvas with name c1\n"
     ]
    }
   ],
   "source": [
    "auto h1 = new TH1D(\"h1\",\"Generated Exponential data\",10,0,5*tau);\n",
    "for (auto x_i : x)  h1->Fill(x_i);\n",
    "h1->Draw();\n",
    "gPad->Draw();"
   ]
  },
  {
   "cell_type": "markdown",
   "metadata": {},
   "source": [
    "#### 3. Calculation of the Log-Likelihood function\n",
    "\n",
    "We compute now directly the negative log-likelihood function. We assume the data are distributed according to an exponential distribution. \n",
    "The negative log-likelihood is then \n",
    "$$ NLL ( x_i, \\tau ) =  -  \\sum_{i-events} PDF(x_i | \\tau) = \\sum_{i-events} \\log \\frac{1}{\\tau} e ^{- {x_i / \\tau} } $$"
   ]
  },
  {
   "cell_type": "code",
   "execution_count": 3,
   "metadata": {
    "collapsed": false
   },
   "outputs": [],
   "source": [
    "auto nll = [&](double * p, double *){ double sum = 0; double tau = p[0]; \n",
    "                           for (auto x_i : x) {\n",
    "                               sum += std::log(1./tau * std::exp(-x_i/tau));\n",
    "                           }\n",
    "                           return -sum; \n",
    "                          };"
   ]
  },
  {
   "cell_type": "markdown",
   "metadata": {},
   "source": [
    "#### 4. Plot of the negative log-likelihood function \n",
    "Plot now the likelihood as function of the exponential parameter (tau)"
   ]
  },
  {
   "cell_type": "code",
   "execution_count": 4,
   "metadata": {
    "collapsed": false
   },
   "outputs": [],
   "source": [
    "fnll = new TF1(\"nll\",nll,.1,10,0);"
   ]
  },
  {
   "cell_type": "code",
   "execution_count": 5,
   "metadata": {
    "collapsed": false
   },
   "outputs": [
    {
     "data": {
      "image/png": "[encoded data removed]",
      "text/plain": [
       "<IPython.core.display.Image object>"
      ]
     },
     "metadata": {},
     "output_type": "display_data"
    }
   ],
   "source": [
    "fnll->SetRange(1,5);\n",
    "fnll->Draw();\n",
    "gPad->Draw();\n",
    "// clone the function to plot it later \n",
    "auto fnll_exp = fnll->Clone(); "
   ]
  },
  {
   "cell_type": "markdown",
   "metadata": {},
   "source": [
    "#### 5. Find the minimum of the NLL\n",
    "We search now for the minimum of the negative log-likelihood function. We are interested in the value of the parameter tau for which the negative log-likelihood function has a minimum. We use the function provided by ROOT (in the TF1 class) to find the function minimum."
   ]
  },
  {
   "cell_type": "code",
   "execution_count": 6,
   "metadata": {
    "collapsed": false
   },
   "outputs": [
    {
     "name": "stdout",
     "output_type": "stream",
     "text": [
      "Estimated value of tau = 2.22451\n",
      "Minimum of nll         = 35.9907\n"
     ]
    }
   ],
   "source": [
    "double tau_hat = fnll->GetMinimumX();\n",
    "double nllExpMin = fnll->Eval(tau_hat);\n",
    "std::cout << \"Estimated value of tau = \" << tau_hat << std::endl;\n",
    "std::cout << \"Minimum of nll         = \" << nllExpMin << std::endl;"
   ]
  },
  {
   "cell_type": "markdown",
   "metadata": {},
   "source": [
    "#### 6. Generation of a different data set distributed with a different p.d.f.\n",
    "\n",
    "Generate now a sample of data which are not distributed as an exponential distribution, but as a Gaussian distribution centered around tau. \n",
    "We can show that the exponential likelihood computed with this gaussian distributed data set has in some cases (depending on the random data fluctuations) a lower minimum value that the one obtained from the original exponential data that we have used for fitting."
   ]
  },
  {
   "cell_type": "code",
   "execution_count": 7,
   "metadata": {
    "collapsed": false
   },
   "outputs": [],
   "source": [
    "for (int i = 0; i < n; ++i) \n",
    "    x[i] = r.Gaus(tau,0.1*tau_hat);"
   ]
  },
  {
   "cell_type": "code",
   "execution_count": 8,
   "metadata": {
    "collapsed": false
   },
   "outputs": [
    {
     "data": {
      "image/png": "[encoded data removed]",
      "text/plain": [
       "<IPython.core.display.Image object>"
      ]
     },
     "metadata": {},
     "output_type": "display_data"
    }
   ],
   "source": [
    "auto h2 = new TH1D(\"h2\",\"Different Generated data\",10,0,5*tau);\n",
    "for (auto x_i : x)  h2->Fill(x_i);\n",
    "h2->Draw(); \n",
    "h2->SetLineColor(kBlue);\n",
    "h2->SetFillColor(kYellow);\n",
    "h1->Draw(\"SAME\");\n",
    "// we plot also the fitted function at the minimum\n",
    "// the fitted function is a normalized exponential multiplied by\n",
    "// a normalization constant equal to nevents * bin width\n",
    "auto fexp = new TF1(\"fexp\",\"[Norm]/[tau]*exp(-x/[tau])\",0,5*tau);\n",
    "// \n",
    "fexp->SetParameters(n*h1->GetBinWidth(1),tau_hat);\n",
    "fexp->Draw(\"SAME\");\n",
    "gPad->Draw();"
   ]
  },
  {
   "cell_type": "markdown",
   "metadata": {},
   "source": [
    "#### 7.  Compute the NLL with the new data set and  compare with previous one\n",
    "\n",
    "We compute now the NLL for the new gaussian distribute dataset. \n",
    "\n",
    "Note that since we have re-generated different values of x, we can just re-use the same TF1 object created before. It will now be computed on the new data set. The previos NLL it is still available because we have saved a copy of the object (using Clone).\n",
    "We recalculate also the minimum value of the new NLL. \n"
   ]
  },
  {
   "cell_type": "code",
   "execution_count": 9,
   "metadata": {
    "collapsed": false
   },
   "outputs": [
    {
     "name": "stdout",
     "output_type": "stream",
     "text": [
      "Other estimated value of tau = 2.09041\n",
      "Other Minimum of nll         = 34.7851\n"
     ]
    }
   ],
   "source": [
    "double tau_hat2 = fnll->GetMinimumX();\n",
    "double nllMin2 = fnll->Eval(tau_hat);\n",
    "std::cout << \"Other estimated value of tau = \" << tau_hat2 << std::endl;\n",
    "std::cout << \"Other Minimum of nll         = \" << nllMin2 << std::endl;"
   ]
  },
  {
   "cell_type": "markdown",
   "metadata": {},
   "source": [
    "We plot now the new NLL and the old one"
   ]
  },
  {
   "cell_type": "code",
   "execution_count": 10,
   "metadata": {
    "collapsed": false
   },
   "outputs": [
    {
     "data": {
      "image/png": "[encoded data removed]",
      "text/plain": [
       "<IPython.core.display.Image object>"
      ]
     },
     "metadata": {},
     "output_type": "display_data"
    }
   ],
   "source": [
    "//fnll->SetMinimum(20);\n",
    "fnll->SetLineColor(kBlue);\n",
    "fnll->SetNpx(1000);\n",
    "fnll->SetRange(1,5);\n",
    "fnll->SetMinimum(std::min(nllMin2,nllExpMin)-1.);\n",
    "fnll->SetMaximum(std::max(nllMin2,nllExpMin)+10.);\n",
    "fnll->Draw();\n",
    "fnll_exp->Draw(\"same\");\n",
    "legend = new TLegend(.5,.6,.9,.8);\n",
    "legend->AddEntry(fnll_exp,\"nll from exponential data\",\"L\");\n",
    "legend->AddEntry(fnll,\"nll from Alternative data\",\"L\");\n",
    "legend->Draw();\n",
    "gPad->Draw();"
   ]
  },
  {
   "cell_type": "code",
   "execution_count": null,
   "metadata": {
    "collapsed": true
   },
   "outputs": [],
   "source": []
  }
 ],
 "metadata": {
  "kernelspec": {
   "display_name": "ROOT C++",
   "language": "c++",
   "name": "root"
  },
  "language_info": {
   "codemirror_mode": "text/x-c++src",
   "file_extension": ".C",
   "mimetype": " text/x-c++src",
   "name": "c++"
  }
 },
 "nbformat": 4,
 "nbformat_minor": 0
}
