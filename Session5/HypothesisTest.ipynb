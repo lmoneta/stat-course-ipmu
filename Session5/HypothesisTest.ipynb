{
 "cells": [
  {
   "cell_type": "markdown",
   "metadata": {},
   "source": [
    "## Hypothesis Test Example\n",
    "\n",
    "This notebook performs an hypothesis test and computes the significance of the test (p-value) using the asympotic approximation of the profile likelihood function.\n",
    "\n",
    "The test statistics for computing the hypothesis test is \n",
    "\n",
    "$$q_\\mu = - 2 \\log \\frac { L( x \\ | \\ \\mu , \\hat{\\hat{\\nu} } ) }{  L( x \\ | \\ \\hat{\\mu} , \\hat{\\nu}  ) } \\  \\  \\ \\mathrm{for} \\  \\  \n",
    "\\hat{\\mu}  >  0$$\n",
    "$$q_\\mu = 0     \\hspace{3cm}     \\ \\mathrm{for} \\  \\  \n",
    "\\hat{\\mu} \\le  0$$\n",
    "\n",
    "The p-value (significance) of the test is computed assuming that $q_\\mu$ is distributed according to a 1/2 $\\chi^2$ distribution with 1 degree of freedom.\n",
    "\n"
   ]
  },
  {
   "cell_type": "code",
   "execution_count": null,
   "metadata": {
    "collapsed": true
   },
   "outputs": [],
   "source": [
    "//%jsroot on"
   ]
  },
  {
   "cell_type": "code",
   "execution_count": 1,
   "metadata": {
    "collapsed": true
   },
   "outputs": [],
   "source": [
    "using namespace RooStats;"
   ]
  },
  {
   "cell_type": "code",
   "execution_count": 2,
   "metadata": {
    "collapsed": false
   },
   "outputs": [
    {
     "name": "stdout",
     "output_type": "stream",
     "text": [
      "\n",
      "\u001b[1mRooFit v3.60 -- Developed by Wouter Verkerke and David Kirkby\u001b[0m \n",
      "                Copyright (C) 2000-2013 NIKHEF, University of California & Stanford University\n",
      "                All rights reserved, please read http://roofit.sourceforge.net/license.txt\n",
      "\n"
     ]
    }
   ],
   "source": [
    "RooPlot * plot = nullptr;\n",
    "RooAbsPdf * pdf = nullptr;\n",
    "HypoTestResult * result = nullptr;\n",
    "// enable use of NLL offset for better minimizations\n",
    "RooStats::UseNLLOffset(true);"
   ]
  },
  {
   "cell_type": "markdown",
   "metadata": {},
   "source": [
    "####  1. Reading the model (Workspace) from input file\n",
    "\n",
    "First part is just to access the workspace file and retrieve the model and the data "
   ]
  },
  {
   "cell_type": "code",
   "execution_count": 3,
   "metadata": {
    "collapsed": false
   },
   "outputs": [],
   "source": [
    "TString fileName =\"HiggsBinModel.root\";  \n",
    "//TString fileName =\"CountingModel.root\";  \n",
    "TString workspaceName = \"w\";\n",
    "TString modelConfigName = \"ModelConfig\";\n",
    "TString dataName = \"data\";\n",
    "TString integrationType = \"\";  \n",
    "//ROOT::Math::MinimizerOptions::SetDefaultMinimizer(\"Minuit2\");\n",
    "\n",
    "nexp_events = 250;  // number of expected events for the expected significance"
   ]
  },
  {
   "cell_type": "code",
   "execution_count": 4,
   "metadata": {
    "collapsed": false
   },
   "outputs": [],
   "source": [
    "auto file = TFile::Open(fileName);"
   ]
  },
  {
   "cell_type": "code",
   "execution_count": 5,
   "metadata": {
    "collapsed": false
   },
   "outputs": [
    {
     "name": "stdout",
     "output_type": "stream",
     "text": [
      "\n",
      "RooWorkspace(w) w contents\n",
      "\n",
      "variables\n",
      "---------\n",
      "(a1,a2,mass,nbackground,nsignal,width,x)\n",
      "\n",
      "p.d.f.s\n",
      "-------\n",
      "RooExponential::bmodel[ x=z c=1 ] = 0.000354025\n",
      "RooAddPdf::model[ nbackground * bmodel + nsignal * smodel ] = 0.000350859\n",
      "RooGaussian::smodel[ x=x mean=mass sigma=width ] = 1.8233e-12\n",
      "\n",
      "functions\n",
      "--------\n",
      "RooFormulaVar::z[ actualVars=(a1,a2,x) formula=\"-(a1*x/100.+a2*(x/100.)^2)\" ] = -7.94614\n",
      "\n",
      "datasets\n",
      "--------\n",
      "RooDataHist::data(x)\n",
      "\n",
      "named sets\n",
      "----------\n",
      "ModelConfig_NuisParams:(a1,a2,nbackground)\n",
      "ModelConfig_Observables:(x)\n",
      "ModelConfig_POI:(nsignal)\n",
      "nuisParams:(a1,a2,nbackground)\n",
      "\n",
      "generic objects\n",
      "---------------\n",
      "RooStats::ModelConfig::ModelConfig\n",
      "\n"
     ]
    }
   ],
   "source": [
    "auto w =  (RooWorkspace*) file->Get(workspaceName);\n",
    "w->Print();\n",
    "auto sbModel = (RooStats::ModelConfig*) w->obj(modelConfigName);\n",
    "auto  data = w->data(dataName);\n",
    "auto poi = (RooRealVar*) sbModel->GetParametersOfInterest()->first();"
   ]
  },
  {
   "cell_type": "markdown",
   "metadata": {},
   "source": [
    "##### Make the b Model by cloning the b model and use a value = 0 for the parameter of interest"
   ]
  },
  {
   "cell_type": "code",
   "execution_count": 6,
   "metadata": {
    "collapsed": false
   },
   "outputs": [
    {
     "name": "stdout",
     "output_type": "stream",
     "text": [
      "\n",
      "=== Using the following for S+B Model ===\n",
      "Observables:             RooArgSet:: = (x)\n",
      "Parameters of Interest:  RooArgSet:: = (nsignal)\n",
      "Nuisance Parameters:     RooArgSet:: = (a1,a2,nbackground)\n",
      "PDF:                     RooAddPdf::model[ nbackground * bmodel + nsignal * smodel ] = 0.000354025\n",
      "Snapshot:                \n",
      "  1) 0x124d79040 RooRealVar:: nsignal = 250 +/- 93.6477  L(0 - 1000)  \"nsignal\"\n",
      "\n",
      "\n",
      "=== Using the following for B Model ===\n",
      "Observables:             RooArgSet:: = (x)\n",
      "Parameters of Interest:  RooArgSet:: = (nsignal)\n",
      "Nuisance Parameters:     RooArgSet:: = (a1,a2,nbackground)\n",
      "PDF:                     RooAddPdf::model[ nbackground * bmodel + nsignal * smodel ] = 0.000354025\n",
      "Snapshot:                \n",
      "  1) 0x124d79040 RooRealVar:: nsignal = 0 +/- 93.6477  L(0 - 1000)  \"nsignal\"\n",
      "\n"
     ]
    }
   ],
   "source": [
    "auto bModel = (RooStats::ModelConfig*) sbModel->Clone();\n",
    "sbModel->SetName(\"S+B Model\");\n",
    "// save previous poi value\n",
    "poiHat = poi->getVal(); \n",
    "poi->setVal(nexp_events);\n",
    "sbModel->SetSnapshot( *poi);\n",
    "bModel->SetName(\"B Model\");\n",
    "poi->setVal(0);\n",
    "bModel->SetSnapshot( *poi  );\n",
    "sbModel->Print();\n",
    "bModel->Print();\n",
    "// restore poi value to best fit value\n",
    "poi->setVal(poiHat);"
   ]
  },
  {
   "cell_type": "markdown",
   "metadata": {},
   "source": [
    "#### 2. Plot of the model pdf and the data \n",
    "\n",
    "we plot the pdf describing the model over the data. Since we have performed before a best fit, the pdf should have the parameters at their best fit values. "
   ]
  },
  {
   "cell_type": "code",
   "execution_count": 7,
   "metadata": {
    "collapsed": false
   },
   "outputs": [
    {
     "data": {
      "image/png": "[encoded data removed]",
      "text/plain": [
       "<IPython.core.display.Image object>"
      ]
     },
     "metadata": {},
     "output_type": "display_data"
    },
    {
     "name": "stdout",
     "output_type": "stream",
     "text": [
      "[#1] INFO:NumericIntegration -- RooRealIntegral::init(bmodel_Int[x]) using numeric integrator RooIntegrator1D to calculate Int(x)\n",
      "[#1] INFO:Plotting -- RooAbsPdf::plotOn(model) directly selected PDF components: (bmodel)\n",
      "[#1] INFO:Plotting -- RooAbsPdf::plotOn(model) indirectly selected PDF components: (z)\n",
      "[#1] INFO:NumericIntegration -- RooRealIntegral::init(bmodel_Int[x]) using numeric integrator RooIntegrator1D to calculate Int(x)\n",
      "[#1] INFO:Plotting -- RooAbsPdf::plotOn(model) directly selected PDF components: (smodel)\n",
      "[#1] INFO:Plotting -- RooAbsPdf::plotOn(model) indirectly selected PDF components: ()\n",
      "[#1] INFO:NumericIntegration -- RooRealIntegral::init(bmodel_Int[x]) using numeric integrator RooIntegrator1D to calculate Int(x)\n"
     ]
    },
    {
     "name": "stderr",
     "output_type": "stream",
     "text": [
      "Info in <TCanvas::MakeDefCanvas>:  created default TCanvas with name c1\n"
     ]
    }
   ],
   "source": [
    "plot = w->var(\"x\")->frame();\n",
    "pdf = sbModel->GetPdf();\n",
    "data->plotOn(plot);\n",
    "pdf->plotOn(plot);\n",
    "pdf->plotOn(plot, RooFit::Components(\"bmodel\"),RooFit::LineStyle(kDashed));\n",
    "pdf->plotOn(plot, RooFit::Components(\"smodel\"),RooFit::LineColor(kRed));\n",
    "pdf->paramOn(plot);\n",
    "\n",
    "plot->Draw();\n",
    "gPad->Draw();"
   ]
  },
  {
   "cell_type": "markdown",
   "metadata": {},
   "source": [
    "We assume we know the mass and the width of the peak, so we set it to constant.\n",
    "\n",
    "We could eventually also set to constant the background parameters. In this case the systematic uncertainties due to the background shape will not be taken into account."
   ]
  },
  {
   "cell_type": "code",
   "execution_count": 8,
   "metadata": {
    "collapsed": true
   },
   "outputs": [],
   "source": [
    "//w->var(\"a1\")->setConstant(true);\n",
    "//w->var(\"a2\")->setConstant(true);\n",
    "w->var(\"mass\")->setConstant(true);\n",
    "w->var(\"width\")->setConstant(true);"
   ]
  },
  {
   "cell_type": "code",
   "execution_count": 9,
   "metadata": {
    "collapsed": false
   },
   "outputs": [
    {
     "name": "stdout",
     "output_type": "stream",
     "text": [
      "[#0] PROGRESS:Eval -- AsymptoticCalculator::Initialize....\n",
      "[#0] PROGRESS:Eval -- AsymptoticCalculator::Initialize - Find  best unconditional NLL on observed data\n",
      "AsymptoticCalculator::EvaluateNLL  ........ using Minuit / Migrad with strategy  1 and tolerance 1\n",
      " **********\n",
      " **    1 **SET PRINT           0\n",
      " **********\n",
      " **********\n",
      " **    2 **SET NOGRAD\n",
      " **********\n",
      " PARAMETER DEFINITIONS:\n",
      "    NO.   NAME         VALUE      STEP SIZE      LIMITS\n",
      "     1 a1           8.61176e+00  8.81605e-01   -5.00000e+02  5.00000e+02\n",
      "     2 a2          -2.01906e+00  3.33556e-01   -5.00000e+02  5.00000e+02\n",
      "     3 nbackground   3.04943e+04  1.97777e+02    3.07700e+03  3.07700e+05\n",
      "     4 nsignal      2.75167e+02  9.36477e+01    0.00000e+00  1.00000e+03\n",
      " **********\n",
      " **    3 **SET ERR         0.5\n",
      " **********\n",
      " **********\n",
      " **    4 **SET PRINT           0\n",
      " **********\n",
      " **********\n",
      " **    5 **SET STR           1\n",
      " **********\n",
      " **********\n",
      " **    6 **MIGRAD        2000           1\n",
      " **********\n",
      " MIGRAD MINIMIZATION HAS CONVERGED.\n",
      " MIGRAD WILL VERIFY CONVERGENCE AND ERROR MATRIX.\n",
      " FCN=-1.61614e-05 FROM MIGRAD    STATUS=CONVERGED      53 CALLS          54 TOTAL\n",
      "                     EDM=1.54386e-05    STRATEGY= 1      ERROR MATRIX ACCURATE \n",
      "  EXT PARAMETER                                   STEP         FIRST   \n",
      "  NO.   NAME      VALUE            ERROR          SIZE      DERIVATIVE \n",
      "   1  a1           8.61178e+00   9.90677e-01   4.06441e-08   1.11939e+01\n",
      "   2  a2          -2.01905e+00   3.74453e-01   1.53329e-08   2.43578e+01\n",
      "   3  nbackground   3.04947e+04   1.89190e+02   9.82261e-07   3.36223e-01\n",
      "   4  nsignal      2.75445e+02   7.42613e+01   7.18896e-05  -3.94011e-03\n",
      "                               ERR DEF= 0.5\n",
      "AsymptoticCalculator::EvaluateNLL -  value = -170114\tfit time : Real time 0:00:00, CP time 0.050\n",
      "[#0] PROGRESS:Eval -- Best fitted POI value = 275.445 +/- 74.2613\n",
      "[#0] PROGRESS:Eval -- AsymptoticCalculator: Building Asimov data Set\n",
      "[#1] INFO:InputArguments -- AsymptoticCalculator: Asimov data will be generated using fitted nuisance parameter values\n",
      "MakeAsimov: Setting poi nsignal to a constant value = 250\n",
      "MakeAsimov: doing a conditional fit for finding best nuisance values \n",
      " **********\n",
      " **    1 **SET PRINT           0\n",
      " **********\n",
      " **********\n",
      " **    2 **SET NOGRAD\n",
      " **********\n",
      " PARAMETER DEFINITIONS:\n",
      "    NO.   NAME         VALUE      STEP SIZE      LIMITS\n",
      "     1 a1           8.61178e+00  9.90677e-01   -5.00000e+02  5.00000e+02\n",
      "     2 a2          -2.01905e+00  3.74453e-01   -5.00000e+02  5.00000e+02\n",
      "     3 nbackground   3.04947e+04  1.89190e+02    3.07700e+03  3.07700e+05\n",
      " **********\n",
      " **    3 **SET ERR         0.5\n",
      " **********\n",
      " **********\n",
      " **    4 **SET PRINT           0\n",
      " **********\n",
      " **********\n",
      " **    5 **SET STR           1\n",
      " **********\n",
      " **********\n",
      " **    6 **MIGRAD        1500           1\n",
      " **********\n",
      " MIGRAD MINIMIZATION HAS CONVERGED.\n",
      " MIGRAD WILL VERIFY CONVERGENCE AND ERROR MATRIX.\n",
      " MIGRAD MINIMIZATION HAS CONVERGED.\n",
      " FCN=-0.0160719 FROM MIGRAD    STATUS=CONVERGED      56 CALLS          57 TOTAL\n",
      "                     EDM=3.73694e-08    STRATEGY= 1  ERROR MATRIX UNCERTAINTY   5.6 per cent\n",
      "  EXT PARAMETER                                   STEP         FIRST   \n",
      "  NO.   NAME      VALUE            ERROR          SIZE      DERIVATIVE \n",
      "   1  a1           8.52243e+00   8.51472e-01  -1.80307e-04  -1.91093e+00\n",
      "   2  a2          -1.98462e+00   3.21263e-01   6.80208e-05  -5.06754e+00\n",
      "   3  nbackground   3.05189e+04   1.75369e+02   1.29114e-06   1.10774e-01\n",
      "                               ERR DEF= 0.5\n",
      "fit time Real time 0:00:00, CP time 0.000\n",
      "RooDataSet::AsimovData[x,weight:binWeightAsimov] = 100 entries (30768.4 weighted)\n",
      "Generated Asimov data for observables RooArgSet:: = (x)\n",
      "[#0] PROGRESS:Eval -- AsymptoticCalculator::Initialize Find  best conditional NLL on ASIMOV data set for given alt POI ( nsignal ) = 250\n",
      "AsymptoticCalculator::EvaluateNLL  ........ using Minuit / Migrad with strategy  1 and tolerance 1\n",
      " **********\n",
      " **    7 **SET PRINT           0\n",
      " **********\n",
      " **********\n",
      " **    8 **SET NOGRAD\n",
      " **********\n",
      " PARAMETER DEFINITIONS:\n",
      "    NO.   NAME         VALUE      STEP SIZE      LIMITS\n",
      "     1 a1           8.52243e+00  8.51472e-01   -5.00000e+02  5.00000e+02\n",
      "     2 a2          -1.98462e+00  3.21263e-01   -5.00000e+02  5.00000e+02\n",
      "     3 nbackground   3.05189e+04  1.75369e+02    3.07700e+03  3.07700e+05\n",
      " **********\n",
      " **    9 **SET ERR         0.5\n",
      " **********\n",
      " **********\n",
      " **   10 **SET PRINT           0\n",
      " **********\n",
      " **********\n",
      " **   11 **SET STR           1\n",
      " **********\n",
      " **********\n",
      " **   12 **MIGRAD        1500           1\n",
      " **********\n",
      " MIGRAD MINIMIZATION HAS CONVERGED.\n",
      " MIGRAD WILL VERIFY CONVERGENCE AND ERROR MATRIX.\n",
      " FCN=-4.42471e-05 FROM MIGRAD    STATUS=CONVERGED      40 CALLS          41 TOTAL\n",
      "                     EDM=0.000836472    STRATEGY= 1      ERROR MATRIX ACCURATE \n",
      "  EXT PARAMETER                                   STEP         FIRST   \n",
      "  NO.   NAME      VALUE            ERROR          SIZE      DERIVATIVE \n",
      "   1  a1           8.52222e+00   8.42401e-01   4.06414e-08   5.09336e+00\n",
      "   2  a2          -1.98469e+00   3.17844e-01   1.53322e-08  -3.19565e+01\n",
      "   3  nbackground   3.05186e+04   1.75372e+02   9.81901e-07   7.14233e-01\n",
      "                               ERR DEF= 0.5\n",
      "AsymptoticCalculator::EvaluateNLL -  value = -170101 for poi fixed at = 250\tfit time : Real time 0:00:00, CP time 0.010\n",
      "[#1] INFO:InputArguments -- AsymptotiCalculator: Minimum of POI is 0 corresponds to null  snapshot   - default configuration is  one-sided discovery formulae  \n"
     ]
    }
   ],
   "source": [
    "// RooStats::AsymptoticCalculator::SetPrintLevel(-1);  // to switch off print level \n",
    "RooStats::AsymptoticCalculator  asymCalc(*data, *sbModel, *bModel);"
   ]
  },
  {
   "cell_type": "markdown",
   "metadata": {},
   "source": [
    "Configure the calculator"
   ]
  },
  {
   "cell_type": "code",
   "execution_count": 10,
   "metadata": {
    "collapsed": true
   },
   "outputs": [],
   "source": [
    "asymCalc.SetOneSidedDiscovery(true);  // for one-side discovery test\n",
    "//asymCalc.SetPrintLevel(-1);  // to suppress print level "
   ]
  },
  {
   "cell_type": "markdown",
   "metadata": {},
   "source": [
    "Run the calculator and get the result"
   ]
  },
  {
   "cell_type": "code",
   "execution_count": 11,
   "metadata": {
    "collapsed": false
   },
   "outputs": [
    {
     "name": "stdout",
     "output_type": "stream",
     "text": [
      "\n",
      "[#1] INFO:Eval -- AsymptoticCalculator::GetHypoTest: - perform  an hypothesis test for  POI ( nsignal ) = 0\n",
      "[#0] PROGRESS:Eval -- AsymptoticCalculator::GetHypoTest -  Find  best conditional NLL on OBSERVED data set ..... \n",
      "AsymptoticCalculator::EvaluateNLL  ........ using Minuit / Migrad with strategy  1 and tolerance 1\n",
      " **********\n",
      " **   13 **SET PRINT           0\n",
      " **********\n",
      " **********\n",
      " **   14 **SET NOGRAD\n",
      " **********\n",
      " PARAMETER DEFINITIONS:\n",
      "    NO.   NAME         VALUE      STEP SIZE      LIMITS\n",
      "     1 a1           8.61178e+00  9.90677e-01   -5.00000e+02  5.00000e+02\n",
      "     2 a2          -2.01905e+00  3.74453e-01   -5.00000e+02  5.00000e+02\n",
      "     3 nbackground   3.04947e+04  1.89190e+02    3.07700e+03  3.07700e+05\n",
      " **********\n",
      " **   15 **SET ERR         0.5\n",
      " **********\n",
      " **********\n",
      " **   16 **SET PRINT           0\n",
      " **********\n",
      " **********\n",
      " **   17 **SET STR           1\n",
      " **********\n",
      " **********\n",
      " **   18 **MIGRAD        1500           1\n",
      " **********\n",
      " MIGRAD MINIMIZATION HAS CONVERGED.\n",
      " MIGRAD WILL VERIFY CONVERGENCE AND ERROR MATRIX.\n",
      " FCN=-2.06283 FROM MIGRAD    STATUS=CONVERGED      69 CALLS          70 TOTAL\n",
      "                     EDM=5.44834e-07    STRATEGY= 1      ERROR MATRIX ACCURATE \n",
      "  EXT PARAMETER                                   STEP         FIRST   \n",
      "  NO.   NAME      VALUE            ERROR          SIZE      DERIVATIVE \n",
      "   1  a1           7.63142e+00   8.52138e-01   9.19233e-08   7.01528e+00\n",
      "   2  a2          -1.64083e+00   3.21572e-01   3.46869e-08   1.91155e+01\n",
      "   3  nbackground   3.07699e+04   1.75417e+02   2.21522e-06  -1.42417e-01\n",
      "                               ERR DEF= 0.5\n",
      "AsymptoticCalculator::EvaluateNLL -  value = -170107 for poi fixed at = 0\tfit time : Real time 0:00:00, CP time 0.010\n",
      "[#0] PROGRESS:Eval -- \t OBSERVED DATA :  qmu   = 14.3398 condNLL = -170107 uncond -170114\n",
      "[#0] PROGRESS:Eval -- AsymptoticCalculator::GetHypoTest -- Find  best conditional NLL on ASIMOV data set .... \n",
      "AsymptoticCalculator::EvaluateNLL  ........ using Minuit / Migrad with strategy  1 and tolerance 1\n",
      " **********\n",
      " **   19 **SET PRINT           0\n",
      " **********\n",
      " **********\n",
      " **   20 **SET NOGRAD\n",
      " **********\n",
      " PARAMETER DEFINITIONS:\n",
      "    NO.   NAME         VALUE      STEP SIZE      LIMITS\n",
      "     1 a1           7.63142e+00  8.52138e-01   -5.00000e+02  5.00000e+02\n",
      "     2 a2          -1.64083e+00  3.21572e-01   -5.00000e+02  5.00000e+02\n",
      "     3 nbackground   3.07699e+04  1.75417e+02    3.07700e+03  3.07700e+05\n",
      " **********\n",
      " **   21 **SET ERR         0.5\n",
      " **********\n",
      " **********\n",
      " **   22 **SET PRINT           0\n",
      " **********\n",
      " **********\n",
      " **   23 **SET STR           1\n",
      " **********\n",
      " **********\n",
      " **   24 **MIGRAD        1500           1\n",
      " **********\n",
      " MIGRAD MINIMIZATION HAS CONVERGED.\n",
      " MIGRAD WILL VERIFY CONVERGENCE AND ERROR MATRIX.\n",
      " FCN=-0.000103677 FROM MIGRAD    STATUS=CONVERGED      40 CALLS          41 TOTAL\n",
      "                     EDM=0.000444875    STRATEGY= 1      ERROR MATRIX ACCURATE \n",
      "  EXT PARAMETER                                   STEP         FIRST   \n",
      "  NO.   NAME      VALUE            ERROR          SIZE      DERIVATIVE \n",
      "   1  a1           7.63113e+00   7.38240e-01   4.06063e-08  -1.13387e+01\n",
      "   2  a2          -1.64094e+00   2.78625e-01   1.53220e-08  -6.71420e+01\n",
      "   3  nbackground   3.07691e+04   1.75406e+02   9.78150e-07   1.96968e+00\n",
      "                               ERR DEF= 0.5\n",
      "AsymptoticCalculator::EvaluateNLL -  value = -170095 for poi fixed at = 0\tfit time : Real time 0:00:00, CP time 0.000\n",
      "[#0] PROGRESS:Eval -- \t ASIMOV data qmu_A = 11.7932 condNLL = -170095 uncond -170101\n",
      "[#0] PROGRESS:Eval -- poi = 0 qmu = 14.3398 qmu_A = 11.7932 sigma = 0  CLsplusb = 7.63032e-05 CLb = 0.362167 CLs = 4746.42\n",
      "\n",
      "Results HypoTestAsymptotic_result: \n",
      " - Null p-value = 7.63032e-05\n",
      " - Significance = 3.78679\n",
      " - CL_b: 7.63032e-05\n",
      " - CL_s+b: 0.362167\n",
      " - CL_s: 4746.42\n"
     ]
    }
   ],
   "source": [
    "result = asymCalc.GetHypoTest();\n",
    "result->Print();"
   ]
  },
  {
   "cell_type": "code",
   "execution_count": 12,
   "metadata": {
    "collapsed": false
   },
   "outputs": [
    {
     "name": "stdout",
     "output_type": "stream",
     "text": [
      "Significance = 3.78679 for p-value = 7.63032e-05\n"
     ]
    }
   ],
   "source": [
    "std::cout << \"Significance = \" << result->Significance() << \" for p-value = \" << result->NullPValue() << std::endl; "
   ]
  },
  {
   "cell_type": "markdown",
   "metadata": {},
   "source": [
    "#### Is Test statistic distribution like a chi-square distribution with n.d.f =1 ? \n",
    "\n",
    "We want to fit the null test statistic distribution to check if it is compatible with a chi2 distribution"
   ]
  },
  {
   "cell_type": "markdown",
   "metadata": {
    "collapsed": false
   },
   "source": [
    "Create the fit function as a 1/2 chisquared. Special case for forst bin (x < 0.05) \n",
    "Also the quantity plotted is the log-likelihood ratio and not 2 x log-likelihood ratio .\n",
    "0.05 is the histogram bin width. "
   ]
  },
  {
   "cell_type": "code",
   "execution_count": 13,
   "metadata": {
    "collapsed": false
   },
   "outputs": [],
   "source": [
    "auto fchi2 = new TF1(\"chi2\",\"[](double*x,double*p){ if (x[0] < 0.05) { return 0.5*p[0]+ 0.5*p[0]*ROOT::Math::chisquared_cdf(0.1,p[1]); } else { return 0.05*p[0]*ROOT::Math::chisquared_pdf(x[0],p[1]); } }\",0.,20.,2,1);"
   ]
  },
  {
   "cell_type": "code",
   "execution_count": 14,
   "metadata": {
    "collapsed": false
   },
   "outputs": [
    {
     "data": {
      "image/png": "[encoded data removed]",
      "text/plain": [
       "<IPython.core.display.Image object>"
      ]
     },
     "metadata": {},
     "output_type": "display_data"
    }
   ],
   "source": [
    "fchi2->SetParameters(1,1);\n",
    "fchi2->SetNpx(1000);\n",
    "fchi2->SetLineColor(kRed);\n",
    "fchi2->Draw();\n",
    "fchi2->SetTitle(\"Half-chi2 distribution\");\n",
    "gPad->SetLogy(true);\n",
    "gPad->Draw();"
   ]
  },
  {
   "cell_type": "code",
   "execution_count": 15,
   "metadata": {
    "collapsed": false
   },
   "outputs": [
    {
     "data": {
      "image/png": "[encoded data removed]",
      "text/plain": [
       "<IPython.core.display.Image object>"
      ]
     },
     "metadata": {},
     "output_type": "display_data"
    },
    {
     "name": "stdout",
     "output_type": "stream",
     "text": [
      "test statistic data value = 14.3398\n"
     ]
    }
   ],
   "source": [
    "// add data value\n",
    "sqmu = ROOT::Math::normal_quantile_c(result->NullPValue(),1);\n",
    "qmu = sqmu*sqmu; \n",
    "std::cout << \"test statistic data value = \" << qmu << std::endl;\n",
    "dataLine = new TLine(qmu,fchi2->GetMinimum(),qmu,1.);\n",
    "dataLine->SetLineWidth(2);\n",
    "dataLine->Draw();\n",
    "gPad->Draw();"
   ]
  },
  {
   "cell_type": "code",
   "execution_count": null,
   "metadata": {
    "collapsed": true
   },
   "outputs": [],
   "source": []
  }
 ],
 "metadata": {
  "kernelspec": {
   "display_name": "ROOT C++",
   "language": "c++",
   "name": "root"
  },
  "language_info": {
   "codemirror_mode": "text/x-c++src",
   "file_extension": ".C",
   "mimetype": " text/x-c++src",
   "name": "c++"
  }
 },
 "nbformat": 4,
 "nbformat_minor": 0
}
