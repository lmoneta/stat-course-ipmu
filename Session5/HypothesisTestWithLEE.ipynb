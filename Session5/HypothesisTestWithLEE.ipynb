{
 "cells": [
  {
   "cell_type": "markdown",
   "metadata": {},
   "source": [
    "## Hypothesis Test with study of LEE \n",
    "\n",
    "We repeat again the same hypothesis test on the same problem, but now we keep varying one (or all) the signal parameters such as the mass and the width of the signal. \n",
    "\n",
    "We show that the extimated p-value is not following anymore the 1 degree of freedom $\\chi^2$ distribution. \n"
   ]
  },
  {
   "cell_type": "code",
   "execution_count": 1,
   "metadata": {
    "collapsed": true
   },
   "outputs": [],
   "source": [
    "using namespace RooStats;"
   ]
  },
  {
   "cell_type": "code",
   "execution_count": 2,
   "metadata": {
    "collapsed": false
   },
   "outputs": [
    {
     "name": "stdout",
     "output_type": "stream",
     "text": [
      "\n",
      "\u001b[1mRooFit v3.60 -- Developed by Wouter Verkerke and David Kirkby\u001b[0m \n",
      "                Copyright (C) 2000-2013 NIKHEF, University of California & Stanford University\n",
      "                All rights reserved, please read http://roofit.sourceforge.net/license.txt\n",
      "\n"
     ]
    }
   ],
   "source": [
    "HypoTestResult * result = nullptr;\n",
    "ProfileLikelihoodTestStat * testStat = nullptr; \n",
    "ToyMCSampler * toymcs = nullptr; \n",
    "HypoTestPlot * plot = nullptr; \n",
    "// enable use of NLL offset for better minimizations\n",
    "RooStats::UseNLLOffset(true);\n",
    "//ROOT::Math::MinimizerOptions::SetDefaultMinimizer(\"Minuit2\");"
   ]
  },
  {
   "cell_type": "markdown",
   "metadata": {},
   "source": [
    "#### Reading the model (Workspace) from input file\n",
    "\n",
    "First part is just to access the workspace file and retrieve the model and the data "
   ]
  },
  {
   "cell_type": "code",
   "execution_count": 3,
   "metadata": {
    "collapsed": false
   },
   "outputs": [],
   "source": [
    "TString fileName =\"HiggsBinModel.root\";  \n",
    "TString workspaceName = \"w\";\n",
    "TString modelConfigName = \"ModelConfig\";\n",
    "TString dataName = \"data\";\n",
    "TString integrationType = \"\";  "
   ]
  },
  {
   "cell_type": "code",
   "execution_count": 4,
   "metadata": {
    "collapsed": false
   },
   "outputs": [],
   "source": [
    "auto file = TFile::Open(fileName);"
   ]
  },
  {
   "cell_type": "code",
   "execution_count": 5,
   "metadata": {
    "collapsed": false
   },
   "outputs": [
    {
     "name": "stdout",
     "output_type": "stream",
     "text": [
      "\n",
      "RooWorkspace(w) w contents\n",
      "\n",
      "variables\n",
      "---------\n",
      "(a1,a2,mass,nbackground,nsignal,width,x)\n",
      "\n",
      "p.d.f.s\n",
      "-------\n",
      "RooExponential::bmodel[ x=z c=1 ] = 0.000354025\n",
      "RooAddPdf::model[ nbackground * bmodel + nsignal * smodel ] = 0.000350859\n",
      "RooGaussian::smodel[ x=x mean=mass sigma=width ] = 1.8233e-12\n",
      "\n",
      "functions\n",
      "--------\n",
      "RooFormulaVar::z[ actualVars=(a1,a2,x) formula=\"-(a1*x/100.+a2*(x/100.)^2)\" ] = -7.94614\n",
      "\n",
      "datasets\n",
      "--------\n",
      "RooDataHist::data(x)\n",
      "\n",
      "named sets\n",
      "----------\n",
      "ModelConfig_NuisParams:(a1,a2,nbackground)\n",
      "ModelConfig_Observables:(x)\n",
      "ModelConfig_POI:(nsignal)\n",
      "nuisParams:(a1,a2,nbackground)\n",
      "\n",
      "generic objects\n",
      "---------------\n",
      "RooStats::ModelConfig::ModelConfig\n",
      "\n"
     ]
    }
   ],
   "source": [
    "auto w =  (RooWorkspace*) file->Get(workspaceName);\n",
    "w->Print();\n",
    "auto sbModel = (RooStats::ModelConfig*) w->obj(modelConfigName);\n",
    "auto  data = w->data(dataName);\n",
    "auto poi = (RooRealVar*) sbModel->GetParametersOfInterest()->first();\n",
    "// the workspace contains the number of observed events\n",
    "int nevt_obs = poi->getVal(); "
   ]
  },
  {
   "cell_type": "markdown",
   "metadata": {},
   "source": [
    "##### Make the b Model by cloning the b model and use a value = 0 for the parameter of interest"
   ]
  },
  {
   "cell_type": "code",
   "execution_count": 6,
   "metadata": {
    "collapsed": false
   },
   "outputs": [
    {
     "name": "stdout",
     "output_type": "stream",
     "text": [
      "\n",
      "=== Using the following for S+B Model ===\n",
      "Observables:             RooArgSet:: = (x)\n",
      "Parameters of Interest:  RooArgSet:: = (nsignal)\n",
      "Nuisance Parameters:     RooArgSet:: = (a1,a2,nbackground)\n",
      "PDF:                     RooAddPdf::model[ nbackground * bmodel + nsignal * smodel ] = 0.000354025\n",
      "Snapshot:                \n",
      "  1) 0x125301690 RooRealVar:: nsignal = 250 +/- 93.6477  L(0 - 1000)  \"nsignal\"\n",
      "\n",
      "\n",
      "=== Using the following for B Model ===\n",
      "Observables:             RooArgSet:: = (x)\n",
      "Parameters of Interest:  RooArgSet:: = (nsignal)\n",
      "Nuisance Parameters:     RooArgSet:: = (a1,a2,nbackground)\n",
      "PDF:                     RooAddPdf::model[ nbackground * bmodel + nsignal * smodel ] = 0.000354025\n",
      "Snapshot:                \n",
      "  1) 0x10dd7d560 RooRealVar:: nsignal = 0 +/- 93.6477  L(0 - 1000)  \"nsignal\"\n",
      "\n"
     ]
    }
   ],
   "source": [
    "auto bModel = (RooStats::ModelConfig*) sbModel->Clone();\n",
    "sbModel->SetName(\"S+B Model\");\n",
    "poi->setVal(250);\n",
    "sbModel->SetSnapshot( *poi);\n",
    "bModel->SetName(\"B Model\");\n",
    "poi->setVal(0);\n",
    "bModel->SetSnapshot( *poi  );\n",
    "sbModel->Print();\n",
    "bModel->Print();\n",
    "poi->setVal(nevt_obs);"
   ]
  },
  {
   "cell_type": "markdown",
   "metadata": {},
   "source": [
    "#### Make the signal parameters varying in the fit\n",
    "\n",
    "To study the LEE we do not fix the mass of the signal peak, we must keep it varying\n",
    "\n",
    "Again we fix the background parameters to speed-up the fitting time for the toys"
   ]
  },
  {
   "cell_type": "code",
   "execution_count": 7,
   "metadata": {
    "collapsed": false
   },
   "outputs": [],
   "source": [
    "w->var(\"mass\")->setConstant(false);\n",
    "w->var(\"width\")->setConstant(true);\n",
    "w->var(\"a1\")->setConstant(true);\n",
    "w->var(\"a2\")->setConstant(true);"
   ]
  },
  {
   "cell_type": "markdown",
   "metadata": {
    "collapsed": true
   },
   "source": [
    "### Run the Frequentist Calculator\n",
    "\n",
    "We run now on the same model the FrequentistCalculator. The Frequentist Calculator uses the test statistic distributions obtained with pseudo-experiments."
   ]
  },
  {
   "cell_type": "code",
   "execution_count": 8,
   "metadata": {
    "collapsed": false
   },
   "outputs": [],
   "source": [
    "RooStats::FrequentistCalculator   fc(*data, *sbModel, *bModel);\n",
    "// to enable Proof\n",
    "RooStats::ProofConfig pc(*w, 0, \"\", kFALSE);"
   ]
  },
  {
   "cell_type": "markdown",
   "metadata": {
    "collapsed": false
   },
   "source": [
    "We configure the Frequentist calculator by specifying the number of toys for the two hypothesis "
   ]
  },
  {
   "cell_type": "markdown",
   "metadata": {
    "collapsed": false
   },
   "source": [
    "We need also to specify the test statistics type. Here are some possible test statistics to use "
   ]
  },
  {
   "cell_type": "code",
   "execution_count": 9,
   "metadata": {
    "collapsed": false
   },
   "outputs": [],
   "source": [
    "testStat = new RooStats::ProfileLikelihoodTestStat(*sbModel->GetPdf());\n",
    "// needed for PL test statistics\n",
    "testStat->SetOneSidedDiscovery(true);\n",
    "// to enable debug of fitting toys\n",
    "//testStat->SetPrintLevel(-1);"
   ]
  },
  {
   "cell_type": "code",
   "execution_count": 10,
   "metadata": {
    "collapsed": false
   },
   "outputs": [],
   "source": [
    "toymcs = (RooStats::ToyMCSampler*)fc.GetTestStatSampler();\n",
    "toymcs->SetTestStatistic(testStat);\n",
    "toymcs->SetGenerateBinned(true);\n",
    "// toymcs->SetProofConfig(&pc);    // to use PROOF "
   ]
  },
  {
   "cell_type": "markdown",
   "metadata": {},
   "source": [
    "#### Set the number of pseudo-experiments\n",
    "\n",
    "We generate toys only for the null hypothesis. Not interested now in the expected significance"
   ]
  },
  {
   "cell_type": "code",
   "execution_count": 11,
   "metadata": {
    "collapsed": false
   },
   "outputs": [],
   "source": [
    "fc.SetToys(2000,1);   "
   ]
  },
  {
   "cell_type": "markdown",
   "metadata": {},
   "source": [
    "#### Run now the calculator\n",
    "\n",
    "It can take some time... be patient "
   ]
  },
  {
   "cell_type": "code",
   "execution_count": 12,
   "metadata": {
    "collapsed": false
   },
   "outputs": [
    {
     "name": "stdout",
     "output_type": "stream",
     "text": [
      "\n",
      "=== Using the following for B Model ===\n",
      "Observables:             RooArgSet:: = (x)\n",
      "Parameters of Interest:  RooArgSet:: = (nsignal)\n",
      "Nuisance Parameters:     RooArgSet:: = (a1,a2,nbackground)\n",
      "PDF:                     RooAddPdf::model[ nbackground * bmodel + nsignal * smodel ] = 0.000350861\n",
      "Snapshot:                \n",
      "  1) 0x125988790 RooRealVar:: nsignal = 0 +/- 93.6477  L(0 - 1000)  \"nsignal\"\n",
      "\n",
      "\n",
      "=== Using the following for S+B Model ===\n",
      "Observables:             RooArgSet:: = (x)\n",
      "Parameters of Interest:  RooArgSet:: = (nsignal)\n",
      "Nuisance Parameters:     RooArgSet:: = (a1,a2,nbackground)\n",
      "PDF:                     RooAddPdf::model[ nbackground * bmodel + nsignal * smodel ] = 0.000350861\n",
      "Snapshot:                \n",
      "  1) 0x125988780 RooRealVar:: nsignal = 250 +/- 93.6477  L(0 - 1000)  \"nsignal\"\n",
      "\n",
      "[#0] PROGRESS:Generation -- Test Statistic on data: 7.99411\n",
      "[#1] INFO:InputArguments -- Profiling conditional MLEs for Null.\n",
      "[#1] INFO:InputArguments -- Using a ToyMCSampler. Now configuring for Null.\n",
      "[#0] PROGRESS:Generation -- generated toys: 500 / 2000\n",
      "[#0] PROGRESS:Generation -- generated toys: 1000 / 2000\n",
      "[#0] PROGRESS:Generation -- generated toys: 1500 / 2000\n",
      "[#1] INFO:InputArguments -- Profiling conditional MLEs for Alt.\n",
      "[#1] INFO:InputArguments -- Using a ToyMCSampler. Now configuring for Alt.\n",
      "\n",
      "Results HypoTestCalculator_result: \n",
      " - Null p-value = 0 +/- 0\n",
      " - Significance = inf +/- nan sigma\n",
      " - Number of Alt toys: 1\n",
      " - Number of Null toys: 2000\n",
      " - Test statistic evaluated on data: 7.99411\n",
      " - CL_b: 0 +/- 0\n",
      " - CL_s+b: 0 +/- 0\n",
      " - CL_s: Error: Cannot compute CLs because CLb = 0. Returning CLs = -1\n",
      "-1 +/- -1\n",
      "Real time 0:00:08, CP time 8.890\n"
     ]
    }
   ],
   "source": [
    "tw = new TStopwatch(); tw->Start(); \n",
    "result = fc.GetHypoTest(); \n",
    "result->Print();\n",
    "tw->Print();"
   ]
  },
  {
   "cell_type": "markdown",
   "metadata": {},
   "source": [
    "#### Plot now the test statistics distribution for the null hypothesis (B only)"
   ]
  },
  {
   "cell_type": "code",
   "execution_count": 13,
   "metadata": {
    "collapsed": false
   },
   "outputs": [
    {
     "data": {
      "image/png": "[encoded data removed]",
      "text/plain": [
       "<IPython.core.display.Image object>"
      ]
     },
     "metadata": {},
     "output_type": "display_data"
    },
    {
     "name": "stdout",
     "output_type": "stream",
     "text": [
      "[#0] WARNING:Plotting -- Could not determine xmin and xmax of sampling distribution that was given to plot.\n"
     ]
    },
    {
     "name": "stderr",
     "output_type": "stream",
     "text": [
      "Info in <TCanvas::MakeDefCanvas>:  created default TCanvas with name c1\n"
     ]
    }
   ],
   "source": [
    "plot = new RooStats::HypoTestPlot(*result);\n",
    "plot->SetLogYaxis(true);\n",
    "plot->Draw();\n",
    "gPad->Draw();"
   ]
  },
  {
   "cell_type": "markdown",
   "metadata": {},
   "source": [
    "We save the result in a file. We don;t want to loose the resulting information if we have run toys for some time. "
   ]
  },
  {
   "cell_type": "code",
   "execution_count": 14,
   "metadata": {
    "collapsed": false
   },
   "outputs": [],
   "source": [
    "fileOut = TFile::Open(\"HypoTestResult.root\",\"RECREATE\");\n",
    "result->Write();\n",
    "fileOut->Close();"
   ]
  },
  {
   "cell_type": "markdown",
   "metadata": {},
   "source": [
    "### Is Test statistic distribution like a chi-square distribution with n.d.f =1 ? \n",
    "\n",
    "We want to fit the null test statistic distribution to check if it is compatible with a chi2 distribution"
   ]
  },
  {
   "cell_type": "code",
   "execution_count": 15,
   "metadata": {
    "collapsed": false
   },
   "outputs": [
    {
     "name": "stdout",
     "output_type": "stream",
     "text": [
      "number of generated null toys = 2000\n"
     ]
    }
   ],
   "source": [
    "dist = result->GetNullDistribution();\n",
    "vec = dist->GetSamplingDistribution();\n",
    "cout << \"number of generated null toys = \" << vec.size() << endl;\n",
    "\n",
    "hdist = new TH1D(\"hdist\",\"Test Statistic distribution\",200,0,10);\n",
    "hdist->FillN(vec.size(),vec.data(),nullptr);\n",
    "// merge all underflows (failing fits) in the first bin (bin 0)\n",
    "hdist->SetBinContent(1, hdist->GetBinContent(0)+hdist->GetBinContent(1));"
   ]
  },
  {
   "cell_type": "markdown",
   "metadata": {
    "collapsed": false
   },
   "source": [
    "Create the fit function as a 1/2 chisquared. Special case for forst bin (x < 0.05) \n",
    "Also the quantity plotted is the log-likelihood ratio and not 2 x log-likelihood ratio .\n",
    "0.05 is the histogram bin width. "
   ]
  },
  {
   "cell_type": "code",
   "execution_count": 16,
   "metadata": {
    "collapsed": true
   },
   "outputs": [],
   "source": [
    "fchi2 = new TF1(\"chi2\",\"[](double*x,double*p){ if (x[0] < 0.05) { return 0.5*p[0]+ 0.5*p[0]*ROOT::Math::chisquared_cdf(0.1,p[1]); } else { return 0.05*p[0]*ROOT::Math::chisquared_pdf(2*x[0],p[1]); } }\",0.,10.,2,1);"
   ]
  },
  {
   "cell_type": "markdown",
   "metadata": {},
   "source": [
    "##### Comparison of test statistic distribution vs 1/2 $\\chi^2$ distribution with *ndf = 1*"
   ]
  },
  {
   "cell_type": "code",
   "execution_count": 17,
   "metadata": {
    "collapsed": false
   },
   "outputs": [
    {
     "data": {
      "image/png": "[encoded data removed]",
      "text/plain": [
       "<IPython.core.display.Image object>"
      ]
     },
     "metadata": {},
     "output_type": "display_data"
    }
   ],
   "source": [
    "hdist->Draw();\n",
    "fchi2->SetParameters(vec.size(),1);\n",
    "fchi2->SetNpx(1000);\n",
    "fchi2->SetLineColor(kGreen);\n",
    "fchi2->DrawCopy(\"SAME\");\n",
    "fchi2->SetLineColor(kRed);\n",
    "gPad->Draw();"
   ]
  },
  {
   "cell_type": "markdown",
   "metadata": {
    "collapsed": false
   },
   "source": [
    "#### Fit obtained distribution with  1/2 $\\chi^2$ "
   ]
  },
  {
   "cell_type": "code",
   "execution_count": 18,
   "metadata": {
    "collapsed": false
   },
   "outputs": [
    {
     "data": {
      "image/png": "[encoded data removed]",
      "text/plain": [
       "<IPython.core.display.Image object>"
      ]
     },
     "metadata": {},
     "output_type": "display_data"
    },
    {
     "name": "stdout",
     "output_type": "stream",
     "text": [
      " FCN=279.609 FROM MIGRAD    STATUS=CONVERGED      41 CALLS          42 TOTAL\n",
      "                     EDM=3.51295e-08    STRATEGY= 1      ERROR MATRIX ACCURATE \n",
      "  EXT PARAMETER                                   STEP         FIRST   \n",
      "  NO.   NAME      VALUE            ERROR          SIZE      DERIVATIVE \n",
      "   1  p0           2.00008e+03   4.47232e+01   5.16850e-01   2.34286e-08\n",
      "   2  p1           2.40315e+00   4.90742e-02   5.67072e-04  -3.81924e-03\n",
      "                               ERR DEF= 0.5\n"
     ]
    }
   ],
   "source": [
    "// do integral fit \n",
    "hdist->Fit(fchi2,\"L I \",\"SAME\");\n",
    "gStyle->SetOptFit(1111);\n",
    "gPad->Draw();"
   ]
  },
  {
   "cell_type": "code",
   "execution_count": null,
   "metadata": {
    "collapsed": true
   },
   "outputs": [],
   "source": []
  }
 ],
 "metadata": {
  "kernelspec": {
   "display_name": "ROOT C++",
   "language": "c++",
   "name": "root"
  },
  "language_info": {
   "codemirror_mode": "text/x-c++src",
   "file_extension": ".C",
   "mimetype": " text/x-c++src",
   "name": "c++"
  }
 },
 "nbformat": 4,
 "nbformat_minor": 0
}
