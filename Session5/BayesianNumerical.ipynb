{
 "cells": [
  {
   "cell_type": "markdown",
   "metadata": {},
   "source": [
    "## Bayesian Interval Estimation \n",
    "\n",
    "In this example we compute a Bayesian credible interval using the RooStats `BayesianCalculator`.  \n",
    "The interval is obtained from the Posterior probability function, which can be computed using the Bayes theorem\n",
    "\n",
    "$$P( \\mu | x ) = \\frac { \\int L (x | \\mu , \\nu ) \\Pi ( \\mu, \\nu ) d\\nu } { \\int \\int L (x | \\mu , \\nu ) \\Pi ( \\mu, \\nu ) d \\mu d\\nu} $$\n",
    "\n",
    "The class computes the posterior using adaptive numerical integration or Monte Carlo integration based on Vegas. \n",
    "This calculator works only for a single parameter of interest, but can work with few nuisance parameters."
   ]
  },
  {
   "cell_type": "code",
   "execution_count": null,
   "metadata": {
    "collapsed": false
   },
   "outputs": [],
   "source": [
    "//%jsroot on"
   ]
  },
  {
   "cell_type": "code",
   "execution_count": null,
   "metadata": {
    "collapsed": false
   },
   "outputs": [],
   "source": [
    "//using namespace Roostats;\n",
    "RooStats::SimpleInterval * interval = nullptr;\n",
    "RooPlot * plot = nullptr;\n",
    "RooAbsPdf * priorPdf = nullptr;"
   ]
  },
  {
   "cell_type": "markdown",
   "metadata": {},
   "source": [
    "##### 1. Reading the model (Workspace) from input file\n",
    "\n",
    "First part is just to access the workspace file and retrieve the model and the data "
   ]
  },
  {
   "cell_type": "code",
   "execution_count": null,
   "metadata": {
    "collapsed": false
   },
   "outputs": [],
   "source": [
    "TString fileName = \"CountingModelFixedB.root\";\n",
    "TString workspaceName = \"w\";\n",
    "TString modelConfigName = \"ModelConfig\";\n",
    "TString dataName = \"data\";\n",
    "TString integrationType = \"\";  "
   ]
  },
  {
   "cell_type": "code",
   "execution_count": null,
   "metadata": {
    "collapsed": false
   },
   "outputs": [],
   "source": [
    "auto file = TFile::Open(fileName);"
   ]
  },
  {
   "cell_type": "code",
   "execution_count": null,
   "metadata": {
    "collapsed": false
   },
   "outputs": [],
   "source": [
    "auto w =  (RooWorkspace*) file->Get(workspaceName);\n",
    "w->Print();\n",
    "auto mc = (RooStats::ModelConfig*) w->obj(modelConfigName);\n",
    "auto  data = w->data(dataName);"
   ]
  },
  {
   "cell_type": "markdown",
   "metadata": {},
   "source": [
    "Print information about the number of events and background (works only in case of the specific counting model)"
   ]
  },
  {
   "cell_type": "code",
   "execution_count": null,
   "metadata": {
    "collapsed": false
   },
   "outputs": [],
   "source": [
    "std::cout << \"number of observed events in the data : \" << std::endl;\n",
    "auto args = data->get(0);\n",
    "if (args) args->Print(\"V\");\n",
    "else  Error(\"BayesianNumerical\",\"Input data does not contain any event\");\n",
    "std::cout << \"number of background events \" << w->var(\"b\")->getVal() << std::endl;"
   ]
  },
  {
   "cell_type": "markdown",
   "metadata": {},
   "source": [
    "#### 2. Create and configure the `BayesianCalculator` class"
   ]
  },
  {
   "cell_type": "code",
   "execution_count": null,
   "metadata": {
    "collapsed": false
   },
   "outputs": [],
   "source": [
    "RooStats::BayesianCalculator bayesianCalc(*data,*mc);"
   ]
  },
  {
   "cell_type": "markdown",
   "metadata": {},
   "source": [
    "##### Set a prior PDF, otherwise by default a uniform prior is used"
   ]
  },
  {
   "cell_type": "code",
   "execution_count": null,
   "metadata": {
    "collapsed": false
   },
   "outputs": [],
   "source": [
    "//priorPdf = new RooGenericPdf(\"priorPdf\",\"priorPdf\",\"1./sqrt(s)\",RooArgList(*w->var(\"s\")));\n",
    "//priorPdf = new RooGenericPdf(\"priorPdf\",\"priorPdf\",\"1./s\",RooArgList(*w->var(\"s\")));\n",
    "if (priorPdf) {\n",
    "    bayesianCalc.SetPriorPdf(*priorPdf); \n",
    "    priorPdf->Print();\n",
    "}"
   ]
  },
  {
   "cell_type": "markdown",
   "metadata": {},
   "source": [
    "#### Set the interval Confidence Level"
   ]
  },
  {
   "cell_type": "code",
   "execution_count": null,
   "metadata": {
    "collapsed": true
   },
   "outputs": [],
   "source": [
    "bayesianCalc.SetConfidenceLevel(0.90);"
   ]
  },
  {
   "cell_type": "markdown",
   "metadata": {},
   "source": [
    "##### Set the type of interval.\n",
    "\n",
    "One can have : \n",
    "\n",
    "- shortest interval\n",
    "- central interval (equal fraction of probability in the tails) \n",
    "- lower limit    \n",
    "- upper limit  \n",
    "\n",
    "The distinction between lower/upper and central interval is done by setting the left side tail fraction of probability.\n",
    "The default here is central intervals"
   ]
  },
  {
   "cell_type": "code",
   "execution_count": null,
   "metadata": {
    "collapsed": true
   },
   "outputs": [],
   "source": [
    "//bayesianCalc.SetLeftSideTailFraction(0.5); // for central intervals\n",
    "bayesianCalc.SetLeftSideTailFraction(0);  // for upper limit\n",
    "//bayesianCalc.SetShortestInterval();       // for shortest intervals"
   ]
  },
  {
   "cell_type": "markdown",
   "metadata": {},
   "source": [
    "Set integration type and configure it if needed. If nothing is specified use the default integrator in RooFit."
   ]
  },
  {
   "cell_type": "code",
   "execution_count": null,
   "metadata": {
    "collapsed": false
   },
   "outputs": [],
   "source": [
    "RooAbsReal::defaultIntegratorConfig()->method1D().setLabel(\"RooAdaptiveGaussKronrodIntegrator1D\");\n",
    "//integrationType = \"VEGAS\";\n",
    "//bayesianCalc.SetIntegrationType(integrationType); \n",
    "//bayesianCalc.SetNumIters(1000);"
   ]
  },
  {
   "cell_type": "markdown",
   "metadata": {},
   "source": [
    "Compute the interval scanning the posterior function in the given number of points"
   ]
  },
  {
   "cell_type": "code",
   "execution_count": null,
   "metadata": {
    "collapsed": true
   },
   "outputs": [],
   "source": [
    "bayesianCalc.SetScanOfPosterior(100);"
   ]
  },
  {
   "cell_type": "markdown",
   "metadata": {},
   "source": [
    "#### 3. Compute the interval\n",
    "\n",
    "Run the calculator by computing the posterior probability using Bayes theorem. The nuisance parameters are integrated\n",
    "(marginalized out). "
   ]
  },
  {
   "cell_type": "code",
   "execution_count": null,
   "metadata": {
    "collapsed": false
   },
   "outputs": [],
   "source": [
    "interval = bayesianCalc.GetInterval();"
   ]
  },
  {
   "cell_type": "code",
   "execution_count": null,
   "metadata": {
    "collapsed": false
   },
   "outputs": [],
   "source": [
    "cout << 100*bayesianCalc.ConfidenceLevel() << \"% interval is : [\"<< interval->LowerLimit() << \", \"<< interval->UpperLimit() <<\"] \"<<endl;"
   ]
  },
  {
   "cell_type": "markdown",
   "metadata": {
    "collapsed": true
   },
   "source": [
    "#### 4. Visualize the Interval"
   ]
  },
  {
   "cell_type": "code",
   "execution_count": null,
   "metadata": {
    "collapsed": false
   },
   "outputs": [],
   "source": [
    "plot = bayesianCalc.GetPosteriorPlot();"
   ]
  },
  {
   "cell_type": "code",
   "execution_count": null,
   "metadata": {
    "collapsed": false,
    "scrolled": false
   },
   "outputs": [],
   "source": [
    "plot->Draw(); gPad->Draw();"
   ]
  },
  {
   "cell_type": "markdown",
   "metadata": {
    "collapsed": true
   },
   "source": [
    "As continuation of the exercise one can varify the calculated interval for the simple Poisson case (with background=0) with the values shown in Table 1 of the paper of *R.D. Cousins, Why isn't every physicist a Bayesian, Am. J. Phys. 63, 398 (1995); http://dx.doi.org/10.1119/1.17901*"
   ]
  }
 ],
 "metadata": {
  "kernelspec": {
   "display_name": "ROOT C++",
   "language": "c++",
   "name": "root"
  },
  "language_info": {
   "codemirror_mode": "text/x-c++src",
   "file_extension": ".C",
   "mimetype": " text/x-c++src",
   "name": "c++"
  }
 },
 "nbformat": 4,
 "nbformat_minor": 0
}
