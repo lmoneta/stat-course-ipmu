{
 "cells": [
  {
   "cell_type": "markdown",
   "metadata": {},
   "source": [
    "## Frequentist Estimation of Limit/Interval\n",
    "\n",
    "The following example show how to compute a frequentist limit. \n",
    "\n",
    "The limit is computed with a techinique called hypothesis test inversion.\n",
    "An hypothesis test is performed for fixed values of the parameter of interest (e.g. $\\mu$). \n",
    "\n",
    "The test is built with profile log-likelihood ratio as test statistics and using as $H_0$, the null hypothesis, the $S+B$ model vs $H_1$, the B$ only model. \n",
    "\n",
    "For each $\\mu$ value, a p-value, which is the significance $\\alpha$ of the test, is obtained and plotted as function of $\\mu$. \n",
    "\n",
    "The interval at a given confidence level, CL = $1-\\alpha_0$, is then obtained by looking at the values of $\\mu$ which have a p-value equal to $\\alpha_0$.\n",
    "\n",
    "Different type of interval can be computed depending on the test statistics used. \n",
    "\n",
    "-  For upper limit the used test statistics is the one-side profiled likelihood :\n",
    "\n",
    "$$q_\\mu = - 2 \\log \\frac { L( x \\ | \\ \\mu , \\hat{\\hat{\\nu} } ) }{  L( x \\ | \\ \\hat{\\mu} , \\hat{\\nu}  ) } \\  \\  \\ \\mathrm{for} \\  \\  \n",
    "\\hat{\\mu} \\le \\mu_{TEST}$$\n",
    "$$q_\\mu = 0     \\hspace{3cm}     \\ \\mathrm{for} \\  \\  \n",
    "\\hat{\\mu} \\gt \\mu_{TEST}$$\n",
    "\n",
    "   The limit is then computed using the $CL_s$ procedure, i.e. the actual p-value used to build the scan curve is \n",
    "   $$CL_s = \\frac{ CL_{S+B} } {CL_B } $$\n",
    "   \n",
    "- For Feldman-Cousins interval the two-sided profile likelihood is used:    \n",
    "\n",
    "$$q_\\mu = - 2 \\log \\frac { L( x \\ | \\ \\mu , \\hat{\\hat{\\nu} } ) }{  L( x \\ | \\ \\hat{\\mu} , \\hat{\\nu}  ) }$$\n",
    "\n",
    "   for every obtained  $ \\hat{\\mu}$ value.\n",
    "   \n",
    "The code can also compute expected limits using the Asimov data set. \n",
    "\n",
    "At the beginning we compute the limit using the asympotic approximation of the distribution of the profile likelihood test statistics and we don't need to generate pseudo-experiments.  See paper *G. Cowan et al., arXiv:1007.1727,EPJC 71 (2011)* \n",
    "\n",
    "The asymptotic approximation is used only for computing $CL_s$ limits\n",
    "\n",
    "Later we compute the full frequentist limit using pseudo-experiments and profiling nuisance parameter if are present. \n"
   ]
  },
  {
   "cell_type": "code",
   "execution_count": 1,
   "metadata": {
    "collapsed": true
   },
   "outputs": [],
   "source": [
    "using namespace RooStats;"
   ]
  },
  {
   "cell_type": "code",
   "execution_count": 2,
   "metadata": {
    "collapsed": false
   },
   "outputs": [],
   "source": [
    "HypoTestInverter * calc = nullptr;\n",
    "HypoTestInverterResult * result = nullptr; \n",
    "HypoTestInverterPlot * plot = nullptr; \n",
    "ProfileLikelihoodTestStat * testStat = nullptr; \n",
    "ToyMCSampler * toymcs = nullptr; \n",
    "SamplingDistPlot * distplot = nullptr;\n",
    "TCanvas * c1 = nullptr; \n",
    "TCanvas * c2 = nullptr; "
   ]
  },
  {
   "cell_type": "markdown",
   "metadata": {},
   "source": [
    "#####  Reading the model (Workspace) from input file\n",
    "\n",
    "First part is just to access the workspace file and retrieve the model and the data "
   ]
  },
  {
   "cell_type": "code",
   "execution_count": 3,
   "metadata": {
    "collapsed": false
   },
   "outputs": [
    {
     "name": "stdout",
     "output_type": "stream",
     "text": [
      "\n",
      "\u001b[1mRooFit v3.60 -- Developed by Wouter Verkerke and David Kirkby\u001b[0m \n",
      "                Copyright (C) 2000-2013 NIKHEF, University of California & Stanford University\n",
      "                All rights reserved, please read http://roofit.sourceforge.net/license.txt\n",
      "\n",
      "\n",
      "RooWorkspace(w) w contents\n",
      "\n",
      "variables\n",
      "---------\n",
      "(b,nobs,s)\n",
      "\n",
      "p.d.f.s\n",
      "-------\n",
      "RooPoisson::model[ x=nobs mean=nexp ] = 0.133853\n",
      "\n",
      "functions\n",
      "--------\n",
      "RooAddition::nexp[ s + b ] = 6\n",
      "\n",
      "datasets\n",
      "--------\n",
      "RooDataSet::data(nobs)\n",
      "\n",
      "parameter snapshots\n",
      "-------------------\n",
      "ModelConfig__snapshot = (s=3)\n",
      "\n",
      "named sets\n",
      "----------\n",
      "ModelConfig_Observables:(nobs)\n",
      "ModelConfig_POI:(s)\n",
      "ModelConfig__snapshot:(s)\n",
      "\n",
      "generic objects\n",
      "---------------\n",
      "RooStats::ModelConfig::ModelConfig\n",
      "\n",
      "\n",
      "=== Using the following for ModelConfig ===\n",
      "Observables:             RooArgSet:: = (nobs)\n",
      "Parameters of Interest:  RooArgSet:: = (s)\n",
      "PDF:                     RooPoisson::model[ x=nobs mean=nexp ] = 0.133853\n",
      "Snapshot:                \n",
      "  1) 0x125a23c30 RooRealVar:: s = 3  L(0 - 15)  \"s\"\n",
      "\n"
     ]
    }
   ],
   "source": [
    "TString fileName = \"CountingModelFixedB.root\";\n",
    "TString workspaceName = \"w\";\n",
    "TString modelConfigName = \"ModelConfig\";\n",
    "TString dataName = \"data\";\n",
    "TString integrationType = \"\";  \n",
    "// Use Minuit2 for minimization\n",
    "ROOT::Math::MinimizerOptions::SetDefaultMinimizer(\"Minuit2\");\n",
    "// open the file \n",
    "auto file = TFile::Open(fileName);\n",
    "// read workspace from the file \n",
    "auto w =  (RooWorkspace*) file->Get(workspaceName);\n",
    "w->Print();\n",
    "auto sbModel = (RooStats::ModelConfig*) w->obj(modelConfigName);\n",
    "sbModel->Print();\n",
    "auto  data = w->data(dataName);\n",
    "auto poi = (RooRealVar*) sbModel->GetParametersOfInterest()->first();"
   ]
  },
  {
   "cell_type": "markdown",
   "metadata": {},
   "source": [
    "Print information about the number of events and background (works only in case of the specific counting model)"
   ]
  },
  {
   "cell_type": "code",
   "execution_count": 4,
   "metadata": {
    "collapsed": false
   },
   "outputs": [
    {
     "name": "stdout",
     "output_type": "stream",
     "text": [
      "number of observed events in the data : \n",
      "  1) RooRealVar:: nobs = 4\n",
      "number of background events 3\n"
     ]
    }
   ],
   "source": [
    "std::cout << \"number of observed events in the data : \" << std::endl;\n",
    "auto args = data->get(0);\n",
    "if (args) args->Print(\"V\");\n",
    "else  Error(\"BayesianNumerical\",\"Input data does not contain any event\");\n",
    "std::cout << \"number of background events \" << w->var(\"b\")->getVal() << std::endl;"
   ]
  },
  {
   "cell_type": "markdown",
   "metadata": {},
   "source": [
    "##### Make the b Model by cloning the b model and use a value = 0 for the parameter of interest"
   ]
  },
  {
   "cell_type": "code",
   "execution_count": 5,
   "metadata": {
    "collapsed": false
   },
   "outputs": [
    {
     "name": "stdout",
     "output_type": "stream",
     "text": [
      "  1) RooRealVar:: s = 3\n"
     ]
    }
   ],
   "source": [
    "sbModel->SetName(\"S+B Model\");\n",
    "auto bModel = (RooStats::ModelConfig*) sbModel->Clone(\"B Model\");\n",
    "poi->setVal(0);\n",
    "bModel->SetSnapshot( *poi  );\n",
    "sbModel->GetSnapshot()->Print(\"V\");"
   ]
  },
  {
   "cell_type": "markdown",
   "metadata": {},
   "source": [
    "###  Computation using Asymptotic formula\n",
    "\n",
    "#### we create first the hypothesis test calculator: the `AsymptoticCalculator`\n",
    " \n",
    "Note that in this case the NULL model is the S+B model. "
   ]
  },
  {
   "cell_type": "code",
   "execution_count": 6,
   "metadata": {
    "collapsed": false
   },
   "outputs": [
    {
     "name": "stdout",
     "output_type": "stream",
     "text": [
      "[#0] PROGRESS:Eval -- AsymptoticCalculator::Initialize....\n",
      "[#0] PROGRESS:Eval -- AsymptoticCalculator::Initialize - Find  best unconditional NLL on observed data\n",
      "AsymptoticCalculator::EvaluateNLL  ........ using Minuit2 / Migrad with strategy  1 and tolerance 1\n",
      "Minuit2Minimizer: Minimize with max-calls 500 convergence for edm < 1 strategy 1\n",
      "Minuit2Minimizer : Valid minimum - status = 0\n",
      "FVAL  = 1.63287648607349523\n",
      "Edm   = 1.00184109331076172e-07\n",
      "Nfcn  = 25\n",
      "s\t  = 1.0009\t +/-  1.90622\t(limited)\n",
      "AsymptoticCalculator::EvaluateNLL -  value = 1.63288\tfit time : Real time 0:00:00, CP time 0.030\n",
      "[#0] PROGRESS:Eval -- Best fitted POI value = 1.0009 +/- 1.90622\n",
      "[#0] PROGRESS:Eval -- AsymptoticCalculator: Building Asimov data Set\n",
      "[#1] INFO:InputArguments -- AsymptoticCalculator: Asimov data will be generated using fitted nuisance parameter values\n",
      "MakeAsimov: Setting poi s to a constant value = 0\n",
      "Generated Asimov data for observables RooArgSet:: = (nobs)\n",
      "[#0] PROGRESS:Eval -- AsymptoticCalculator::Initialize Find  best conditional NLL on ASIMOV data set for given alt POI ( s ) = 0\n",
      "AsymptoticCalculator::EvaluateNLL -  value = 1.49592 for poi fixed at = 0\n"
     ]
    }
   ],
   "source": [
    "// RooStats::AsymptoticCalculator::SetPrintLevel(-1);  // to switch off print level \n",
    "RooStats::AsymptoticCalculator  asymCalc(*data, *bModel, *sbModel);"
   ]
  },
  {
   "cell_type": "code",
   "execution_count": 7,
   "metadata": {
    "collapsed": true
   },
   "outputs": [],
   "source": [
    "asymCalc.SetOneSided(true);  // for one-side test (compute a limit)\n",
    "//asymCalc.SetPrintLevel(-1);  // to suppress print level "
   ]
  },
  {
   "cell_type": "markdown",
   "metadata": {},
   "source": [
    "####  Create the HypoTestInverter calculator and configure it "
   ]
  },
  {
   "cell_type": "code",
   "execution_count": 8,
   "metadata": {
    "collapsed": false
   },
   "outputs": [
    {
     "name": "stdout",
     "output_type": "stream",
     "text": [
      "[#1] INFO:InputArguments -- HypoTestInverter ---- Input models: \n",
      "\t\t using as S+B (null) model     : S+B Model\n",
      "\t\t using as B (alternate) model  : B Model\n",
      "\n"
     ]
    }
   ],
   "source": [
    "calc = new RooStats::HypoTestInverter(asymCalc); "
   ]
  },
  {
   "cell_type": "markdown",
   "metadata": {},
   "source": [
    "Configure the calculator"
   ]
  },
  {
   "cell_type": "code",
   "execution_count": 9,
   "metadata": {
    "collapsed": false
   },
   "outputs": [],
   "source": [
    "calc->SetConfidenceLevel(0.90);\n",
    "calc->UseCLs(true); \n",
    "calc->SetVerbose(false);\n",
    "\n",
    "calc->SetFixedScan(10,0.0,6.0); // set number of points , xmin and xmax \n",
    "\n",
    "asymCalc.SetOneSided(true);  // for one-side test (compute a limit)\n",
    "asymCalc.SetPrintLevel(-1); "
   ]
  },
  {
   "cell_type": "markdown",
   "metadata": {},
   "source": [
    "#### Run now the calculator to compute the interval "
   ]
  },
  {
   "cell_type": "code",
   "execution_count": 10,
   "metadata": {
    "collapsed": false
   },
   "outputs": [
    {
     "name": "stdout",
     "output_type": "stream",
     "text": [
      "[#1] INFO:Eval -- HypoTestInverter::GetInterval - run a fixed scan\n",
      "[#1] INFO:InputArguments -- Minimum of POI is 0 corresponds to alt  snapshot   - using qtilde asymptotic formulae  \n",
      "[#1] INFO:Eval -- Using one-sided qmu - setting qmu to zero  muHat = 1.0009 muTest = 0\n",
      "[#1] INFO:ObjectHandling -- RooWorkspace::saveSnaphot(w) replacing previous snapshot with name S+B Model__snapshot\n",
      "[#1] INFO:Eval -- Using one-sided qmu - setting qmu to zero  muHat = 1.0009 muTest = 0.666667\n",
      "[#1] INFO:ObjectHandling -- RooWorkspace::saveSnaphot(w) replacing previous snapshot with name S+B Model__snapshot\n",
      "[#1] INFO:ObjectHandling -- RooWorkspace::saveSnaphot(w) replacing previous snapshot with name S+B Model__snapshot\n",
      "[#1] INFO:ObjectHandling -- RooWorkspace::saveSnaphot(w) replacing previous snapshot with name S+B Model__snapshot\n",
      "[#1] INFO:ObjectHandling -- RooWorkspace::saveSnaphot(w) replacing previous snapshot with name S+B Model__snapshot\n",
      "[#1] INFO:ObjectHandling -- RooWorkspace::saveSnaphot(w) replacing previous snapshot with name S+B Model__snapshot\n",
      "[#1] INFO:ObjectHandling -- RooWorkspace::saveSnaphot(w) replacing previous snapshot with name S+B Model__snapshot\n",
      "[#1] INFO:ObjectHandling -- RooWorkspace::saveSnaphot(w) replacing previous snapshot with name S+B Model__snapshot\n",
      "[#1] INFO:ObjectHandling -- RooWorkspace::saveSnaphot(w) replacing previous snapshot with name S+B Model__snapshot\n"
     ]
    }
   ],
   "source": [
    "result = calc->GetInterval();"
   ]
  },
  {
   "cell_type": "code",
   "execution_count": 11,
   "metadata": {
    "collapsed": false
   },
   "outputs": [
    {
     "name": "stdout",
     "output_type": "stream",
     "text": [
      "90% interval is : [0, 4.78386] \n",
      "The computed upper limit is: 4.78386\n",
      "Expected upper limits, using the B (alternate) model : \n",
      " expected limit (median) 3.84166\n",
      " expected limit (-1 sig) 2.49392\n",
      " expected limit (+1 sig) 6.15154\n",
      " expected limit (-2 sig) 1.76566\n",
      " expected limit (+2 sig) 8.41153\n"
     ]
    }
   ],
   "source": [
    "cout << 100*calc->ConfidenceLevel() << \"% interval is : [\"<< result->LowerLimit() << \", \"<< result->UpperLimit() <<\"] \"<<endl;\n",
    "\n",
    "std::cout << \"The computed upper limit is: \" << result->UpperLimit() << std::endl;\n",
    "  \n",
    "  // compute expected limit\n",
    "  std::cout << \"Expected upper limits, using the B (alternate) model : \" << std::endl;\n",
    "  std::cout << \" expected limit (median) \" << result->GetExpectedUpperLimit(0) << std::endl;\n",
    "  std::cout << \" expected limit (-1 sig) \" << result->GetExpectedUpperLimit(-1) << std::endl;\n",
    "  std::cout << \" expected limit (+1 sig) \" << result->GetExpectedUpperLimit(1) << std::endl;\n",
    "  std::cout << \" expected limit (-2 sig) \" << result->GetExpectedUpperLimit(-2) << std::endl;\n",
    "  std::cout << \" expected limit (+2 sig) \" << result->GetExpectedUpperLimit(2) << std::endl;"
   ]
  },
  {
   "cell_type": "markdown",
   "metadata": {},
   "source": [
    "#### Plot now the result of the scan of the hypothesis tests"
   ]
  },
  {
   "cell_type": "code",
   "execution_count": 12,
   "metadata": {
    "collapsed": false
   },
   "outputs": [
    {
     "data": {
      "image/png": "[encoded data removed]",
      "text/plain": [
       "<IPython.core.display.Image object>"
      ]
     },
     "metadata": {},
     "output_type": "display_data"
    },
    {
     "name": "stderr",
     "output_type": "stream",
     "text": [
      "Info in <TCanvas::MakeDefCanvas>:  created default TCanvas with name c1\n"
     ]
    }
   ],
   "source": [
    "plot = new RooStats::HypoTestInverterPlot(\"HTI_Result_Plot\",\"HypoTest Scan Result\",result);\n",
    "plot->Draw(\"CLb 2CL\");  // plot also CLb and CLs+b \n",
    "gPad->Draw();"
   ]
  },
  {
   "cell_type": "markdown",
   "metadata": {
    "collapsed": true
   },
   "source": [
    "### Frequentist Calculator\n",
    "\n",
    "We run now on the same model the FrequentistCalculator. The Frequentist Calculator uses the test statistic distributions obtained with pseudo-experiments."
   ]
  },
  {
   "cell_type": "markdown",
   "metadata": {},
   "source": [
    "#### Set the type of limit: CLs or FC ? "
   ]
  },
  {
   "cell_type": "code",
   "execution_count": 13,
   "metadata": {
    "collapsed": false
   },
   "outputs": [],
   "source": [
    "bool useCLs = false; "
   ]
  },
  {
   "cell_type": "code",
   "execution_count": 14,
   "metadata": {
    "collapsed": false
   },
   "outputs": [],
   "source": [
    "RooStats::FrequentistCalculator   fc(*data, *bModel, *sbModel);"
   ]
  },
  {
   "cell_type": "markdown",
   "metadata": {
    "collapsed": false
   },
   "source": [
    "We need also to specify the test statistics type. Here are some possible test statistics to use "
   ]
  },
  {
   "cell_type": "code",
   "execution_count": 15,
   "metadata": {
    "collapsed": false
   },
   "outputs": [],
   "source": [
    "testStat = new RooStats::ProfileLikelihoodTestStat(*sbModel->GetPdf());"
   ]
  },
  {
   "cell_type": "code",
   "execution_count": 16,
   "metadata": {
    "collapsed": false
   },
   "outputs": [],
   "source": [
    "toymcs = (RooStats::ToyMCSampler*)fc.GetTestStatSampler();\n",
    "toymcs->SetTestStatistic(testStat);"
   ]
  },
  {
   "cell_type": "code",
   "execution_count": 17,
   "metadata": {
    "collapsed": false
   },
   "outputs": [],
   "source": [
    "// for number counting experiments (i.e. when we have only one event per toy)\n",
    "// in general shape cases are extended model\n",
    "if (!sbModel->GetPdf()->canBeExtended())\n",
    "    toymcs->SetNEventsPerToy(1);"
   ]
  },
  {
   "cell_type": "markdown",
   "metadata": {},
   "source": [
    "We create and configure the RooStats calculators to compute the frequentist interval using the inversion of the hypothesis test"
   ]
  },
  {
   "cell_type": "code",
   "execution_count": 18,
   "metadata": {
    "collapsed": false
   },
   "outputs": [
    {
     "name": "stdout",
     "output_type": "stream",
     "text": [
      "[#1] INFO:InputArguments -- HypoTestInverter ---- Input models: \n",
      "\t\t using as S+B (null) model     : S+B Model\n",
      "\t\t using as B (alternate) model  : B Model\n",
      "\n"
     ]
    }
   ],
   "source": [
    "calc = new RooStats::HypoTestInverter(fc);"
   ]
  },
  {
   "cell_type": "markdown",
   "metadata": {},
   "source": [
    "#### Configure the Calculator\n",
    "\n",
    "We can configure the calculator to compute CLs limits or Feldman-Cousins intervals.\n",
    "These first lines are for CLs limits."
   ]
  },
  {
   "cell_type": "code",
   "execution_count": 19,
   "metadata": {
    "collapsed": false
   },
   "outputs": [],
   "source": [
    "// for CLS\n",
    "if (useCLs) {\n",
    "    calc->UseCLs(true);\n",
    "    testStat->SetOneSided(true);\n",
    "}"
   ]
  },
  {
   "cell_type": "markdown",
   "metadata": {},
   "source": [
    "These are for Feldman-Cousins intervals. Uncomment the lines if you want to compute them "
   ]
  },
  {
   "cell_type": "code",
   "execution_count": 20,
   "metadata": {
    "collapsed": false
   },
   "outputs": [],
   "source": [
    "// uncomment these lines for Feldman Cousins intervals\n",
    "if (!useCLs) {\n",
    "  calc->Clear();\n",
    "  calc->UseCLs(false);\n",
    "  testStat->SetOneSided(false);\n",
    "}"
   ]
  },
  {
   "cell_type": "markdown",
   "metadata": {
    "collapsed": false
   },
   "source": [
    "We configure the Frequentist calculator by specifying the number of toys for the two hypothesis "
   ]
  },
  {
   "cell_type": "code",
   "execution_count": 21,
   "metadata": {
    "collapsed": true
   },
   "outputs": [],
   "source": [
    "fc.SetToys(1000,1000);    // 1000 for null (S+B) and 500 for alt (B) "
   ]
  },
  {
   "cell_type": "markdown",
   "metadata": {},
   "source": [
    "#### Run the toys to compute the test statistic distributions\n",
    "\n",
    "Run now the calculator. We configure also the CL level and the range and number of points to scan. \n",
    "It can take some time... be patient "
   ]
  },
  {
   "cell_type": "code",
   "execution_count": 22,
   "metadata": {
    "collapsed": false,
    "scrolled": true
   },
   "outputs": [
    {
     "name": "stdout",
     "output_type": "stream",
     "text": [
      "[#1] INFO:Eval -- HypoTestInverter::GetInterval - run a fixed scan\n",
      "[#1] INFO:ObjectHandling -- RooWorkspace::saveSnaphot(w) replacing previous snapshot with name S+B Model__snapshot\n",
      "\n",
      "=== Using the following for S+B Model ===\n",
      "Observables:             RooArgSet:: = (nobs)\n",
      "Parameters of Interest:  RooArgSet:: = (s)\n",
      "PDF:                     RooPoisson::model[ x=nobs mean=nexp ] = 0.223677\n",
      "Snapshot:                \n",
      "  1) 0x125c5b220 RooRealVar:: s = 0.1  L(0 - 15)  \"s\"\n",
      "\n",
      "\n",
      "=== Using the following for B Model ===\n",
      "Observables:             RooArgSet:: = (nobs)\n",
      "Parameters of Interest:  RooArgSet:: = (s)\n",
      "PDF:                     RooPoisson::model[ x=nobs mean=nexp ] = 0.223677\n",
      "Snapshot:                \n",
      "  1) 0x125c5b220 RooRealVar:: s = 0  L(0 - 15)  \"s\"\n",
      "\n",
      "[#0] PROGRESS:Generation -- Test Statistic on data: 0.119568\n",
      "[#1] INFO:InputArguments -- Using a ToyMCSampler. Now configuring for Null.\n",
      "[#0] PROGRESS:Generation -- generated toys: 500 / 1000\n",
      "[#1] INFO:InputArguments -- Using a ToyMCSampler. Now configuring for Alt.\n",
      "[#0] PROGRESS:Generation -- generated toys: 500 / 1000\n",
      "[#1] INFO:ObjectHandling -- RooWorkspace::saveSnaphot(w) replacing previous snapshot with name S+B Model__snapshot\n",
      "\n",
      "=== Using the following for S+B Model ===\n",
      "Observables:             RooArgSet:: = (nobs)\n",
      "Parameters of Interest:  RooArgSet:: = (s)\n",
      "PDF:                     RooPoisson::model[ x=nobs mean=nexp ] = 0.210437\n",
      "Snapshot:                \n",
      "  1) 0x1003d3030 RooRealVar:: s = 0.655556  L(0 - 15)  \"s\"\n",
      "\n",
      "\n",
      "=== Using the following for B Model ===\n",
      "Observables:             RooArgSet:: = (nobs)\n",
      "Parameters of Interest:  RooArgSet:: = (s)\n",
      "PDF:                     RooPoisson::model[ x=nobs mean=nexp ] = 0.210437\n",
      "Snapshot:                \n",
      "  1) 0x1003d3030 RooRealVar:: s = 0  L(0 - 15)  \"s\"\n",
      "\n",
      "[#0] PROGRESS:Generation -- Test Statistic on data: 0.0157243\n",
      "[#1] INFO:InputArguments -- Using a ToyMCSampler. Now configuring for Null.\n",
      "[#0] PROGRESS:Generation -- generated toys: 500 / 1000\n",
      "[#1] INFO:InputArguments -- Using a ToyMCSampler. Now configuring for Alt.\n",
      "[#0] PROGRESS:Generation -- generated toys: 500 / 1000\n",
      "[#1] INFO:ObjectHandling -- RooWorkspace::saveSnaphot(w) replacing previous snapshot with name S+B Model__snapshot\n",
      "\n",
      "=== Using the following for S+B Model ===\n",
      "Observables:             RooArgSet:: = (nobs)\n",
      "Parameters of Interest:  RooArgSet:: = (s)\n",
      "PDF:                     RooPoisson::model[ x=nobs mean=nexp ] = 0.184577\n",
      "Snapshot:                \n",
      "  1) 0x125aec270 RooRealVar:: s = 1.21111  L(0 - 15)  \"s\"\n",
      "\n",
      "\n",
      "=== Using the following for B Model ===\n",
      "Observables:             RooArgSet:: = (nobs)\n",
      "Parameters of Interest:  RooArgSet:: = (s)\n",
      "PDF:                     RooPoisson::model[ x=nobs mean=nexp ] = 0.184577\n",
      "Snapshot:                \n",
      "  1) 0x125aedb70 RooRealVar:: s = 0  L(0 - 15)  \"s\"\n",
      "\n",
      "[#0] PROGRESS:Generation -- Test Statistic on data: 0.00535788\n",
      "[#1] INFO:InputArguments -- Using a ToyMCSampler. Now configuring for Null.\n",
      "[#0] PROGRESS:Generation -- generated toys: 500 / 1000\n",
      "[#1] INFO:InputArguments -- Using a ToyMCSampler. Now configuring for Alt.\n",
      "[#0] PROGRESS:Generation -- generated toys: 500 / 1000\n",
      "[#1] INFO:ObjectHandling -- RooWorkspace::saveSnaphot(w) replacing previous snapshot with name S+B Model__snapshot\n",
      "\n",
      "=== Using the following for S+B Model ===\n",
      "Observables:             RooArgSet:: = (nobs)\n",
      "Parameters of Interest:  RooArgSet:: = (s)\n",
      "PDF:                     RooPoisson::model[ x=nobs mean=nexp ] = 0.153588\n",
      "Snapshot:                \n",
      "  1) 0x125c8e740 RooRealVar:: s = 1.76667  L(0 - 15)  \"s\"\n",
      "\n",
      "\n",
      "=== Using the following for B Model ===\n",
      "Observables:             RooArgSet:: = (nobs)\n",
      "Parameters of Interest:  RooArgSet:: = (s)\n",
      "PDF:                     RooPoisson::model[ x=nobs mean=nexp ] = 0.153588\n",
      "Snapshot:                \n",
      "  1) 0x125c8e360 RooRealVar:: s = 0  L(0 - 15)  \"s\"\n",
      "\n",
      "[#0] PROGRESS:Generation -- Test Statistic on data: 0.0652428\n",
      "[#1] INFO:InputArguments -- Using a ToyMCSampler. Now configuring for Null.\n",
      "[#0] PROGRESS:Generation -- generated toys: 500 / 1000\n",
      "[#1] INFO:InputArguments -- Using a ToyMCSampler. Now configuring for Alt.\n",
      "[#0] PROGRESS:Generation -- generated toys: 500 / 1000\n",
      "[#1] INFO:ObjectHandling -- RooWorkspace::saveSnaphot(w) replacing previous snapshot with name S+B Model__snapshot\n",
      "\n",
      "=== Using the following for S+B Model ===\n",
      "Observables:             RooArgSet:: = (nobs)\n",
      "Parameters of Interest:  RooArgSet:: = (s)\n",
      "PDF:                     RooPoisson::model[ x=nobs mean=nexp ] = 0.122664\n",
      "Snapshot:                \n",
      "  1) 0x10039add0 RooRealVar:: s = 2.32222  L(0 - 15)  \"s\"\n",
      "\n",
      "\n",
      "=== Using the following for B Model ===\n",
      "Observables:             RooArgSet:: = (nobs)\n",
      "Parameters of Interest:  RooArgSet:: = (s)\n",
      "PDF:                     RooPoisson::model[ x=nobs mean=nexp ] = 0.122664\n",
      "Snapshot:                \n",
      "  1) 0x1003cbbd0 RooRealVar:: s = 0  L(0 - 15)  \"s\"\n",
      "\n",
      "[#0] PROGRESS:Generation -- Test Statistic on data: 0.179773\n",
      "[#1] INFO:InputArguments -- Using a ToyMCSampler. Now configuring for Null.\n",
      "[#0] PROGRESS:Generation -- generated toys: 500 / 1000\n",
      "[#1] INFO:InputArguments -- Using a ToyMCSampler. Now configuring for Alt.\n",
      "[#0] PROGRESS:Generation -- generated toys: 500 / 1000\n",
      "[#1] INFO:ObjectHandling -- RooWorkspace::saveSnaphot(w) replacing previous snapshot with name S+B Model__snapshot\n",
      "\n",
      "=== Using the following for S+B Model ===\n",
      "Observables:             RooArgSet:: = (nobs)\n",
      "Parameters of Interest:  RooArgSet:: = (s)\n",
      "PDF:                     RooPoisson::model[ x=nobs mean=nexp ] = 0.0947986\n",
      "Snapshot:                \n",
      "  1) 0x126b02390 RooRealVar:: s = 2.87778  L(0 - 15)  \"s\"\n",
      "\n",
      "\n",
      "=== Using the following for B Model ===\n",
      "Observables:             RooArgSet:: = (nobs)\n",
      "Parameters of Interest:  RooArgSet:: = (s)\n",
      "PDF:                     RooPoisson::model[ x=nobs mean=nexp ] = 0.0947986\n",
      "Snapshot:                \n",
      "  1) 0x125af3050 RooRealVar:: s = 0  L(0 - 15)  \"s\"\n",
      "\n",
      "[#0] PROGRESS:Generation -- Test Statistic on data: 0.338237\n",
      "[#1] INFO:InputArguments -- Using a ToyMCSampler. Now configuring for Null.\n",
      "[#0] PROGRESS:Generation -- generated toys: 500 / 1000\n",
      "[#1] INFO:InputArguments -- Using a ToyMCSampler. Now configuring for Alt.\n",
      "[#0] PROGRESS:Generation -- generated toys: 500 / 1000\n",
      "[#1] INFO:ObjectHandling -- RooWorkspace::saveSnaphot(w) replacing previous snapshot with name S+B Model__snapshot\n",
      "\n",
      "=== Using the following for S+B Model ===\n",
      "Observables:             RooArgSet:: = (nobs)\n",
      "Parameters of Interest:  RooArgSet:: = (s)\n",
      "PDF:                     RooPoisson::model[ x=nobs mean=nexp ] = 0.0713174\n",
      "Snapshot:                \n",
      "  1) 0x125af3050 RooRealVar:: s = 3.43333  L(0 - 15)  \"s\"\n",
      "\n",
      "\n",
      "=== Using the following for B Model ===\n",
      "Observables:             RooArgSet:: = (nobs)\n",
      "Parameters of Interest:  RooArgSet:: = (s)\n",
      "PDF:                     RooPoisson::model[ x=nobs mean=nexp ] = 0.0713174\n",
      "Snapshot:                \n",
      "  1) 0x126b04060 RooRealVar:: s = 0  L(0 - 15)  \"s\"\n",
      "\n",
      "[#0] PROGRESS:Generation -- Test Statistic on data: 0.532538\n",
      "[#1] INFO:InputArguments -- Using a ToyMCSampler. Now configuring for Null.\n",
      "[#0] PROGRESS:Generation -- generated toys: 500 / 1000\n",
      "[#1] INFO:InputArguments -- Using a ToyMCSampler. Now configuring for Alt.\n",
      "[#0] PROGRESS:Generation -- generated toys: 500 / 1000\n",
      "[#1] INFO:ObjectHandling -- RooWorkspace::saveSnaphot(w) replacing previous snapshot with name S+B Model__snapshot\n",
      "\n",
      "=== Using the following for S+B Model ===\n",
      "Observables:             RooArgSet:: = (nobs)\n",
      "Parameters of Interest:  RooArgSet:: = (s)\n",
      "PDF:                     RooPoisson::model[ x=nobs mean=nexp ] = 0.0524611\n",
      "Snapshot:                \n",
      "  1) 0x12622c1c0 RooRealVar:: s = 3.98889  L(0 - 15)  \"s\"\n",
      "\n",
      "\n",
      "=== Using the following for B Model ===\n",
      "Observables:             RooArgSet:: = (nobs)\n",
      "Parameters of Interest:  RooArgSet:: = (s)\n",
      "PDF:                     RooPoisson::model[ x=nobs mean=nexp ] = 0.0524611\n",
      "Snapshot:                \n",
      "  1) 0x12622c1c0 RooRealVar:: s = 0  L(0 - 15)  \"s\"\n",
      "\n",
      "[#0] PROGRESS:Generation -- Test Statistic on data: 0.756729\n",
      "[#1] INFO:InputArguments -- Using a ToyMCSampler. Now configuring for Null.\n",
      "[#0] PROGRESS:Generation -- generated toys: 500 / 1000\n",
      "[#1] INFO:InputArguments -- Using a ToyMCSampler. Now configuring for Alt.\n",
      "[#0] PROGRESS:Generation -- generated toys: 500 / 1000\n",
      "[#1] INFO:ObjectHandling -- RooWorkspace::saveSnaphot(w) replacing previous snapshot with name S+B Model__snapshot\n",
      "\n",
      "=== Using the following for S+B Model ===\n",
      "Observables:             RooArgSet:: = (nobs)\n",
      "Parameters of Interest:  RooArgSet:: = (s)\n",
      "PDF:                     RooPoisson::model[ x=nobs mean=nexp ] = 0.0378634\n",
      "Snapshot:                \n",
      "  1) 0x125c8e740 RooRealVar:: s = 4.54444  L(0 - 15)  \"s\"\n",
      "\n",
      "\n",
      "=== Using the following for B Model ===\n",
      "Observables:             RooArgSet:: = (nobs)\n",
      "Parameters of Interest:  RooArgSet:: = (s)\n",
      "PDF:                     RooPoisson::model[ x=nobs mean=nexp ] = 0.0378634\n",
      "Snapshot:                \n",
      "  1) 0x125c94330 RooRealVar:: s = 0  L(0 - 15)  \"s\"\n",
      "\n",
      "[#0] PROGRESS:Generation -- Test Statistic on data: 1.00638\n",
      "[#1] INFO:InputArguments -- Using a ToyMCSampler. Now configuring for Null.\n",
      "[#0] PROGRESS:Generation -- generated toys: 500 / 1000\n",
      "[#1] INFO:InputArguments -- Using a ToyMCSampler. Now configuring for Alt.\n",
      "[#0] PROGRESS:Generation -- generated toys: 500 / 1000\n",
      "[#1] INFO:ObjectHandling -- RooWorkspace::saveSnaphot(w) replacing previous snapshot with name S+B Model__snapshot\n",
      "\n",
      "=== Using the following for S+B Model ===\n",
      "Observables:             RooArgSet:: = (nobs)\n",
      "Parameters of Interest:  RooArgSet:: = (s)\n",
      "PDF:                     RooPoisson::model[ x=nobs mean=nexp ] = 0.0268855\n",
      "Snapshot:                \n",
      "  1) 0x10039add0 RooRealVar:: s = 5.1  L(0 - 15)  \"s\"\n",
      "\n",
      "\n",
      "=== Using the following for B Model ===\n",
      "Observables:             RooArgSet:: = (nobs)\n",
      "Parameters of Interest:  RooArgSet:: = (s)\n",
      "PDF:                     RooPoisson::model[ x=nobs mean=nexp ] = 0.0268855\n",
      "Snapshot:                \n",
      "  1) 0x1003cbbd0 RooRealVar:: s = 0  L(0 - 15)  \"s\"\n",
      "\n",
      "[#0] PROGRESS:Generation -- Test Statistic on data: 1.2777\n",
      "[#1] INFO:InputArguments -- Using a ToyMCSampler. Now configuring for Null.\n",
      "[#0] PROGRESS:Generation -- generated toys: 500 / 1000\n",
      "[#1] INFO:InputArguments -- Using a ToyMCSampler. Now configuring for Alt.\n",
      "[#0] PROGRESS:Generation -- generated toys: 500 / 1000\n"
     ]
    }
   ],
   "source": [
    "calc->Clear(); // needed if running a second time\n",
    "calc->SetConfidenceLevel(0.90);  \n",
    "calc->SetFixedScan(10,0.1,5.1); // set number of points , xmin and xmax \n",
    "result = calc->GetInterval();"
   ]
  },
  {
   "cell_type": "markdown",
   "metadata": {},
   "source": [
    "#### Examine the result\n",
    "\n",
    "We examine now the result of the calculator. \n",
    "From the scan we can also compute in addition to the observed interval limits, also the expected values (median and +/- 1,2 sigma), which are computed using the same pseudo-experiments used to compute the observed limits. "
   ]
  },
  {
   "cell_type": "code",
   "execution_count": 23,
   "metadata": {
    "collapsed": false
   },
   "outputs": [
    {
     "name": "stdout",
     "output_type": "stream",
     "text": [
      "90% interval is : [[#0] WARNING:Eval -- HypoTestInverterResult::CalculateEstimatedError - no valid points - cannot estimate  the lower limit error \n",
      "0, 5.29536] \n",
      "The computed upper limit is: 5.29536\n",
      "Expected upper limits, using the B (alternate) model : \n",
      " expected limit (median) 4.33976\n",
      " expected limit (-1 sig) 1.84004\n",
      " expected limit (+1 sig) 5.29536\n",
      " expected limit (-2 sig) 0.655556\n",
      " expected limit (+2 sig) 7.35624\n"
     ]
    }
   ],
   "source": [
    "cout << 100*calc->ConfidenceLevel() << \"% interval is : [\"<< result->LowerLimit() << \", \"<< result->UpperLimit() <<\"] \"<<endl;\n",
    "\n",
    "std::cout << \"The computed upper limit is: \" << result->UpperLimit() << std::endl;\n",
    "  \n",
    "  // compute expected limit\n",
    "  std::cout << \"Expected upper limits, using the B (alternate) model : \" << std::endl;\n",
    "  std::cout << \" expected limit (median) \" << result->GetExpectedUpperLimit(0) << std::endl;\n",
    "  std::cout << \" expected limit (-1 sig) \" << result->GetExpectedUpperLimit(-1) << std::endl;\n",
    "  std::cout << \" expected limit (+1 sig) \" << result->GetExpectedUpperLimit(1) << std::endl;\n",
    "  std::cout << \" expected limit (-2 sig) \" << result->GetExpectedUpperLimit(-2) << std::endl;\n",
    "  std::cout << \" expected limit (+2 sig) \" << result->GetExpectedUpperLimit(2) << std::endl;"
   ]
  },
  {
   "cell_type": "markdown",
   "metadata": {},
   "source": [
    "#### Plot Result of Scan"
   ]
  },
  {
   "cell_type": "code",
   "execution_count": 24,
   "metadata": {
    "collapsed": false
   },
   "outputs": [
    {
     "data": {
      "image/png": "[encoded data removed]",
      "text/plain": [
       "<IPython.core.display.Image object>"
      ]
     },
     "metadata": {},
     "output_type": "display_data"
    },
    {
     "name": "stderr",
     "output_type": "stream",
     "text": [
      "Warning in <TCanvas::Constructor>: Deleting canvas with same name: c1\n"
     ]
    }
   ],
   "source": [
    "c1 = new TCanvas(\"c1\",\"HypoTest Scan Result\");\n",
    "plot = new RooStats::HypoTestInverterPlot(\"HTI_Result_Plot\",\"HypoTest Scan Result\",result);\n",
    "if (useCLs) \n",
    " plot->Draw(\"CLb 2CL\");  // plot also CLb and CLs+b \n",
    "else \n",
    " plot->Draw(\"OBS\");  // draw only the observed value   \n",
    "     \n",
    "c1->SetLogy(0);\n",
    "c1->Draw();"
   ]
  },
  {
   "cell_type": "markdown",
   "metadata": {},
   "source": [
    "#### Plot Result of Test Statistic Distribution\n",
    "\n",
    "Plot now the test statistics distributions for some of the scanned points"
   ]
  },
  {
   "cell_type": "code",
   "execution_count": 25,
   "metadata": {
    "collapsed": true
   },
   "outputs": [],
   "source": [
    "//%jsroot on"
   ]
  },
  {
   "cell_type": "code",
   "execution_count": null,
   "metadata": {
    "collapsed": false
   },
   "outputs": [],
   "source": [
    "c2 = new TCanvas(\"c2\",\"Test Statistic Distributions\",1000,800);\n",
    "c2->Divide(2,2);\n",
    "for (int i = 1; i/2 < 5 && i < result->ArraySize(); i+=2){\n",
    "    c2->cd(i/2+1);\n",
    "    distplot = plot->MakeTestStatPlot(i);\n",
    "    distplot->SetLogYaxis(true);\n",
    "    distplot->Draw();\n",
    "    text = new TText(.6,.6,TString::Format(\"%s = %f\",poi->GetName(),result->GetXValue(i)));\n",
    "    text->SetNDC();\n",
    "    text->Draw();    \n",
    "}\n",
    "c2->Draw();"
   ]
  },
  {
   "cell_type": "code",
   "execution_count": null,
   "metadata": {
    "collapsed": false
   },
   "outputs": [],
   "source": []
  }
 ],
 "metadata": {
  "kernelspec": {
   "display_name": "ROOT C++",
   "language": "c++",
   "name": "root"
  },
  "language_info": {
   "codemirror_mode": "text/x-c++src",
   "file_extension": ".C",
   "mimetype": " text/x-c++src",
   "name": "c++"
  }
 },
 "nbformat": 4,
 "nbformat_minor": 0
}
