{
 "cells": [
  {
   "cell_type": "markdown",
   "metadata": {},
   "source": [
    "## Bayesian Interval Estimation using Markov Chain Monte Carlo  \n",
    "\n",
    "In this example we compute a Bayesian credible interval using the Markov Chain Monte Carlo method with the RooStats  `MCMCCalculator` class.\n",
    "\n",
    "The interval is obtained from the Posterior probability function, which is computed from the Bayes theorem using a \n",
    "Markov chain Monte Carlo\n",
    "\n",
    "$$P( \\mu | x ) = \\frac { \\int L (x | \\mu , \\nu ) \\Pi ( \\mu, \\nu ) d\\nu } { \\int \\int L (x | \\mu , \\nu ) \\Pi ( \\mu, \\nu ) d \\mu d\\nu} $$\n",
    "\n",
    "The output consists of a set of data points (the MC chain) which is distributed according to the posterior distribution. \n",
    "This calculator can work with many parameter of interests and many nuisance parameters.\n"
   ]
  },
  {
   "cell_type": "code",
   "execution_count": 1,
   "metadata": {
    "collapsed": true
   },
   "outputs": [],
   "source": [
    "//%jsroot on"
   ]
  },
  {
   "cell_type": "code",
   "execution_count": 2,
   "metadata": {
    "collapsed": false,
    "scrolled": true
   },
   "outputs": [],
   "source": [
    "using namespace RooStats;"
   ]
  },
  {
   "cell_type": "code",
   "execution_count": 3,
   "metadata": {
    "collapsed": false
   },
   "outputs": [],
   "source": [
    "MCMCInterval * interval = nullptr;\n",
    "MCMCIntervalPlot * plot = nullptr; \n",
    "ProposalFunction * proposalFunc = nullptr;\n",
    "RooAbsPdf * priorPdf = nullptr;\n",
    "TStopwatch tw;"
   ]
  },
  {
   "cell_type": "markdown",
   "metadata": {},
   "source": [
    "##### 1. Reading the model (Workspace) from input file\n",
    "\n",
    "First part is just to get the workspace from the input file and retrieve the model and the data set"
   ]
  },
  {
   "cell_type": "code",
   "execution_count": 4,
   "metadata": {
    "collapsed": false
   },
   "outputs": [],
   "source": [
    "//TString fileName = \"CountingModelVaryingB.root\";\n",
    "TString fileName = \"HiggsBinModel.root\";\n",
    "TString workspaceName = \"w\";\n",
    "TString modelConfigName = \"ModelConfig\";\n",
    "TString dataName = \"data\";\n",
    "TString integrationType = \"\";  "
   ]
  },
  {
   "cell_type": "code",
   "execution_count": 5,
   "metadata": {
    "collapsed": false
   },
   "outputs": [
    {
     "name": "stdout",
     "output_type": "stream",
     "text": [
      "\n",
      "\u001b[1mRooFit v3.60 -- Developed by Wouter Verkerke and David Kirkby\u001b[0m \n",
      "                Copyright (C) 2000-2013 NIKHEF, University of California & Stanford University\n",
      "                All rights reserved, please read http://roofit.sourceforge.net/license.txt\n",
      "\n"
     ]
    }
   ],
   "source": [
    "auto file = TFile::Open(fileName);"
   ]
  },
  {
   "cell_type": "code",
   "execution_count": 6,
   "metadata": {
    "collapsed": false
   },
   "outputs": [
    {
     "name": "stdout",
     "output_type": "stream",
     "text": [
      "\n",
      "RooWorkspace(w) w contents\n",
      "\n",
      "variables\n",
      "---------\n",
      "(a1,a2,mass,nbackground,nsignal,width,x)\n",
      "\n",
      "p.d.f.s\n",
      "-------\n",
      "RooExponential::bmodel[ x=z c=1 ] = 0.000354025\n",
      "RooAddPdf::model[ nbackground * bmodel + nsignal * smodel ] = 0.000350859\n",
      "RooGaussian::smodel[ x=x mean=mass sigma=width ] = 1.8233e-12\n",
      "\n",
      "functions\n",
      "--------\n",
      "RooFormulaVar::z[ actualVars=(a1,a2,x) formula=\"-(a1*x/100.+a2*(x/100.)^2)\" ] = -7.94614\n",
      "\n",
      "datasets\n",
      "--------\n",
      "RooDataHist::data(x)\n",
      "\n",
      "named sets\n",
      "----------\n",
      "ModelConfig_NuisParams:(a1,a2,nbackground)\n",
      "ModelConfig_Observables:(x)\n",
      "ModelConfig_POI:(nsignal)\n",
      "nuisParams:(a1,a2,nbackground)\n",
      "\n",
      "generic objects\n",
      "---------------\n",
      "RooStats::ModelConfig::ModelConfig\n",
      "\n"
     ]
    }
   ],
   "source": [
    "auto w =  (RooWorkspace*) file->Get(workspaceName);\n",
    "w->Print();\n",
    "auto mc = (RooStats::ModelConfig*) w->obj(modelConfigName);\n",
    "auto  data = w->data(dataName);\n",
    "mc->SetParametersOfInterest(RooArgSet(*w->var(\"nsignal\"),*w->var(\"mass\")));\n",
    "auto poi = (RooRealVar*) mc->GetParametersOfInterest()->first();  // get POI \n",
    "w->var(\"mass\")->setConstant(false);"
   ]
  },
  {
   "cell_type": "code",
   "execution_count": 7,
   "metadata": {
    "collapsed": true
   },
   "outputs": [],
   "source": [
    "// constraint nuisance parameters to +/- 10 sigma of their best fit\n",
    "a1 = w->var(\"a1\");\n",
    "a1->setMin(a1->getVal()-10*a1->getError());\n",
    "a1->setMax(a1->getVal()+10*a1->getError());\n",
    "\n",
    "a2 = w->var(\"a2\");\n",
    "a2->setMin(a2->getVal()-10*a2->getError());\n",
    "a2->setMax(a1->getVal()+10*a2->getError());"
   ]
  },
  {
   "cell_type": "markdown",
   "metadata": {},
   "source": [
    "#### 2. Create and configure the `MCMCCalculator` class"
   ]
  },
  {
   "cell_type": "code",
   "execution_count": 8,
   "metadata": {
    "collapsed": false
   },
   "outputs": [],
   "source": [
    "RooStats::MCMCCalculator mcmcCalc(*data,*mc);"
   ]
  },
  {
   "cell_type": "markdown",
   "metadata": {},
   "source": [
    "##### Set a prior PDF, otherwise by default a uniform prior is used\n",
    "\n",
    "We create here a Prior probability density function for the parameter of interest. "
   ]
  },
  {
   "cell_type": "code",
   "execution_count": 9,
   "metadata": {
    "collapsed": false
   },
   "outputs": [],
   "source": [
    "//priorPdf = (RooAbsPdf*) w->factory(\"EXPR::priorPdf('1./sqrt(s+b)',s)\");\n",
    "//priorPdf = new RooGenericPdf(\"priorPdf\",\"priorPdf\",\"1./(s)\",RooArgList(*w->var(\"s\")));"
   ]
  },
  {
   "cell_type": "markdown",
   "metadata": {},
   "source": [
    "If a prior pdf has been created, set it in the calculator. Otherwise, in case no prior is set, a default uniform prior in the parameters is used. "
   ]
  },
  {
   "cell_type": "code",
   "execution_count": 10,
   "metadata": {
    "collapsed": false
   },
   "outputs": [],
   "source": [
    "if (priorPdf) mcmcCalc.SetPriorPdf(*priorPdf);\n",
    "// this is needed to normalize the prior pdf\n",
    "RooAbsReal::defaultIntegratorConfig()->method1D().setLabel(\"RooAdaptiveGaussKronrodIntegrator1D\");"
   ]
  },
  {
   "cell_type": "markdown",
   "metadata": {},
   "source": [
    "##### Set the interval Confidence Level"
   ]
  },
  {
   "cell_type": "code",
   "execution_count": 11,
   "metadata": {
    "collapsed": true
   },
   "outputs": [],
   "source": [
    "mcmcCalc.SetConfidenceLevel(0.68);"
   ]
  },
  {
   "cell_type": "markdown",
   "metadata": {},
   "source": [
    "##### Set the type of interval.\n",
    "\n",
    "One can have : \n",
    "\n",
    "- shortest interval\n",
    "- central interval (equal fraction of probability in the tails) \n",
    "- lower limit    \n",
    "- upper limit  \n",
    "\n",
    "The distinction between lower/upper and central interval is done by setting the left side tail fraction of probability.\n",
    "\n",
    "Set the type of interval, default is shortest intervals"
   ]
  },
  {
   "cell_type": "code",
   "execution_count": 12,
   "metadata": {
    "collapsed": true
   },
   "outputs": [],
   "source": [
    "//mcmcCalc.SetLeftSideTailFraction(0.5);  // for central intervals\n",
    "//mcmcCalc.SetLeftSideTailFraction(0.);   // for upper limits"
   ]
  },
  {
   "cell_type": "markdown",
   "metadata": {},
   "source": [
    "##### Set proposal function and configure Markov-Chain Monte Carlo method"
   ]
  },
  {
   "cell_type": "code",
   "execution_count": 13,
   "metadata": {
    "collapsed": false
   },
   "outputs": [],
   "source": [
    "proposalFunc = new RooStats::SequentialProposal(0.1);\n",
    "mcmcCalc.SetProposalFunction(*proposalFunc);"
   ]
  },
  {
   "cell_type": "code",
   "execution_count": 14,
   "metadata": {
    "collapsed": true
   },
   "outputs": [],
   "source": [
    "mcmcCalc.SetNumIters(5000000);         // Metropolis-Hastings algorithm iterations\n",
    "mcmcCalc.SetNumBurnInSteps(1000);       // first N steps to be ignored as burn-in"
   ]
  },
  {
   "cell_type": "code",
   "execution_count": 15,
   "metadata": {
    "collapsed": true
   },
   "outputs": [],
   "source": [
    "// define a restricted range for the parameter of interest\n",
    "//w->var(\"s\")->setMax(20);\n",
    "mcmcCalc.SetNumBins(100);"
   ]
  },
  {
   "cell_type": "markdown",
   "metadata": {},
   "source": [
    "#### 3. Compute the interval\n",
    "\n",
    "Run the calculator and compute the interval from the posterior. "
   ]
  },
  {
   "cell_type": "code",
   "execution_count": 16,
   "metadata": {
    "collapsed": false
   },
   "outputs": [
    {
     "name": "stdout",
     "output_type": "stream",
     "text": [
      "[#1] INFO:Minization -- p.d.f. provides expected number of events, including extended term in likelihood.\n",
      "[#1] INFO:NumericIntegration -- RooRealIntegral::init(bmodel_Int[x]) using numeric integrator RooAdaptiveGaussKronrodIntegrator1D to calculate Int(x)\n",
      "Metropolis-Hastings progress: ....................................................................................................\n",
      "[#1] INFO:Eval -- Proposal acceptance rate: 5.9515%\n",
      "[#1] INFO:Eval -- Number of steps in chain: 297575\n",
      "Real time 0:02:22, CP time 142.310\n"
     ]
    }
   ],
   "source": [
    "tw.Start();\n",
    "interval = mcmcCalc.GetInterval();\n",
    "tw.Print();"
   ]
  },
  {
   "cell_type": "code",
   "execution_count": 17,
   "metadata": {
    "collapsed": false
   },
   "outputs": [
    {
     "name": "stdout",
     "output_type": "stream",
     "text": [
      "68% interval is : [115, 395] \n"
     ]
    }
   ],
   "source": [
    "cout << 100*mcmcCalc.ConfidenceLevel() << \"% interval is : [\" \n",
    "    << interval->LowerLimit(*poi) << \", \"<< interval->UpperLimit(*poi) <<\"] \"<<endl;"
   ]
  },
  {
   "cell_type": "code",
   "execution_count": 18,
   "metadata": {
    "collapsed": false
   },
   "outputs": [],
   "source": [
    "plot = new RooStats::MCMCIntervalPlot(*interval);"
   ]
  },
  {
   "cell_type": "code",
   "execution_count": 19,
   "metadata": {
    "collapsed": false
   },
   "outputs": [],
   "source": [
    "//plot->Draw(\"LEGO\" ); gPad->Draw();"
   ]
  },
  {
   "cell_type": "code",
   "execution_count": 20,
   "metadata": {
    "collapsed": true
   },
   "outputs": [],
   "source": [
    "auto hposterior = (TH2*) interval->GetPosteriorHist();"
   ]
  },
  {
   "cell_type": "code",
   "execution_count": 21,
   "metadata": {
    "collapsed": false
   },
   "outputs": [
    {
     "data": {
      "image/png": "[encoded data removed]",
      "text/plain": [
       "<IPython.core.display.Image object>"
      ]
     },
     "metadata": {},
     "output_type": "display_data"
    }
   ],
   "source": [
    "c1 = new TCanvas(); \n",
    "hposterior->Draw(\"COL Z\");\n",
    "c1->Draw();"
   ]
  },
  {
   "cell_type": "code",
   "execution_count": 22,
   "metadata": {
    "collapsed": false
   },
   "outputs": [
    {
     "data": {
      "image/png": "[encoded data removed]",
      "text/plain": [
       "<IPython.core.display.Image object>"
      ]
     },
     "metadata": {},
     "output_type": "display_data"
    }
   ],
   "source": [
    "hsig = hposterior->ProjectionX(); \n",
    "hsig->Draw(\"HIST\");\n",
    "gPad->Draw();"
   ]
  },
  {
   "cell_type": "code",
   "execution_count": 23,
   "metadata": {
    "collapsed": false
   },
   "outputs": [
    {
     "data": {
      "image/png": "[encoded data removed]",
      "text/plain": [
       "<IPython.core.display.Image object>"
      ]
     },
     "metadata": {},
     "output_type": "display_data"
    }
   ],
   "source": [
    "hmass = hposterior->ProjectionY(); \n",
    "hmass->Draw(\"HIST\");\n",
    "gPad->Draw();"
   ]
  },
  {
   "cell_type": "code",
   "execution_count": null,
   "metadata": {
    "collapsed": true
   },
   "outputs": [],
   "source": []
  }
 ],
 "metadata": {
  "kernelspec": {
   "display_name": "ROOT C++",
   "language": "c++",
   "name": "root"
  },
  "language_info": {
   "codemirror_mode": "text/x-c++src",
   "file_extension": ".C",
   "mimetype": " text/x-c++src",
   "name": "c++"
  }
 },
 "nbformat": 4,
 "nbformat_minor": 0
}
