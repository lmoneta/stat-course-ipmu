{
 "cells": [
  {
   "cell_type": "markdown",
   "metadata": {},
   "source": [
    "## Hypothesis Test Example with Toys\n",
    "\n",
    "\n",
    "This notebook performs an hypothesis test and computes the significance of the test (p-value) using the asympotic approximation of the profile likelihood function.\n",
    "\n",
    "The test statistics for computing the hypothesis test is \n",
    "\n",
    "$$q_\\mu = - 2 \\log \\frac { L( x \\ | \\ \\mu , \\hat{\\hat{\\nu} } ) }{  L( x \\ | \\ \\hat{\\mu} , \\hat{\\nu}  ) } \\  \\  \\ \\mathrm{for} \\  \\  \n",
    "\\hat{\\mu}  >  0$$\n",
    "$$q_\\mu = 0     \\hspace{3cm}     \\ \\mathrm{for} \\  \\  \n",
    "\\hat{\\mu} \\le  0$$\n",
    "\n",
    "Pseudo-experimets are used to obtain the test statistics distribution for the two hypothesis"
   ]
  },
  {
   "cell_type": "code",
   "execution_count": 1,
   "metadata": {
    "collapsed": true
   },
   "outputs": [],
   "source": [
    "using namespace RooStats;"
   ]
  },
  {
   "cell_type": "code",
   "execution_count": 2,
   "metadata": {
    "collapsed": false
   },
   "outputs": [
    {
     "name": "stdout",
     "output_type": "stream",
     "text": [
      "\n",
      "\u001b[1mRooFit v3.60 -- Developed by Wouter Verkerke and David Kirkby\u001b[0m \n",
      "                Copyright (C) 2000-2013 NIKHEF, University of California & Stanford University\n",
      "                All rights reserved, please read http://roofit.sourceforge.net/license.txt\n",
      "\n"
     ]
    }
   ],
   "source": [
    "HypoTestResult * result = nullptr;\n",
    "ProfileLikelihoodTestStat * testStat = nullptr; \n",
    "ToyMCSampler * toymcs = nullptr; \n",
    "HypoTestPlot * plot = nullptr; \n",
    "// enable use of NLL offset for better minimizations\n",
    "RooStats::UseNLLOffset(true);"
   ]
  },
  {
   "cell_type": "markdown",
   "metadata": {},
   "source": [
    "#### Set the number of expected events used to compute the expected significance"
   ]
  },
  {
   "cell_type": "code",
   "execution_count": 3,
   "metadata": {
    "collapsed": false
   },
   "outputs": [],
   "source": [
    "int nexp_events = 250; \n",
    "\n",
    "TString fileName =\"HiggsBinModel.root\";  // for s simplified model\n",
    "//TString fileName =\"HiggsBinModelSimple.root\";  \n",
    "TString workspaceName = \"w\";\n",
    "TString modelConfigName = \"ModelConfig\";\n",
    "TString dataName = \"data\";\n",
    "TString integrationType = \"\";  \n",
    "//ROOT::Math::MinimizerOptions::SetDefaultMinimizer(\"Minuit2\");"
   ]
  },
  {
   "cell_type": "markdown",
   "metadata": {},
   "source": [
    "#### Reading the model (Workspace) from input file\n",
    "\n",
    "First part is just to access the workspace file and retrieve the model and the data "
   ]
  },
  {
   "cell_type": "code",
   "execution_count": 4,
   "metadata": {
    "collapsed": false
   },
   "outputs": [
    {
     "name": "stdout",
     "output_type": "stream",
     "text": [
      "\n",
      "RooWorkspace(w) w contents\n",
      "\n",
      "variables\n",
      "---------\n",
      "(a1,a2,mass,nbackground,nsignal,width,x)\n",
      "\n",
      "p.d.f.s\n",
      "-------\n",
      "RooExponential::bmodel[ x=z c=1 ] = 0.000354025\n",
      "RooAddPdf::model[ nbackground * bmodel + nsignal * smodel ] = 0.000350859\n",
      "RooGaussian::smodel[ x=x mean=mass sigma=width ] = 1.8233e-12\n",
      "\n",
      "functions\n",
      "--------\n",
      "RooFormulaVar::z[ actualVars=(a1,a2,x) formula=\"-(a1*x/100.+a2*(x/100.)^2)\" ] = -7.94614\n",
      "\n",
      "datasets\n",
      "--------\n",
      "RooDataHist::data(x)\n",
      "\n",
      "named sets\n",
      "----------\n",
      "ModelConfig_NuisParams:(a1,a2,nbackground)\n",
      "ModelConfig_Observables:(x)\n",
      "ModelConfig_POI:(nsignal)\n",
      "nuisParams:(a1,a2,nbackground)\n",
      "\n",
      "generic objects\n",
      "---------------\n",
      "RooStats::ModelConfig::ModelConfig\n",
      "\n"
     ]
    }
   ],
   "source": [
    "auto file = TFile::Open(fileName);\n",
    "auto w =  (RooWorkspace*) file->Get(workspaceName);\n",
    "w->Print();\n",
    "auto sbModel = (RooStats::ModelConfig*) w->obj(modelConfigName);\n",
    "auto  data = w->data(dataName);\n",
    "auto poi = (RooRealVar*) sbModel->GetParametersOfInterest()->first();"
   ]
  },
  {
   "cell_type": "markdown",
   "metadata": {},
   "source": [
    "##### Make the b Model by cloning the b model and use a value = 0 for the parameter of interest"
   ]
  },
  {
   "cell_type": "code",
   "execution_count": 5,
   "metadata": {
    "collapsed": false
   },
   "outputs": [
    {
     "name": "stdout",
     "output_type": "stream",
     "text": [
      "\n",
      "=== Using the following for S+B Model ===\n",
      "Observables:             RooArgSet:: = (x)\n",
      "Parameters of Interest:  RooArgSet:: = (nsignal)\n",
      "Nuisance Parameters:     RooArgSet:: = (a1,a2,nbackground)\n",
      "PDF:                     RooAddPdf::model[ nbackground * bmodel + nsignal * smodel ] = 0.000354025\n",
      "Snapshot:                \n",
      "  1) 0x123adb740 RooRealVar:: nsignal = 250 +/- 93.6477  L(0 - 1000)  \"nsignal\"\n",
      "\n",
      "\n",
      "=== Using the following for B Model ===\n",
      "Observables:             RooArgSet:: = (x)\n",
      "Parameters of Interest:  RooArgSet:: = (nsignal)\n",
      "Nuisance Parameters:     RooArgSet:: = (a1,a2,nbackground)\n",
      "PDF:                     RooAddPdf::model[ nbackground * bmodel + nsignal * smodel ] = 0.000354025\n",
      "Snapshot:                \n",
      "  1) 0x103386ba0 RooRealVar:: nsignal = 0 +/- 93.6477  L(0 - 1000)  \"nsignal\"\n",
      "\n"
     ]
    }
   ],
   "source": [
    "auto bModel = (RooStats::ModelConfig*) sbModel->Clone();\n",
    "sbModel->SetName(\"S+B Model\");\n",
    "poi->setVal(nexp_events);\n",
    "sbModel->SetSnapshot( *poi);\n",
    "bModel->SetName(\"B Model\");\n",
    "poi->setVal(0);\n",
    "bModel->SetSnapshot( *poi  );\n",
    "sbModel->Print();\n",
    "bModel->Print();"
   ]
  },
  {
   "cell_type": "markdown",
   "metadata": {},
   "source": [
    "We set the mass and the width to constant. \n",
    "We  fix also the background parameters $a_1$ and $a_2$ to speed up  the pseudo-experiment generation."
   ]
  },
  {
   "cell_type": "code",
   "execution_count": 6,
   "metadata": {
    "collapsed": true
   },
   "outputs": [],
   "source": [
    "w->var(\"a1\")->setConstant(true);\n",
    "w->var(\"a2\")->setConstant(true);\n",
    "\n",
    "w->var(\"mass\")->setConstant(true);\n",
    "w->var(\"width\")->setConstant(true);"
   ]
  },
  {
   "cell_type": "markdown",
   "metadata": {},
   "source": [
    "### Run Asymptotic calculator to obtain asymptotic significance"
   ]
  },
  {
   "cell_type": "code",
   "execution_count": 7,
   "metadata": {
    "collapsed": false
   },
   "outputs": [
    {
     "name": "stdout",
     "output_type": "stream",
     "text": [
      "[#0] PROGRESS:Eval -- AsymptoticCalculator: Building Asimov data Set\n"
     ]
    }
   ],
   "source": [
    "RooStats::AsymptoticCalculator::SetPrintLevel(-1);  // to switch off print level \n",
    "RooStats::AsymptoticCalculator  asymCalc(*data, *sbModel, *bModel);"
   ]
  },
  {
   "cell_type": "markdown",
   "metadata": {},
   "source": [
    "Configure the calculator"
   ]
  },
  {
   "cell_type": "code",
   "execution_count": 8,
   "metadata": {
    "collapsed": true
   },
   "outputs": [],
   "source": [
    "asymCalc.SetOneSidedDiscovery(true);  // for one-side discovery test\n",
    "asymCalc.SetPrintLevel(-1);  // to suppress print level "
   ]
  },
  {
   "cell_type": "markdown",
   "metadata": {},
   "source": [
    "Run the calculator and get the result"
   ]
  },
  {
   "cell_type": "code",
   "execution_count": 9,
   "metadata": {
    "collapsed": false
   },
   "outputs": [
    {
     "name": "stdout",
     "output_type": "stream",
     "text": [
      "\n",
      "Results HypoTestAsymptotic_result: \n",
      " - Null p-value = 3.187e-05\n",
      " - Significance = 3.99852\n",
      " - CL_b: 3.187e-05\n",
      " - CL_s+b: 0.357655\n",
      " - CL_s: 11222.3\n"
     ]
    }
   ],
   "source": [
    "result = asymCalc.GetHypoTest();\n",
    "result->Print();"
   ]
  },
  {
   "cell_type": "code",
   "execution_count": 10,
   "metadata": {
    "collapsed": false
   },
   "outputs": [
    {
     "name": "stdout",
     "output_type": "stream",
     "text": [
      "Asymptotic significance = 3.99852 for p-value = 3.187e-05\n"
     ]
    }
   ],
   "source": [
    "std::cout << \"Asymptotic significance = \" << result->Significance() << \" for p-value = \" << result->NullPValue() << std::endl; "
   ]
  },
  {
   "cell_type": "markdown",
   "metadata": {
    "collapsed": true
   },
   "source": [
    "### Run the Frequentist Calculator to compute significance using toys\n",
    "\n",
    "We run now on the same model the FrequentistCalculator. The Frequentist Calculator uses the test statistic distributions obtained with pseudo-experiments."
   ]
  },
  {
   "cell_type": "code",
   "execution_count": 11,
   "metadata": {
    "collapsed": false
   },
   "outputs": [],
   "source": [
    "RooStats::FrequentistCalculator   fc(*data, *sbModel, *bModel);\n",
    "// to enable Proof\n",
    "RooStats::ProofConfig pc(*w, 0, \"\", kFALSE);"
   ]
  },
  {
   "cell_type": "markdown",
   "metadata": {
    "collapsed": false
   },
   "source": [
    "We configure the Frequentist calculator by specifying the number of toys for the two hypothesis "
   ]
  },
  {
   "cell_type": "markdown",
   "metadata": {
    "collapsed": false
   },
   "source": [
    "We need also to specify the test statistics type. Here are some possible test statistics to use "
   ]
  },
  {
   "cell_type": "code",
   "execution_count": 12,
   "metadata": {
    "collapsed": false
   },
   "outputs": [],
   "source": [
    "testStat = new RooStats::ProfileLikelihoodTestStat(*sbModel->GetPdf());\n",
    "// needed for PL test statistics\n",
    "testStat->SetOneSidedDiscovery(true);\n",
    "// to enable debug of fitting toys\n",
    "// ((RooStats::ProfileLikelihoodTestStat *)testStat)->SetPrintLevel(1);"
   ]
  },
  {
   "cell_type": "code",
   "execution_count": 13,
   "metadata": {
    "collapsed": false
   },
   "outputs": [],
   "source": [
    "toymcs = (RooStats::ToyMCSampler*)fc.GetTestStatSampler();\n",
    "toymcs->SetTestStatistic(testStat);\n",
    "toymcs->SetGenerateBinned(true);\n",
    "// toymcs->SetProofConfig(&pc);    // to use PROOF "
   ]
  },
  {
   "cell_type": "code",
   "execution_count": 14,
   "metadata": {
    "collapsed": false
   },
   "outputs": [],
   "source": [
    "// for number counting experiments (i.e. when we have only one event per toy)\n",
    "// in general shape cases are extended model\n",
    "if (!sbModel->GetPdf()->canBeExtended())\n",
    "    toymcs->SetNEventsPerToy(1);"
   ]
  },
  {
   "cell_type": "markdown",
   "metadata": {},
   "source": [
    "#### Set the number of pseudo-experiments"
   ]
  },
  {
   "cell_type": "code",
   "execution_count": 15,
   "metadata": {
    "collapsed": false
   },
   "outputs": [],
   "source": [
    "fc.SetToys(2000,500);    // 2000 for null (B) and 500 for alt (S+B) "
   ]
  },
  {
   "cell_type": "markdown",
   "metadata": {},
   "source": [
    "#### Run now the calculator. \n",
    "\n",
    "It can take some time... be patient "
   ]
  },
  {
   "cell_type": "code",
   "execution_count": 16,
   "metadata": {
    "collapsed": false
   },
   "outputs": [
    {
     "name": "stdout",
     "output_type": "stream",
     "text": [
      "\n",
      "=== Using the following for B Model ===\n",
      "Observables:             RooArgSet:: = (x)\n",
      "Parameters of Interest:  RooArgSet:: = (nsignal)\n",
      "Nuisance Parameters:     RooArgSet:: = (a1,a2,nbackground)\n",
      "PDF:                     RooAddPdf::model[ nbackground * bmodel + nsignal * smodel ] = 0.0426709/1\n",
      "Snapshot:                \n",
      "  1) 0x11e7c95f0 RooRealVar:: nsignal = 0 +/- 93.6477  L(0 - 1000)  \"nsignal\"\n",
      "\n",
      "\n",
      "=== Using the following for S+B Model ===\n",
      "Observables:             RooArgSet:: = (x)\n",
      "Parameters of Interest:  RooArgSet:: = (nsignal)\n",
      "Nuisance Parameters:     RooArgSet:: = (a1,a2,nbackground)\n",
      "PDF:                     RooAddPdf::model[ nbackground * bmodel + nsignal * smodel ] = 0.0426709/1\n",
      "Snapshot:                \n",
      "  1) 0x11e7c95f0 RooRealVar:: nsignal = 250 +/- 93.6477  L(0 - 1000)  \"nsignal\"\n",
      "\n",
      "[#0] PROGRESS:Generation -- Test Statistic on data: 7.99408\n",
      "[#1] INFO:InputArguments -- Profiling conditional MLEs for Null.\n",
      "[#1] INFO:InputArguments -- Using a ToyMCSampler. Now configuring for Null.\n",
      "[#0] PROGRESS:Generation -- generated toys: 500 / 2000\n",
      "[#0] PROGRESS:Generation -- generated toys: 1000 / 2000\n",
      "[#0] PROGRESS:Generation -- generated toys: 1500 / 2000\n",
      "[#1] INFO:InputArguments -- Profiling conditional MLEs for Alt.\n",
      "[#1] INFO:InputArguments -- Using a ToyMCSampler. Now configuring for Alt.\n",
      "\n",
      "Results HypoTestCalculator_result: \n",
      " - Null p-value = 0 +/- 0\n",
      " - Significance = inf +/- nan sigma\n",
      " - Number of Alt toys: 500\n",
      " - Number of Null toys: 2000\n",
      " - Test statistic evaluated on data: 7.99408\n",
      " - CL_b: 0 +/- 0\n",
      " - CL_s+b: 0.356 +/- 0.0214133\n",
      " - CL_s: Error: Cannot compute CLs because CLb = 0. Returning CLs = -1\n",
      "-1 +/- -1\n",
      "Real time 0:00:06, CP time 6.500\n"
     ]
    }
   ],
   "source": [
    "tw = new TStopwatch(); tw->Start(); // to print the time\n",
    "result = fc.GetHypoTest(); \n",
    "result->Print();\n",
    "tw->Print();"
   ]
  },
  {
   "cell_type": "markdown",
   "metadata": {},
   "source": [
    "Plot now the test statistics distributions"
   ]
  },
  {
   "cell_type": "code",
   "execution_count": 17,
   "metadata": {
    "collapsed": false
   },
   "outputs": [
    {
     "data": {
      "image/png": "[encoded data removed]",
      "text/plain": [
       "<IPython.core.display.Image object>"
      ]
     },
     "metadata": {},
     "output_type": "display_data"
    },
    {
     "name": "stderr",
     "output_type": "stream",
     "text": [
      "Info in <TCanvas::MakeDefCanvas>:  created default TCanvas with name c1\n"
     ]
    }
   ],
   "source": [
    "plot = new RooStats::HypoTestPlot(*result);\n",
    "plot->SetLogYaxis(true);\n",
    "plot->Draw();\n",
    "gPad->Draw();"
   ]
  },
  {
   "cell_type": "markdown",
   "metadata": {},
   "source": [
    "We save the result in a file. We don;t want to loose the resulting information if we have run toys for some time. "
   ]
  },
  {
   "cell_type": "code",
   "execution_count": 18,
   "metadata": {
    "collapsed": false
   },
   "outputs": [],
   "source": [
    "fileOut = TFile::Open(\"HypoTestResult.root\",\"RECREATE\");\n",
    "result->Write();\n",
    "fileOut->Close();"
   ]
  },
  {
   "cell_type": "markdown",
   "metadata": {},
   "source": [
    "#### Is Test statistic distribution like a chi-square distribution with n.d.f =1 ? \n",
    "\n",
    "We want to fit the null test statistic distribution to check if it is compatible with a chi2 distribution"
   ]
  },
  {
   "cell_type": "code",
   "execution_count": 19,
   "metadata": {
    "collapsed": false
   },
   "outputs": [
    {
     "name": "stdout",
     "output_type": "stream",
     "text": [
      "number of null toys = 2000\n"
     ]
    }
   ],
   "source": [
    "dist = result->GetNullDistribution();\n",
    "vec = dist->GetSamplingDistribution();\n",
    "cout << \"number of null toys = \" << vec.size() << endl;\n",
    "\n",
    "hdist = new TH1D(\"hdist\",\"Test Statistic distribution\",200,0,10);\n",
    "\n",
    "hdist->FillN(vec.size(),vec.data(),nullptr);\n",
    "// merge all underflows (failing fits) in the first bin (bin 0)\n",
    "hdist->SetBinContent(1, hdist->GetBinContent(0)+hdist->GetBinContent(1));"
   ]
  },
  {
   "cell_type": "code",
   "execution_count": 20,
   "metadata": {
    "collapsed": true
   },
   "outputs": [],
   "source": [
    "%jsroot off"
   ]
  },
  {
   "cell_type": "markdown",
   "metadata": {
    "collapsed": false
   },
   "source": [
    "Create the fit function as a 1/2 chisquared. Special case for forst bin (x < 0.05) \n",
    "Also the quantity plotted is the log-likelihood ratio and not 2 x log-likelihood ratio .\n",
    "0.05 is the histogram bin width. "
   ]
  },
  {
   "cell_type": "code",
   "execution_count": 21,
   "metadata": {
    "collapsed": true
   },
   "outputs": [],
   "source": [
    "fchi2 = new TF1(\"chi2\",\"[](double*x,double*p){ if (x[0] < 0.05) { return 0.5*p[0]+ 0.5*p[0]*ROOT::Math::chisquared_cdf(0.1,p[1]); } else { return 0.05*p[0]*ROOT::Math::chisquared_pdf(2*x[0],p[1]); } }\",0.,10.,2,1);"
   ]
  },
  {
   "cell_type": "code",
   "execution_count": 22,
   "metadata": {
    "collapsed": false
   },
   "outputs": [
    {
     "data": {
      "image/png": "[encoded data removed]",
      "text/plain": [
       "<IPython.core.display.Image object>"
      ]
     },
     "metadata": {},
     "output_type": "display_data"
    }
   ],
   "source": [
    "hdist->Draw();\n",
    "fchi2->SetParameters(vec.size(),1);\n",
    "fchi2->SetNpx(1000);\n",
    "fchi2->SetLineColor(kGreen);\n",
    "fchi2->DrawCopy(\"SAME\");\n",
    "fchi2->SetLineColor(kRed);\n",
    "gPad->Draw();"
   ]
  },
  {
   "cell_type": "code",
   "execution_count": 23,
   "metadata": {
    "collapsed": false
   },
   "outputs": [
    {
     "name": "stdout",
     "output_type": "stream",
     "text": [
      " FCN=48.0139 FROM MIGRAD    STATUS=CONVERGED      33 CALLS          34 TOTAL\n",
      "                     EDM=2.86367e-10    STRATEGY= 1      ERROR MATRIX ACCURATE \n",
      "  EXT PARAMETER                                   STEP         FIRST   \n",
      "  NO.   NAME      VALUE            ERROR          SIZE      DERIVATIVE \n",
      "   1  p0           2.00001e+03   4.47216e+01   2.15084e-01   9.00834e-08\n",
      "   2  p1           1.12205e+00   5.19618e-02   2.49543e-04  -3.16308e-04\n",
      "                               ERR DEF= 0.5\n"
     ]
    }
   ],
   "source": [
    "// do integral fit \n",
    "hdist->Fit(fchi2,\"L I \",\"SAME\");"
   ]
  },
  {
   "cell_type": "code",
   "execution_count": 24,
   "metadata": {
    "collapsed": false
   },
   "outputs": [
    {
     "data": {
      "image/png": "[encoded data removed]",
      "text/plain": [
       "<IPython.core.display.Image object>"
      ]
     },
     "metadata": {},
     "output_type": "display_data"
    }
   ],
   "source": [
    "gStyle->SetOptFit(1111);\n",
    "gPad->Draw();"
   ]
  },
  {
   "cell_type": "code",
   "execution_count": 25,
   "metadata": {
    "collapsed": false
   },
   "outputs": [
    {
     "data": {
      "image/png": "[encoded data removed]",
      "text/plain": [
       "<IPython.core.display.Image object>"
      ]
     },
     "metadata": {},
     "output_type": "display_data"
    }
   ],
   "source": [
    "auto hdist2 = (TH1*) hdist->Clone();\n",
    "hdist2->GetXaxis()->SetRange(1,20);\n",
    "hdist2->Draw();\n",
    "gPad->Draw();"
   ]
  },
  {
   "cell_type": "code",
   "execution_count": null,
   "metadata": {
    "collapsed": true
   },
   "outputs": [],
   "source": []
  }
 ],
 "metadata": {
  "kernelspec": {
   "display_name": "ROOT C++",
   "language": "c++",
   "name": "root"
  },
  "language_info": {
   "codemirror_mode": "text/x-c++src",
   "file_extension": ".C",
   "mimetype": " text/x-c++src",
   "name": "c++"
  }
 },
 "nbformat": 4,
 "nbformat_minor": 0
}
