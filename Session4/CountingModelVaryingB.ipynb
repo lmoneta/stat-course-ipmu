{
 "cells": [
  {
   "cell_type": "markdown",
   "metadata": {},
   "source": [
    "## Creation of  a Counting Model with Background uncertainty\n",
    "\n",
    "In this notebook we extend the previous Poisson counting model by considering $b$ not fixed but varying according to a given distribution. We assume we know b from a previous experiment, i.e. we have measured $b$ to have a value $b_0$ with an uncertainty $\\sigma_b$. \n",
    "\n",
    "The model describing the experiment is given by a Poisson distribution multiplied by a Gaussian distribution for the background  \n",
    "\n",
    "$$ P(n_{obs} | s,b) = Poisson (n_{obs} | s+b) \\times Gaussian(b_0 | b, \\sigma_b) = (s+b)^{n_{obs} } \\frac{ e^{-(s+b)} } { n_{obs} ! } \\times \\frac{1}{\\sqrt{2 \\pi \\sigma_b^2 } } e^{ (b_0-b)^2 / \\sigma_b^2}$$\n",
    "\n",
    "\n",
    "We will create the model using **RooFit** and **RooStats**. \n",
    "See the links below for more information\n",
    "-  RooFit: https://cernbox.cern.ch/index.php/s/kzGv4406IrpFpVM\n",
    "-  RooStats: https://cernbox.cern.ch/index.php/s/9DWJCObingTWB3r"
   ]
  },
  {
   "cell_type": "code",
   "execution_count": null,
   "metadata": {
    "collapsed": true
   },
   "outputs": [],
   "source": [
    "int nobs; double b; double sigmab;"
   ]
  },
  {
   "cell_type": "code",
   "execution_count": null,
   "metadata": {
    "collapsed": false
   },
   "outputs": [],
   "source": [
    "nobs = 4;                // number of observed events\n",
    "b = 3;                 // number of expected background even\n",
    "sigmab = 0.3;          // uncertainty on b"
   ]
  },
  {
   "cell_type": "markdown",
   "metadata": {},
   "source": [
    "#### Model Creation using `RooWorkspace` \n",
    "\n",
    "Using the factory syntax of the `RooWorkspace` we create the parameters of the model and the Poisson p.d.f describing the model."
   ]
  },
  {
   "cell_type": "code",
   "execution_count": null,
   "metadata": {
    "collapsed": false
   },
   "outputs": [],
   "source": [
    "RooWorkspace w(\"w\");\n",
    "   \n",
    "// make Poisson model * Gaussian constraint\n",
    "w.factory(\"sum:nexp(s[3,0,15],b[1,0,10])\");\n",
    "// Poisson of (n | s+b)\n",
    "w.factory(\"Poisson:pdf(nobs[0,50],nexp)\");\n",
    "// Gaussian for b\n",
    "w.factory(\"Gaussian:constraint(b0[0,10],b,sigmab[1])\");\n",
    "// Full model\n",
    "w.factory(\"PROD:model(pdf,constraint)\");"
   ]
  },
  {
   "cell_type": "markdown",
   "metadata": {},
   "source": [
    "#### Creation of  the  `RooStats::ModelConfig` class\n",
    "\n",
    "We create the `ModelConfig` class, which is needed to run all `RooStats` statistics calculators. \n",
    "The class contains meta-information on the model, such as the name of the pdf, the observables, the parameter of interest and if existing the nuisance parameters. "
   ]
  },
  {
   "cell_type": "code",
   "execution_count": null,
   "metadata": {
    "collapsed": false
   },
   "outputs": [],
   "source": [
    "RooStats::ModelConfig mc(\"ModelConfig\",&w);\n",
    "mc.SetPdf(*w.pdf(\"model\"));\n",
    "mc.SetParametersOfInterest(*w.var(\"s\"));\n",
    "mc.SetObservables(*w.var(\"nobs\"));\n",
    "// we set here the nuisance parameters \n",
    "mc.SetNuisanceParameters(*w.var(\"b\"));\n",
    "// this is needed for dealing of the systematics in b\n",
    "// we assume we have an  additional observables b0\n",
    "mc.SetGlobalObservables(*w.var(\"b0\"));\n",
    "\n",
    "\n",
    "// this is needed for the hypothesis tests\n",
    "mc.SetSnapshot(*w.var(\"s\"));\n",
    "\n",
    "mc.Print();\n",
    "// import model in the workspace \n",
    "w.import(mc);"
   ]
  },
  {
   "cell_type": "markdown",
   "metadata": {},
   "source": [
    "#####  Setting  the model parameter values  ( e.g. number of background events )\n",
    "\n",
    "We set the assumed value of b, and  since we consider it fixed (known precisly) it is important to set it constant.  "
   ]
  },
  {
   "cell_type": "code",
   "execution_count": null,
   "metadata": {
    "collapsed": false
   },
   "outputs": [],
   "source": [
    "w.var(\"b\")->setVal(b); \n",
    "w.var(\"b0\")->setVal(b);\n",
    "w.var(\"b0\")->setConstant(true); // needed for being treated as global observables\n",
    "w.var(\"sigmab\")->setVal(sigmab*b);    "
   ]
  },
  {
   "cell_type": "markdown",
   "metadata": {},
   "source": [
    "#### Data Set generation\n",
    "\n",
    "We create here the observed data set for the model. The data set will conist of a single event with the observable \n",
    "$n_{obs}$ equal to the given value (e.g. 3). \n",
    "\n",
    "It is important to import the data set in the workspace\n"
   ]
  },
  {
   "cell_type": "code",
   "execution_count": null,
   "metadata": {
    "collapsed": false
   },
   "outputs": [],
   "source": [
    "RooDataSet data(\"data\",\"\", *w.var(\"nobs\"));\n",
    "w.var(\"nobs\")->setVal(nobs);\n",
    "data.add(*w.var(\"nobs\") );\n",
    "// import data set in workspace \n",
    "w.import(data);\n",
    "std::cout << \"number of observed events  = \" << data.get(0)->getRealValue(\"nobs\") << std::endl;"
   ]
  },
  {
   "cell_type": "markdown",
   "metadata": {},
   "source": [
    "#### Save Workspace in a file\n",
    "\n",
    "We save the generated model as a workspace in a file that can be used later on. \n",
    "Before saving we print its content for showing its content. "
   ]
  },
  {
   "cell_type": "code",
   "execution_count": null,
   "metadata": {
    "collapsed": false
   },
   "outputs": [],
   "source": [
    "w.Print();\n",
    "// print also model parameters \n",
    "std::cout << \"Parameter of interest:  \\n\"; mc.GetParametersOfInterest()->Print(\"v\");\n",
    "std::cout << \"Nuisance parameters  :  \\n\"; mc.GetNuisanceParameters()->Print(\"v\");\n",
    "w.writeToFile(\"CountingModelVaryingB.root\", true);\n"
   ]
  },
  {
   "cell_type": "code",
   "execution_count": null,
   "metadata": {
    "collapsed": true
   },
   "outputs": [],
   "source": []
  }
 ],
 "metadata": {
  "kernelspec": {
   "display_name": "ROOT C++",
   "language": "c++",
   "name": "root"
  },
  "language_info": {
   "codemirror_mode": "text/x-c++src",
   "file_extension": ".C",
   "mimetype": " text/x-c++src",
   "name": "c++"
  }
 },
 "nbformat": 4,
 "nbformat_minor": 0
}
