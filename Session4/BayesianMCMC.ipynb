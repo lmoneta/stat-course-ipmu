{
 "cells": [
  {
   "cell_type": "markdown",
   "metadata": {},
   "source": [
    "## Bayesian Interval Estimation using Markov Chain Monte Carlo  \n",
    "\n",
    "In this example we compute a Bayesian credible interval using the Markov Chain Monte Carlo method with the RooStats  `MCMCCalculator` class.\n",
    "\n",
    "The interval is obtained from the Posterior probability function, which is computed from the Bayes theorem using a \n",
    "Markov chain Monte Carlo\n",
    "\n",
    "$$P( \\mu | x ) = \\frac { \\int L (x | \\mu , \\nu ) \\Pi ( \\mu, \\nu ) d\\nu } { \\int \\int L (x | \\mu , \\nu ) \\Pi ( \\mu, \\nu ) d \\mu d\\nu} $$\n",
    "\n",
    "The output consists of a set of data points (the MC chain) which is distributed according to the posterior distribution. \n",
    "This calculator can work with many parameter of interests and many nuisance parameters.\n"
   ]
  },
  {
   "cell_type": "code",
   "execution_count": null,
   "metadata": {
    "collapsed": true
   },
   "outputs": [],
   "source": [
    "%jsroot on"
   ]
  },
  {
   "cell_type": "code",
   "execution_count": null,
   "metadata": {
    "collapsed": false,
    "scrolled": true
   },
   "outputs": [],
   "source": [
    "using namespace RooStats;"
   ]
  },
  {
   "cell_type": "code",
   "execution_count": null,
   "metadata": {
    "collapsed": false
   },
   "outputs": [],
   "source": [
    "MCMCInterval * interval = nullptr;\n",
    "MCMCIntervalPlot * plot = nullptr; \n",
    "ProposalFunction * proposalFunc = nullptr;\n",
    "RooAbsPdf * priorPdf = nullptr;\n",
    "TStopwatch tw;"
   ]
  },
  {
   "cell_type": "markdown",
   "metadata": {},
   "source": [
    "##### 1. Reading the model (Workspace) from input file\n",
    "\n",
    "First part is just to get the workspace from the input file and retrieve the model and the data set"
   ]
  },
  {
   "cell_type": "code",
   "execution_count": null,
   "metadata": {
    "collapsed": false
   },
   "outputs": [],
   "source": [
    "//TString fileName = \"CountingModelVaryingB.root\";\n",
    "TString fileName = \"HiggsBinModel.root\";\n",
    "TString workspaceName = \"w\";\n",
    "TString modelConfigName = \"ModelConfig\";\n",
    "TString dataName = \"data\";\n",
    "TString integrationType = \"\";  "
   ]
  },
  {
   "cell_type": "code",
   "execution_count": null,
   "metadata": {
    "collapsed": false
   },
   "outputs": [],
   "source": [
    "auto file = TFile::Open(fileName);"
   ]
  },
  {
   "cell_type": "code",
   "execution_count": null,
   "metadata": {
    "collapsed": false
   },
   "outputs": [],
   "source": [
    "auto w =  (RooWorkspace*) file->Get(workspaceName);\n",
    "w->Print();\n",
    "auto mc = (RooStats::ModelConfig*) w->obj(modelConfigName);\n",
    "auto  data = w->data(dataName);\n",
    "auto poi = (RooRealVar*) mc->GetParametersOfInterest()->first();  // get POI \n",
    "\n"
   ]
  },
  {
   "cell_type": "code",
   "execution_count": null,
   "metadata": {
    "collapsed": true
   },
   "outputs": [],
   "source": [
    "// constraint nuisance parameters to +/- 10 sigma of their best fit\n",
    "a1 = w->var(\"a1\");\n",
    "a1->setMin(a1->getVal()-10*a1->getError());\n",
    "a1->setMax(a1->getVal()+10*a1->getError());\n",
    "\n",
    "a2 = w->var(\"a2\");\n",
    "a2->setMin(a2->getVal()-10*a2->getError());\n",
    "a2->setMax(a1->getVal()+10*a2->getError());"
   ]
  },
  {
   "cell_type": "markdown",
   "metadata": {},
   "source": [
    "#### 2. Create and configure the `MCMCCalculator` class"
   ]
  },
  {
   "cell_type": "code",
   "execution_count": null,
   "metadata": {
    "collapsed": false
   },
   "outputs": [],
   "source": [
    "RooStats::MCMCCalculator mcmcCalc(*data,*mc);"
   ]
  },
  {
   "cell_type": "markdown",
   "metadata": {},
   "source": [
    "##### Set a prior PDF, otherwise by default a uniform prior is used\n",
    "\n",
    "We create here a Prior probability density function for the parameter of interest. "
   ]
  },
  {
   "cell_type": "code",
   "execution_count": null,
   "metadata": {
    "collapsed": false
   },
   "outputs": [],
   "source": [
    "//priorPdf = (RooAbsPdf*) w->factory(\"EXPR::priorPdf('1./sqrt(s)',s)\");\n",
    "//priorPdf = new RooGenericPdf(\"priorPdf\",\"priorPdf\",\"1./(s)\",RooArgList(*w->var(\"s\")));"
   ]
  },
  {
   "cell_type": "markdown",
   "metadata": {},
   "source": [
    "If a prior pdf has been created, set it in the calculator. Otherwise, in case no prior is set, a default uniform prior in the parameters is used. "
   ]
  },
  {
   "cell_type": "code",
   "execution_count": null,
   "metadata": {
    "collapsed": false
   },
   "outputs": [],
   "source": [
    "if (priorPdf) mcmcCalc.SetPriorPdf(*priorPdf);\n",
    "// this is needed to normalize the prior pdf\n",
    "RooAbsReal::defaultIntegratorConfig()->method1D().setLabel(\"RooAdaptiveGaussKronrodIntegrator1D\");"
   ]
  },
  {
   "cell_type": "markdown",
   "metadata": {},
   "source": [
    "##### Set the interval Confidence Level"
   ]
  },
  {
   "cell_type": "code",
   "execution_count": null,
   "metadata": {
    "collapsed": true
   },
   "outputs": [],
   "source": [
    "mcmcCalc.SetConfidenceLevel(0.90);"
   ]
  },
  {
   "cell_type": "markdown",
   "metadata": {},
   "source": [
    "##### Set the type of interval.\n",
    "\n",
    "One can have : \n",
    "\n",
    "- shortest interval\n",
    "- central interval (equal fraction of probability in the tails) \n",
    "- lower limit    \n",
    "- upper limit  \n",
    "\n",
    "The distinction between lower/upper and central interval is done by setting the left side tail fraction of probability.\n",
    "\n",
    "Set the type of interval, default is shortest intervals"
   ]
  },
  {
   "cell_type": "code",
   "execution_count": null,
   "metadata": {
    "collapsed": true
   },
   "outputs": [],
   "source": [
    "//mcmcCalc.SetLeftSideTailFraction(0.5);  // for central intervals\n",
    "//mcmcCalc.SetLeftSideTailFraction(0.);   // for upper limits"
   ]
  },
  {
   "cell_type": "markdown",
   "metadata": {},
   "source": [
    "##### Set proposal function and configure Markov-Chain Monte Carlo method"
   ]
  },
  {
   "cell_type": "code",
   "execution_count": null,
   "metadata": {
    "collapsed": false
   },
   "outputs": [],
   "source": [
    "proposalFunc = new RooStats::SequentialProposal(0.1);\n",
    "mcmcCalc.SetProposalFunction(*proposalFunc);"
   ]
  },
  {
   "cell_type": "code",
   "execution_count": null,
   "metadata": {
    "collapsed": true
   },
   "outputs": [],
   "source": [
    "mcmcCalc.SetNumIters(50000);         // Metropolis-Hastings algorithm iterations\n",
    "mcmcCalc.SetNumBurnInSteps(1000);       // first N steps to be ignored as burn-in"
   ]
  },
  {
   "cell_type": "code",
   "execution_count": null,
   "metadata": {
    "collapsed": true
   },
   "outputs": [],
   "source": [
    "// define a restricted range for the parameter of interest\n",
    "//w->var(\"s\")->setMax(20);\n",
    "mcmcCalc.SetNumBins(100);"
   ]
  },
  {
   "cell_type": "markdown",
   "metadata": {},
   "source": [
    "#### 3. Compute the interval\n",
    "\n",
    "Run the calculator and compute the interval from the posterior. "
   ]
  },
  {
   "cell_type": "code",
   "execution_count": null,
   "metadata": {
    "collapsed": false
   },
   "outputs": [],
   "source": [
    "tw.Start();\n",
    "interval = mcmcCalc.GetInterval();\n",
    "tw.Print();"
   ]
  },
  {
   "cell_type": "code",
   "execution_count": null,
   "metadata": {
    "collapsed": false
   },
   "outputs": [],
   "source": [
    "cout << 100*mcmcCalc.ConfidenceLevel() << \"% interval is : [\" \n",
    "    << interval->LowerLimit(*poi) << \", \"<< interval->UpperLimit(*poi) <<\"] \"<<endl;"
   ]
  },
  {
   "cell_type": "code",
   "execution_count": null,
   "metadata": {
    "collapsed": false
   },
   "outputs": [],
   "source": [
    "plot = new RooStats::MCMCIntervalPlot(*interval);"
   ]
  },
  {
   "cell_type": "code",
   "execution_count": null,
   "metadata": {
    "collapsed": false
   },
   "outputs": [],
   "source": [
    "plot->Draw(\"HIST\"); gPad->Draw();"
   ]
  },
  {
   "cell_type": "code",
   "execution_count": null,
   "metadata": {
    "collapsed": true
   },
   "outputs": [],
   "source": []
  }
 ],
 "metadata": {
  "kernelspec": {
   "display_name": "ROOT C++",
   "language": "c++",
   "name": "root"
  },
  "language_info": {
   "codemirror_mode": "text/x-c++src",
   "file_extension": ".C",
   "mimetype": " text/x-c++src",
   "name": "c++"
  }
 },
 "nbformat": 4,
 "nbformat_minor": 0
}
