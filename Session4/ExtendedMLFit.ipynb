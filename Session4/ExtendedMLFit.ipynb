{
 "cells": [
  {
   "cell_type": "markdown",
   "metadata": {},
   "source": [
    "### Extended Maximum likelihood fit\n",
    "\n",
    "Notebook showing an example of an extended maximum likelihood fit. In this case we fit a signal plus a background function.\n",
    "We perform first the extended maximum likelihoof fot to determine the number of best values of signal and background events. \n",
    "We then perform a non-extended maximum likleihood fit, where we fit in this case the fraction of signal events. The fraction of backgorund events is just 1. minus the fraction of signal events. \n",
    "We show at the end that the number of signal and backgorund events extimated from a non-extended maximum likelihood fit from the fitted fraction and the total number of events results in a smaller error, since the total fluactuation on the number of events are not taken into accound. \n",
    "The under-estimation of the error become especially relevan when its corresponding fraction becomes closer to 1. \n",
    "\n",
    "We will use RooFit in this case for fitting. We start by defining the model using the RooFit workspace. \n",
    "\n",
    "*  ** Extended Model **\n",
    "\n",
    "$$ P(x) = n_{sig} \\times Gaus(x \\ | \\ m, \\sigma) + n_{bkg} \\times Exp( x \\ | \\  a ) $$\n",
    "\n",
    "*  ** Non-extended Model **\n",
    "\n",
    "$$ P(x) = f_{sig} \\times Gaus(x \\ | \\ m, \\sigma) + (1. - f_{sig} ) \\times Exp( x \\ | \\ a ) $$"
   ]
  },
  {
   "cell_type": "code",
   "execution_count": null,
   "metadata": {
    "collapsed": false
   },
   "outputs": [],
   "source": [
    "%jsroot on"
   ]
  },
  {
   "cell_type": "markdown",
   "metadata": {},
   "source": [
    "#### 1. Create RooFit model\n",
    "\n",
    "we create the two main components of the model, a Gaussian pdf describing the signal and an Exponential pdf describing the background.\n",
    "See for example the material at https://indico.desy.de/getFile.py/access?contribId=9&resId=0&materialId=slides&confId=13610"
   ]
  },
  {
   "cell_type": "code",
   "execution_count": null,
   "metadata": {
    "collapsed": false
   },
   "outputs": [],
   "source": [
    "RooWorkspace w(\"w\"); \n",
    "w.factory(\"Exponential:bkg_pdf(x[0,10], a[-0.5,-2,-0.2])\");\n",
    "w.factory(\"Gaussian:sig_pdf(x, mass[2,1,3], sigma[0.3,0.1,1.])\");"
   ]
  },
  {
   "cell_type": "markdown",
   "metadata": {},
   "source": [
    "##### 1.a Create model (S+B) for extended likelihood fit\n",
    "Create now a model pdf. By using as parameter the number of signal and background events, we create an extended model, where the total number of events will be also fitted.\n",
    "Roofit will do automatically in this case an extended maximum likelihood fit"
   ]
  },
  {
   "cell_type": "code",
   "execution_count": null,
   "metadata": {
    "collapsed": true
   },
   "outputs": [],
   "source": [
    "w.factory(\"SUM:model(nsig[2000,0,10000]*sig_pdf, nbkg[5000,0,10000]*bkg_pdf)\"); "
   ]
  },
  {
   "cell_type": "markdown",
   "metadata": {},
   "source": [
    "##### 1.b Create model (S+B) for non-extended likelihood fit using fraction of events\n",
    "\n",
    "We create now a second model pdf, where we will use the signal and background fraction in this case. Since their sum is equal to 1, it is enough to add only the signal fraction in the fit. \n",
    "By fitting this model a non-extended maximum likelihood fit will be done"
   ]
  },
  {
   "cell_type": "code",
   "execution_count": null,
   "metadata": {
    "collapsed": false,
    "scrolled": true
   },
   "outputs": [],
   "source": [
    "w.factory(\"SUM:model_frac(fsig[0.2,0,1]*sig_pdf, bkg_pdf)\"); "
   ]
  },
  {
   "cell_type": "markdown",
   "metadata": {},
   "source": [
    "##### 1.c  Set the input parameters in the model\n",
    "set the desidered value of nsig and nbackg"
   ]
  },
  {
   "cell_type": "code",
   "execution_count": null,
   "metadata": {
    "collapsed": false
   },
   "outputs": [],
   "source": [
    "ntot=10000;\n",
    "fsig=0.1;\n",
    "w.var(\"nsig\")->setVal(fsig*ntot);\n",
    "w.var(\"nbkg\")->setVal((1.-fsig)*ntot);\n",
    "w.var(\"fsig\")->setVal(fsig);"
   ]
  },
  {
   "cell_type": "code",
   "execution_count": null,
   "metadata": {
    "collapsed": false
   },
   "outputs": [],
   "source": [
    "x  = w.var(\"x\"); \n",
    "pdf = w.pdf(\"model\");"
   ]
  },
  {
   "cell_type": "markdown",
   "metadata": {},
   "source": [
    "#### 2. Generation of a toy data set\n",
    "We generate now a data set using the previously created model. The number of events generated is given by the expected events we have input in the model. If we use the Extended option, the number of events will be generated according to a Poisson distribution. "
   ]
  },
  {
   "cell_type": "code",
   "execution_count": null,
   "metadata": {
    "collapsed": false
   },
   "outputs": [],
   "source": [
    "data = pdf->generate( *x); \n",
    "nevts = data->numEntries(); \n",
    "std::cout << \"Generated \" << nevts << \" events\" << std::endl;"
   ]
  },
  {
   "cell_type": "markdown",
   "metadata": {},
   "source": [
    "#### 3. Plot the data using RooFit (RooPlot class)\n",
    "We plot the data using the **RooPlot** class from RooFit. We need to create the class using the *frame* function of the variable class. Note that the data will be plotted in a number of bins and range which is defined in the RooFit variable class representing *x* (**RooRealVar** class).  "
   ]
  },
  {
   "cell_type": "code",
   "execution_count": null,
   "metadata": {
    "collapsed": false
   },
   "outputs": [],
   "source": [
    "plot = x->frame(RooFit::Title(\"Gaussian Signal over Exponential Background\"));\n",
    "data->plotOn(plot);\n",
    "plot->Draw();\n",
    "gPad->Draw();"
   ]
  },
  {
   "cell_type": "markdown",
   "metadata": {},
   "source": [
    "#### 4. Fitting of the data (Extended Likelihood Fit)\n",
    "\n",
    "We now fit the data using the *fitTo* function of the RooFit pdf class (**RooAbsPdf**). We specify as fitting options that we want to save the result of the fit and to use *Minuit2* as minimization algorithm to find the minimum of the NLL. \n",
    "The fit performed is an unbinned extendd maximum likelihood fit"
   ]
  },
  {
   "cell_type": "code",
   "execution_count": null,
   "metadata": {
    "collapsed": false
   },
   "outputs": [],
   "source": [
    "r = pdf->fitTo(*data, RooFit::Save(true), RooFit::Minimizer(\"Minuit2\",\"Migrad\"));\n",
    "r->Print();"
   ]
  },
  {
   "cell_type": "markdown",
   "metadata": {},
   "source": [
    "#### 5. Plot the result of the fit\n",
    "\n",
    "After fitting we plot the resulting pdf normalized on the data that are observed. We plot at the same time the two different components, the signal (in red) and the background (in blue)."
   ]
  },
  {
   "cell_type": "code",
   "execution_count": null,
   "metadata": {
    "collapsed": false
   },
   "outputs": [],
   "source": [
    "pdf->plotOn(plot);\n",
    "//draw the two separate pdf's\n",
    "pdf->plotOn(plot, RooFit::Components(\"bkg_pdf\"), RooFit::LineStyle(kDashed) );\n",
    "pdf->plotOn(plot, RooFit::Components(\"sig_pdf\"), RooFit::LineColor(kRed), RooFit::LineStyle(kDashed) );\n",
    "plot->Draw();\n",
    "gPad->Draw();"
   ]
  },
  {
   "cell_type": "markdown",
   "metadata": {},
   "source": [
    "### Non-Extended Likelihood Fit\n",
    "\n",
    "We do now a non-extended likelihood fit using the fraction"
   ]
  },
  {
   "cell_type": "code",
   "execution_count": null,
   "metadata": {
    "collapsed": false
   },
   "outputs": [],
   "source": [
    "pdf = w.pdf(\"model_frac\");"
   ]
  },
  {
   "cell_type": "code",
   "execution_count": null,
   "metadata": {
    "collapsed": false
   },
   "outputs": [],
   "source": [
    "r = pdf->fitTo(*data, RooFit::Save(true), RooFit::Minimizer(\"Minuit2\",\"Migrad\"),RooFit::Extended(false));\n",
    "r->Print();"
   ]
  },
  {
   "cell_type": "code",
   "execution_count": null,
   "metadata": {
    "collapsed": false
   },
   "outputs": [],
   "source": [
    "pdf->plotOn(plot,RooFit::LineColor(kGreen));\n",
    "plot->Draw();\n",
    "gPad->Draw();"
   ]
  },
  {
   "cell_type": "markdown",
   "metadata": {},
   "source": [
    "#### Comparison of Extended vs Non-Extended fit\n",
    "\n",
    "We look at the results obtained on the number of signal and background events for the extended and non-extended fit.\n",
    "In particular it is interesting to note the different errors which are obtained. "
   ]
  },
  {
   "cell_type": "code",
   "execution_count": null,
   "metadata": {
    "collapsed": false
   },
   "outputs": [],
   "source": [
    "nsignal = w.var(\"fsig\")->getVal()*nevts; \n",
    "err_nsignal = w.var(\"fsig\")->getError()*nevts;\n",
    "nbackg = (1.-w.var(\"fsig\")->getVal())*nevts;\n",
    "err_backg = w.var(\"fsig\")->getError()*nevts;"
   ]
  },
  {
   "cell_type": "code",
   "execution_count": null,
   "metadata": {
    "collapsed": false
   },
   "outputs": [],
   "source": [
    "std::cout << \"From normal    ML Fit : nsignal = \" << nsignal << \" +/- \" << err_nsignal << std::endl;\n",
    "std::cout << \"From extended  ML Fit : nsignal = \" << w.var(\"nsig\")->getVal() << \" +/- \" << w.var(\"nsig\")->getError() << std::endl;"
   ]
  },
  {
   "cell_type": "code",
   "execution_count": null,
   "metadata": {
    "collapsed": false
   },
   "outputs": [],
   "source": [
    "std::cout << \"From normal    ML Fit : nbackg = \" << nbackg << \" +/- \" << err_backg << std::endl;\n",
    "std::cout << \"From extended  ML Fit : nbackg = \" << w.var(\"nbkg\")->getVal() << \" +/- \" << w.var(\"nbkg\")->getError() << std::endl;"
   ]
  },
  {
   "cell_type": "code",
   "execution_count": null,
   "metadata": {
    "collapsed": true
   },
   "outputs": [],
   "source": []
  }
 ],
 "metadata": {
  "kernelspec": {
   "display_name": "ROOT C++",
   "language": "c++",
   "name": "root"
  },
  "language_info": {
   "codemirror_mode": "text/x-c++src",
   "file_extension": ".C",
   "mimetype": " text/x-c++src",
   "name": "c++"
  }
 },
 "nbformat": 4,
 "nbformat_minor": 0
}
