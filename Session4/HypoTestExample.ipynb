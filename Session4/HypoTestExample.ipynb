{
 "cells": [
  {
   "cell_type": "markdown",
   "metadata": {},
   "source": [
    "## Hypothesis Test Example"
   ]
  },
  {
   "cell_type": "markdown",
   "metadata": {},
   "source": [
    "Our data are composed of two components, represented by two gaussians which have two different mean and sigma and our aim is to separate the two components (e.g. signal and background). \n",
    "\n",
    "We perform an hypothesis test to seprate the two and we study the efficiency and power of the test"
   ]
  },
  {
   "cell_type": "code",
   "execution_count": 1,
   "metadata": {
    "collapsed": false
   },
   "outputs": [],
   "source": [
    "int nsig = 10000; \n",
    "int nbkg = 10000; \n",
    "double mean_sig = 25; \n",
    "double sigma_sig = 4; \n",
    "double mean_bkg = 20; \n",
    "double sigma_bkg = 6; \n",
    "double xcut_min = 15; \n",
    "double xcut_max = 40;\n",
    "std::vector<double> sigData(nsig); \n",
    "std::vector<double> bkgData(nsig); \n",
    "TRandom3 rndm(0);\n",
    "// histograms for signal and background\n",
    "auto hsig = new TH1D(\"hsig\",\"Data\",100,0.,40);\n",
    "auto hbkg = new TH1D(\"hbkg\",\"Background data\",100,0.,40);"
   ]
  },
  {
   "cell_type": "markdown",
   "metadata": {},
   "source": [
    "#### 1. Generation of Data Sample"
   ]
  },
  {
   "cell_type": "code",
   "execution_count": 2,
   "metadata": {
    "collapsed": false
   },
   "outputs": [],
   "source": [
    "// we generate first the signal events\n",
    "for (int i = 0; i < nsig; ++i) {\n",
    "    sigData[i]= rndm.Gaus(mean_sig,sigma_sig);\n",
    "    hsig->Fill(sigData[i]);\n",
    "}"
   ]
  },
  {
   "cell_type": "code",
   "execution_count": 3,
   "metadata": {
    "collapsed": false
   },
   "outputs": [],
   "source": [
    "// now we generate the backgroud events\n",
    "for (int i = 0; i < nbkg; ++i) {\n",
    "    bkgData[i]= rndm.Gaus(mean_bkg,sigma_bkg);\n",
    "    hbkg->Fill(bkgData[i]);\n",
    "}"
   ]
  },
  {
   "cell_type": "code",
   "execution_count": null,
   "metadata": {
    "collapsed": false
   },
   "outputs": [],
   "source": [
    "hsig->SetFillColor(kYellow); \n",
    "hsig->Draw();\n",
    "hbkg->SetLineColor(kBlue);\n",
    "hbkg->Draw(\"SAME\");\n",
    "gPad->Draw();    "
   ]
  },
  {
   "cell_type": "markdown",
   "metadata": {},
   "source": [
    "#### Data Selection as simple hypothesis test\n",
    "\n",
    "We apply now a cut selecting signal events if x > x_cut\n",
    "We compute the efficiency for the signal and the background contamination.\n",
    "\n",
    "In this case we have: \n",
    "\n",
    "- null hypothesis, $H_0$ : x is distributed as signal events\n",
    "- alternative hypothesis, $H_1$ : x is distributed as background events\n",
    "\n",
    "And\n",
    "\n",
    "- Error of the first type : probability of rejecting hypthesis when $H_0$ is true , i.e. 1 - signal efficiency\n",
    "- Error of the second type: probability of accepting hypothesis when $H_1$ is true, i.e. background mis-identification probability"
   ]
  },
  {
   "cell_type": "code",
   "execution_count": 5,
   "metadata": {
    "collapsed": true
   },
   "outputs": [],
   "source": [
    "double x_cut = 25; "
   ]
  },
  {
   "cell_type": "code",
   "execution_count": 6,
   "metadata": {
    "collapsed": false
   },
   "outputs": [],
   "source": [
    "auto selection_function = [&](double x){return x > x_cut;};"
   ]
  },
  {
   "cell_type": "code",
   "execution_count": 7,
   "metadata": {
    "collapsed": false
   },
   "outputs": [],
   "source": [
    "int nsig_selected  = std::count_if(sigData.begin(), sigData.end(), selection_function);"
   ]
  },
  {
   "cell_type": "code",
   "execution_count": 8,
   "metadata": {
    "collapsed": false
   },
   "outputs": [],
   "source": [
    "int nbkg_selected = std::count_if(bkgData.begin(), bkgData.end(), selection_function);"
   ]
  },
  {
   "cell_type": "code",
   "execution_count": 9,
   "metadata": {
    "collapsed": false
   },
   "outputs": [
    {
     "name": "stdout",
     "output_type": "stream",
     "text": [
      "number of selected events is 7044\n"
     ]
    }
   ],
   "source": [
    "std::cout << \"number of selected events is \" << nsig_selected + nbkg_selected << std::endl;"
   ]
  },
  {
   "cell_type": "code",
   "execution_count": 10,
   "metadata": {
    "collapsed": false
   },
   "outputs": [
    {
     "name": "stdout",
     "output_type": "stream",
     "text": [
      " signal efficiency          = 0.499\n",
      " 1 - background efficiency  = 0.7946\n"
     ]
    }
   ],
   "source": [
    "std::cout << \" signal efficiency          = \" << double(nsig_selected)/nsig << std::endl; \n",
    "std::cout << \" 1 - background efficiency  = \" << 1. - double(nbkg_selected)/nbkg << std::endl; "
   ]
  },
  {
   "cell_type": "markdown",
   "metadata": {},
   "source": [
    "### Receiver Operating Characteristic (ROC) curve\n",
    "\n",
    "We make now a ROC curve plotting the signal and 1.- background efficiency for different data points"
   ]
  },
  {
   "cell_type": "code",
   "execution_count": 11,
   "metadata": {
    "collapsed": false
   },
   "outputs": [],
   "source": [
    "auto axis = new TAxis(100,xcut_min,xcut_max); \n",
    "int npoints = axis->GetNbins();\n",
    "int ifirst = 1; int ilast = axis->GetNbins()+1;\n",
    "auto graph = new TGraph(npoints);\n",
    "for (int i = ifirst; i < ilast; ++i) { \n",
    "    x_cut = axis->GetBinLowEdge(i); \n",
    "    double sig_eff = double( std::count_if(sigData.begin(), sigData.end(), selection_function) ) / nsig;\n",
    "    double bkg_eff = double( std::count_if(bkgData.begin(), bkgData.end(), selection_function) ) / nbkg;\n",
    "    graph->SetPoint(i-ifirst,sig_eff, 1.-bkg_eff);\n",
    "}"
   ]
  },
  {
   "cell_type": "code",
   "execution_count": null,
   "metadata": {
    "collapsed": false
   },
   "outputs": [],
   "source": [
    "graph->SetTitle(\"ROC Curve;signal efficiency;1.-background efficiency\");\n",
    "graph->Draw(\"ACP\");\n",
    "gPad->Draw();\n",
    "    "
   ]
  },
  {
   "cell_type": "code",
   "execution_count": null,
   "metadata": {
    "collapsed": true
   },
   "outputs": [],
   "source": []
  }
 ],
 "metadata": {
  "kernelspec": {
   "display_name": "ROOT C++",
   "language": "c++",
   "name": "root"
  },
  "language_info": {
   "codemirror_mode": "text/x-c++src",
   "file_extension": ".C",
   "mimetype": " text/x-c++src",
   "name": "c++"
  }
 },
 "nbformat": 4,
 "nbformat_minor": 0
}
