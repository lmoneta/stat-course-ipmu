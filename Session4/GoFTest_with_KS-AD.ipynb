{
 "cells": [
  {
   "cell_type": "markdown",
   "metadata": {},
   "source": [
    "##### Example of Kolmogorov-Smirnov and Anderson-Darling GoF Test\n",
    "\n",
    "We pwrform in this example a Goodness of fit test on a data sample vs a theoretical distribution. \n",
    "The distribution is a Gaussian with $\\mu=0$ and $\\sigma=1$.\n",
    "\n",
    "The data sample consists instead of a large fraction (e.g. 96%) of data generated with the theoretical distribution (Gaussian with $\\mu=0$ and $\\sigma=1$) and the remaining few percent is contaminaited with a different Gaussian  with $\\mu=3$  and $\\sigma=0.5$\n",
    "\n",
    "We perform both the Kolmogorov Smirnov and the Anderson-Darling test. \n",
    "\n",
    "At the end we try also using the Baker-Cousins $\\chi^2$"
   ]
  },
  {
   "cell_type": "code",
   "execution_count": null,
   "metadata": {
    "collapsed": true
   },
   "outputs": [],
   "source": [
    "%jsroot on"
   ]
  },
  {
   "cell_type": "code",
   "execution_count": null,
   "metadata": {
    "collapsed": false
   },
   "outputs": [],
   "source": [
    "int n = 1000;\n",
    "double frac1 = 0.96; \n",
    "int n1 = frac1*n; \n",
    "int n2 = n-n1;"
   ]
  },
  {
   "cell_type": "markdown",
   "metadata": {},
   "source": [
    "#### Data Generation"
   ]
  },
  {
   "cell_type": "code",
   "execution_count": null,
   "metadata": {
    "collapsed": false
   },
   "outputs": [],
   "source": [
    "TRandomMixMax r(1);\n",
    "std::vector<double> x(n); \n",
    "for (int i = 0; i < n1; ++i ) { \n",
    "    x[i] = r.Gaus(0,1);\n",
    "}\n",
    "for (int i = n1; i < n; ++i ) { \n",
    "    x[i] = r.Gaus(3,0.5);\n",
    "}"
   ]
  },
  {
   "cell_type": "code",
   "execution_count": null,
   "metadata": {
    "collapsed": false
   },
   "outputs": [],
   "source": [
    "// fill histogram\n",
    "auto h1 = new TH1D(\"h1\",\"Data Sample distribution\",100,-5,5);\n",
    "h1->FillN(x.size(),x.data(),nullptr);"
   ]
  },
  {
   "cell_type": "code",
   "execution_count": null,
   "metadata": {
    "collapsed": false
   },
   "outputs": [],
   "source": [
    "h1->Draw();\n",
    "gPad->Draw();"
   ]
  },
  {
   "cell_type": "markdown",
   "metadata": {},
   "source": [
    "We try also to fit the data with a Gaussian distribution. You see the fit is not very good"
   ]
  },
  {
   "cell_type": "code",
   "execution_count": null,
   "metadata": {
    "collapsed": false
   },
   "outputs": [],
   "source": [
    "h1->Fit(\"gaus\",\"L\");\n",
    "gStyle->SetOptFit(1111);\n",
    "gPad->Draw();"
   ]
  },
  {
   "cell_type": "code",
   "execution_count": null,
   "metadata": {
    "collapsed": false
   },
   "outputs": [],
   "source": [
    "//auto f1 =  h1->GetFunction(\"gaus\");\n",
    "auto pdf  = new TF1(\"pdf\",\"ROOT::Math::normal_pdf(x,1,0)\");"
   ]
  },
  {
   "cell_type": "markdown",
   "metadata": {},
   "source": [
    "#### Make the GoF Tests\n",
    "\n",
    "We make now the GoF with the theoretical function. Note that we do not use the fitted function, but the theoretical one.\n",
    "We use the ROOT::Math::GoFTest class of ROOT to perform the goodness of fit test. "
   ]
  },
  {
   "cell_type": "code",
   "execution_count": null,
   "metadata": {
    "collapsed": false
   },
   "outputs": [],
   "source": [
    "ROOT::Math::GoFTest gof(x.size(),x.data(),*pdf);"
   ]
  },
  {
   "cell_type": "markdown",
   "metadata": {},
   "source": [
    "##### Anderson-Darling Test"
   ]
  },
  {
   "cell_type": "code",
   "execution_count": null,
   "metadata": {
    "collapsed": false
   },
   "outputs": [],
   "source": [
    "pvalue = gof.AndersonDarlingTest();\n",
    "std::cout << \"Anderson-Darling p-value = \" << pvalue << std::endl;"
   ]
  },
  {
   "cell_type": "markdown",
   "metadata": {},
   "source": [
    "##### Kolmogorov-Smirnov Test"
   ]
  },
  {
   "cell_type": "code",
   "execution_count": null,
   "metadata": {
    "collapsed": false
   },
   "outputs": [],
   "source": [
    "pvalue = gof.KolmogorovSmirnovTest();\n",
    "std::cout << \"Kolmogorov-Smirnov p-value = \" << pvalue << std::endl;"
   ]
  },
  {
   "cell_type": "markdown",
   "metadata": {},
   "source": [
    "##### GoF Test using Baker-Cousins $\\chi^2$\n",
    "\n",
    "To compute the Baker-Cousins $\\chi^2$ for the data with respect to our assumed theoretical function, we fit the function to the data, but keeping the $\\mu$ and $\\sigma$ fixed. We keep varying only the normalization constant. "
   ]
  },
  {
   "cell_type": "code",
   "execution_count": null,
   "metadata": {
    "collapsed": false
   },
   "outputs": [],
   "source": [
    "pdf2 = new TF1(\"gaus_pdf\",\"[0]*ROOT::Math::normal_pdf(x,1,0)\");\n",
    "fitResult = h1->Fit(pdf2,\"L S\");\n",
    "double chi2LR = 2 * fitResult->MinFcnValue();\n",
    "std::cout << \"Baker-Cousins chi-squared = \" << chi2LR << std::endl;"
   ]
  },
  {
   "cell_type": "markdown",
   "metadata": {},
   "source": [
    "In order to compute the p-value for this case, we need to calibrate the test-statistics using pseudoeperiments"
   ]
  },
  {
   "cell_type": "code",
   "execution_count": null,
   "metadata": {
    "collapsed": false
   },
   "outputs": [],
   "source": [
    "// we should generate pseudo-experiments to get the correct p-values\n",
    "hchi2 = new TH1D(\"hchi2\",\"chi2 distribution\",100,0,200);\n",
    "h = new TH1D(\"h\",\"gaussian experiment\",100,-5,5);    \n",
    "for (int iexp = 0; iexp < 1000; ++iexp) { \n",
    "    pdf2->SetParameter(0,10);\n",
    "    h->FillRandom(pdf2->GetName(),n);\n",
    "    auto r = h->Fit(pdf2,\"L S Q\");\n",
    "    hchi2->Fill(2. * r->MinFcnValue() );\n",
    "    h->Reset();\n",
    "}\n",
    "hchi2->Draw();\n",
    "gPad->Draw();"
   ]
  },
  {
   "cell_type": "markdown",
   "metadata": {},
   "source": [
    "After getting the test statistic distribution from the pseudo-experiment we fit to a  $\\chi^2$ distribution where the free parameter is the number of degree of freedom, as we did in the exercise yesterday"
   ]
  },
  {
   "cell_type": "code",
   "execution_count": null,
   "metadata": {
    "collapsed": false
   },
   "outputs": [],
   "source": [
    "fchi2 = new TF1(\"fchi2\",\"[Constant]*ROOT::Math::chisquared_pdf(x,[ndf])\",0,100);\n",
    "fchi2->SetParameters(hchi2->GetEntries()*hchi2->GetBinWidth(1), hchi2->GetMean());\n",
    "hchi2->Fit(fchi2,\"LS\");\n",
    "ndf = fchi2->GetParameter(\"ndf\");\n",
    "std::cout << \"Fitted ndf is \" << ndf << std::endl;\n",
    "gStyle->SetOptFit(1111);\n",
    "gPad->Draw();"
   ]
  },
  {
   "cell_type": "code",
   "execution_count": null,
   "metadata": {
    "collapsed": false
   },
   "outputs": [],
   "source": [
    "pvalue = ROOT::Math::chisquared_cdf_c(chi2LR, ndf);\n",
    "std::cout << \"Computed p-value for Baker-Cousins chi-squared = \" << pvalue << std::endl;"
   ]
  },
  {
   "cell_type": "markdown",
   "metadata": {},
   "source": [
    "The example can be extended by computing the p-value distributions using pseudo-experiments for the KS and AD test. "
   ]
  }
 ],
 "metadata": {
  "kernelspec": {
   "display_name": "ROOT C++",
   "language": "c++",
   "name": "root"
  },
  "language_info": {
   "codemirror_mode": "text/x-c++src",
   "file_extension": ".C",
   "mimetype": " text/x-c++src",
   "name": "c++"
  }
 },
 "nbformat": 4,
 "nbformat_minor": 1
}
