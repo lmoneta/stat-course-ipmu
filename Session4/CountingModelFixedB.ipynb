{
 "cells": [
  {
   "cell_type": "markdown",
   "metadata": {},
   "source": [
    "## Creation of  a Counting Model with fixed background\n",
    "\n",
    "In this notebook we create a Poisson counting model with fixed background.\n",
    "\n",
    "\n",
    "\n",
    "The model describing the experiment is described by a Poisson distribution:  \n",
    "\n",
    "$$ P(n_{obs} | s,b) = Poisson (n_{obs} | s+b) = (s+b)^{n_{obs} } \\frac{ e^{-(s+b)} } { n_{obs} ! } $$\n",
    "\n",
    "We consider that we know precisly the number of background events. We will see in the next example how we can include in the model an uncertainty in $b$. \n",
    "\n",
    "\n",
    "We will create the model using **RooFit** and **RooStats**. \n",
    "See the slides \n",
    "-  RooFit: https://cernbox.cern.ch/index.php/s/kzGv4406IrpFpVM\n",
    "-  RooStats: https://cernbox.cern.ch/index.php/s/9DWJCObingTWB3r"
   ]
  },
  {
   "cell_type": "code",
   "execution_count": null,
   "metadata": {
    "collapsed": true
   },
   "outputs": [],
   "source": [
    "int nobs; double b; "
   ]
  },
  {
   "cell_type": "code",
   "execution_count": null,
   "metadata": {
    "collapsed": false
   },
   "outputs": [],
   "source": [
    "nobs = 4;                // number of observed events\n",
    "b = 3;                 // number of expected background even"
   ]
  },
  {
   "cell_type": "markdown",
   "metadata": {},
   "source": [
    "#### Model Creation using `RooWorkspace` \n",
    "\n",
    "Using the factory syntax of the `RooWorkspace` we create the parameters of the model and the Poisson p.d.f describing the model."
   ]
  },
  {
   "cell_type": "code",
   "execution_count": null,
   "metadata": {
    "collapsed": false
   },
   "outputs": [],
   "source": [
    "RooWorkspace w(\"w\");\n",
    "   \n",
    "// make Poisson model * Gaussian constraint\n",
    "w.factory(\"sum:nexp(s[3,0,15],b[1])\");\n",
    "// Poisson of (n | s+b)\n",
    "w.factory(\"Poisson:model(nobs[0,50],nexp)\");"
   ]
  },
  {
   "cell_type": "markdown",
   "metadata": {},
   "source": [
    "#### Creation of  the  `RooStats::ModelConfig` class\n",
    "\n",
    "We create the `ModelConfig` class, which is needed to run all `RooStats` statistics calculators. \n",
    "The class contains meta-information on the model, such as the name of the pdf, the observables, the parameter of interest and if existing the nuisance parameters. "
   ]
  },
  {
   "cell_type": "code",
   "execution_count": null,
   "metadata": {
    "collapsed": false
   },
   "outputs": [],
   "source": [
    "RooStats::ModelConfig mc(\"ModelConfig\",&w);\n",
    "mc.SetPdf(*w.pdf(\"model\"));\n",
    "mc.SetParametersOfInterest(*w.var(\"s\"));\n",
    "mc.SetObservables(*w.var(\"nobs\"));\n",
    "\n",
    "// these are needed for the hypothesis tests\n",
    "mc.SetSnapshot(*w.var(\"s\"));\n",
    "\n",
    "mc.Print();\n",
    "// import model in the workspace \n",
    "w.import(mc);"
   ]
  },
  {
   "cell_type": "markdown",
   "metadata": {},
   "source": [
    "#####  Setting  the model parameter values  ( e.g. number of background events )\n",
    "\n",
    "We set the assumed value of b, and  since we consider it fixed (known precisly) it is important to set it constant.  "
   ]
  },
  {
   "cell_type": "code",
   "execution_count": null,
   "metadata": {
    "collapsed": false
   },
   "outputs": [],
   "source": [
    "w.var(\"b\")->setConstant(true); \n",
    "w.var(\"b\")->setVal(b);    "
   ]
  },
  {
   "cell_type": "markdown",
   "metadata": {},
   "source": [
    "#### Data Set generation\n",
    "\n",
    "We create here the observed data set for the model. The data set will conist of a single event with the observable \n",
    "$n_{obs}$ equal to the given value (e.g. 3). \n",
    "\n",
    "It is important to import the data set in the workspace\n"
   ]
  },
  {
   "cell_type": "code",
   "execution_count": null,
   "metadata": {
    "collapsed": false
   },
   "outputs": [],
   "source": [
    "RooDataSet data(\"data\",\"\", *w.var(\"nobs\"));\n",
    "w.var(\"nobs\")->setVal(nobs);\n",
    "data.add(*w.var(\"nobs\") );\n",
    "// import data set in workspace \n",
    "w.import(data);\n",
    "std::cout << \"number of observed events  = \" << data.get(0)->getRealValue(\"nobs\") << std::endl;"
   ]
  },
  {
   "cell_type": "markdown",
   "metadata": {},
   "source": [
    "#### Save Workspace in a file\n",
    "\n",
    "We save the generated model as a workspace in a file that can be used later on. \n",
    "Before saving we print its content for showing its content. "
   ]
  },
  {
   "cell_type": "code",
   "execution_count": null,
   "metadata": {
    "collapsed": false
   },
   "outputs": [],
   "source": [
    "w.Print();\n",
    "w.writeToFile(\"CountingModelFixedB.root\", true);"
   ]
  },
  {
   "cell_type": "code",
   "execution_count": null,
   "metadata": {
    "collapsed": true
   },
   "outputs": [],
   "source": []
  }
 ],
 "metadata": {
  "kernelspec": {
   "display_name": "ROOT C++",
   "language": "c++",
   "name": "root"
  },
  "language_info": {
   "codemirror_mode": "text/x-c++src",
   "file_extension": ".C",
   "mimetype": " text/x-c++src",
   "name": "c++"
  }
 },
 "nbformat": 4,
 "nbformat_minor": 0
}
