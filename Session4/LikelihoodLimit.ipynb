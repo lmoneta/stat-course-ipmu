{
 "cells": [
  {
   "cell_type": "markdown",
   "metadata": {},
   "source": [
    "## Profile Likelihood Example\n",
    "\n",
    "In this example we compute an interval using the Profile Likelihood method. \n",
    "\n",
    "$$ \\lambda ( \\mu ) = \\frac{ L ( x | \\mu, \\hat{ \\hat { \\nu } } ) } { L ( x | \\hat{\\mu}, \\hat{\\nu } ) }  $$  \n",
    "\n",
    "The interval is computed using the asymptotic propriety of $\\lambda(\\mu)$ based on Wilk's theorem: \n",
    "\n",
    "-  $-2 \\log { \\lambda (\\mu ) } $ is distributed as a $\\chi^2$ with 1 degree of freedom"
   ]
  },
  {
   "cell_type": "code",
   "execution_count": null,
   "metadata": {
    "collapsed": false
   },
   "outputs": [],
   "source": [
    "using namespace RooStats;"
   ]
  },
  {
   "cell_type": "code",
   "execution_count": null,
   "metadata": {
    "collapsed": true
   },
   "outputs": [],
   "source": [
    "RooStats::LikelihoodInterval * interval = nullptr;\n",
    "RooStats::LikelihoodIntervalPlot * plot = nullptr; "
   ]
  },
  {
   "cell_type": "markdown",
   "metadata": {},
   "source": [
    "##### 1. Reading the model (Workspace) from input file\n",
    "\n",
    "First part is just to access the workspace file and retrieve the model and the data "
   ]
  },
  {
   "cell_type": "code",
   "execution_count": null,
   "metadata": {
    "collapsed": false
   },
   "outputs": [],
   "source": [
    "//TString fileName = \"CountingModelVaryingB.root\";\n",
    "//TString fileName = \"PoissonModel.root\";\n",
    "TString fileName = \"HiggsBinModel.root\";\n",
    "TString workspaceName = \"w\";\n",
    "TString modelConfigName = \"ModelConfig\";\n",
    "TString dataName = \"data\";\n",
    "TString integrationType = \"\";  "
   ]
  },
  {
   "cell_type": "code",
   "execution_count": null,
   "metadata": {
    "collapsed": false
   },
   "outputs": [],
   "source": [
    "auto file = TFile::Open(fileName);"
   ]
  },
  {
   "cell_type": "code",
   "execution_count": null,
   "metadata": {
    "collapsed": false
   },
   "outputs": [],
   "source": [
    "auto w =  (RooWorkspace*) file->Get(workspaceName);\n",
    "w->Print();\n",
    "auto mc = (RooStats::ModelConfig*) w->obj(modelConfigName);\n",
    "auto  data = w->data(dataName);\n",
    "auto poi = (RooRealVar*) mc->GetParametersOfInterest()->first();  // get POI "
   ]
  },
  {
   "cell_type": "code",
   "execution_count": null,
   "metadata": {
    "collapsed": false
   },
   "outputs": [],
   "source": [
    "// This is only for debugging\n",
    "std::cout << \"number of observed events in the data : \" << std::endl;\n",
    "auto args = data->get(0);\n",
    "if (args) args->Print(\"V\");\n",
    "else  Error(\"LikelihoodLimit\",\"Input data does not contain any event\");\n",
    "//std::cout << \"number of background events \" << w->var(\"b\")->getVal() << std::endl;"
   ]
  },
  {
   "cell_type": "markdown",
   "metadata": {},
   "source": [
    "#### 2. Create and configure `ProfileLikelihoodCalculator` class"
   ]
  },
  {
   "cell_type": "code",
   "execution_count": null,
   "metadata": {
    "collapsed": false
   },
   "outputs": [],
   "source": [
    "RooStats::ProfileLikelihoodCalculator plCalc(*data,*mc);"
   ]
  },
  {
   "cell_type": "markdown",
   "metadata": {},
   "source": [
    "Set the Confidence Level for the interval (e.g 0.95 for a 95% interval)"
   ]
  },
  {
   "cell_type": "code",
   "execution_count": null,
   "metadata": {
    "collapsed": true
   },
   "outputs": [],
   "source": [
    "plCalc.SetConfidenceLevel(0.90);"
   ]
  },
  {
   "cell_type": "markdown",
   "metadata": {},
   "source": [
    "#### 3. Compute the interval\n",
    "\n",
    "Run the calculator by performing the unconditional and conditional fits (profiling the nuisance parameters)"
   ]
  },
  {
   "cell_type": "code",
   "execution_count": null,
   "metadata": {
    "collapsed": false
   },
   "outputs": [],
   "source": [
    "interval = plCalc.GetInterval();"
   ]
  },
  {
   "cell_type": "code",
   "execution_count": null,
   "metadata": {
    "collapsed": false
   },
   "outputs": [],
   "source": [
    "lowerLimit = interval->LowerLimit(*poi);\n",
    "upperLimit = interval->UpperLimit(*poi);"
   ]
  },
  {
   "cell_type": "code",
   "execution_count": null,
   "metadata": {
    "collapsed": false
   },
   "outputs": [],
   "source": [
    "cout << 100*plCalc.ConfidenceLevel() << \"% interval is : [\"<< lowerLimit << \", \"<< upperLimit <<\"] \"<<endl;"
   ]
  },
  {
   "cell_type": "markdown",
   "metadata": {},
   "source": [
    "#### 4. Visualize the Interval"
   ]
  },
  {
   "cell_type": "code",
   "execution_count": null,
   "metadata": {
    "collapsed": false
   },
   "outputs": [],
   "source": [
    "plot = new RooStats::LikelihoodIntervalPlot(interval);\n",
    "//plot->SetNPoints(50);   // if plotting takes a long time\n",
    "plot->SetRange(0,1000);"
   ]
  },
  {
   "cell_type": "code",
   "execution_count": null,
   "metadata": {
    "collapsed": false
   },
   "outputs": [],
   "source": [
    "plot->Draw(\"TF1\"); gPad->Draw();"
   ]
  },
  {
   "cell_type": "code",
   "execution_count": null,
   "metadata": {
    "collapsed": true
   },
   "outputs": [],
   "source": []
  }
 ],
 "metadata": {
  "kernelspec": {
   "display_name": "ROOT C++",
   "language": "c++",
   "name": "root"
  },
  "language_info": {
   "codemirror_mode": "text/x-c++src",
   "file_extension": ".C",
   "mimetype": " text/x-c++src",
   "name": "c++"
  }
 },
 "nbformat": 4,
 "nbformat_minor": 0
}
