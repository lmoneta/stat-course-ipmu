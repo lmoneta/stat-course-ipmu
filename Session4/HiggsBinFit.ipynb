{
 "cells": [
  {
   "cell_type": "markdown",
   "metadata": {},
   "source": [
    "## $H \\to \\gamma \\gamma$ Fit\n",
    "\n",
    "This is an example of fitting the 2-photon invariant mass to determine the number of Higgs signal events.\n",
    "\n",
    "We have a data set consists of ~ 30000 di-photon invariant mass values from a tetx file (**Hgg.txt**) which should be in the current directory. \n",
    "\n",
    "We perform a binned maximum likelihood fit (for reducing the CPU time) using RooFit.  "
   ]
  },
  {
   "cell_type": "markdown",
   "metadata": {},
   "source": [
    "#### 1. Reading Input data set"
   ]
  },
  {
   "cell_type": "code",
   "execution_count": 1,
   "metadata": {
    "collapsed": false
   },
   "outputs": [
    {
     "name": "stdout",
     "output_type": "stream",
     "text": [
      "Read 30770 from the file \n"
     ]
    }
   ],
   "source": [
    "TTree tree(\"tree\",\"tree\");\n",
    "int nevt = tree.ReadFile(\"Hgg.txt\",\"x\");\n",
    "if (nevt <= 0) {\n",
    "    Error(\"fitHgg\",\"Error reading data from input file \");\n",
    "}\n",
    "std::cout << \"Read \" << nevt << \" from the file \" << std::endl;"
   ]
  },
  {
   "cell_type": "markdown",
   "metadata": {
    "collapsed": true
   },
   "source": [
    "#### 2. Model creation\n",
    "\n",
    "We make now the RooFit model using the RooWorkspace Factory. We assume a Gaussian distribution for the signal and a double  exponential distribution for the background as following: \n",
    "\n",
    "$$ P(x | \\mu , \\nu ) = n_{sig} \\times G(x | M , \\sigma) + n_{bkg} \\times E(x|a_1,a_2)$$\n",
    "\n",
    "where $G (x | M , \\sigma)$ is the Gaussian distribution for the signal and $E(x|a_1,a_2)$ is the exponential distribution describing the background. \n",
    "\n",
    "$$E(x|a_1,a_2) = \\frac{ e^{( - a1 * x/100 - a2 * (x/100)^2 )}}{\\int e^{-(.....)} dx }$$ "
   ]
  },
  {
   "cell_type": "code",
   "execution_count": 2,
   "metadata": {
    "collapsed": false
   },
   "outputs": [
    {
     "name": "stdout",
     "output_type": "stream",
     "text": [
      "\n",
      "\u001b[1mRooFit v3.60 -- Developed by Wouter Verkerke and David Kirkby\u001b[0m \n",
      "                Copyright (C) 2000-2013 NIKHEF, University of California & Stanford University\n",
      "                All rights reserved, please read http://roofit.sourceforge.net/license.txt\n",
      "\n"
     ]
    }
   ],
   "source": [
    "   RooWorkspace w(\"w\");\n",
    "   w.factory(\"x[110,160]\");  // invariant mass\n",
    "   \n",
    "   w.factory(\"nbackground[10000, 0, 10000]\");\n",
    "   //w.factory(\"Exponential::z1(x, a1[-1,-10,0])\");\n",
    "   w.var(\"nbackground\")->setVal(nevt);\n",
    "   w.var(\"nbackground\")->setMin(0.1*nevt);\n",
    "   w.var(\"nbackground\")->setMax(10*nevt);\n",
    "\n",
    "   // create exponential model as two components\n",
    "   w.factory(\"a1[ 7.5, -500, 500]\");\n",
    "   w.factory(\"a2[-1.5, -500, 500]\");\n",
    "   //w.factory(\"cexpr::z('-(a1*x/100. + a2*(x*x/100000.))', a1, a2, x)\");\n",
    "   w.factory(\"expr::z('-(a1*x/100. + a2*(x/100.)^2)', a1, a2, x)\");\n",
    "   w.factory(\"Exponential::bmodel(z, 1)\");\n",
    "\n",
    "   // signal model   \n",
    "   w.factory(\"nsignal[100, 0.0, 1000.0]\");\n",
    "   //w.factory(\"mass[%f, %f, %f]' % (massguess, massmin, massmax))\n",
    "   w.factory(\"mass[130, 110, 150]\");\n",
    "   w.factory(\"width[1, 0.5, 5]\");\n",
    "   w.factory(\"Gaussian::smodel(x, mass, width)\");\n",
    "   RooAbsPdf * smodel = w.pdf(\"smodel\");\n",
    "\n",
    "   w.factory(\"SUM::model(nbackground*bmodel, nsignal*smodel)\");\n",
    "   RooAbsPdf * model = w.pdf(\"model\");\n",
    "   RooRealVar * x = w.var(\"x\");"
   ]
  },
  {
   "cell_type": "code",
   "execution_count": 3,
   "metadata": {
    "collapsed": false
   },
   "outputs": [
    {
     "name": "stdout",
     "output_type": "stream",
     "text": [
      "\n",
      "RooWorkspace(w) w contents\n",
      "\n",
      "variables\n",
      "---------\n",
      "(a1,a2,mass,nbackground,nsignal,width,x)\n",
      "\n",
      "p.d.f.s\n",
      "-------\n",
      "RooExponential::bmodel[ x=z c=1 ] = 0.000616625\n",
      "RooAddPdf::model[ nbackground * bmodel + nsignal * smodel ] = 0.000610556\n",
      "RooGaussian::smodel[ x=x mean=mass sigma=width ] = 3.72665e-06\n",
      "\n",
      "functions\n",
      "--------\n",
      "RooFormulaVar::z[ actualVars=(a1,a2,x) formula=\"-(a1*x/100.+a2*(x/100.)^2)\" ] = -7.39125\n",
      "\n"
     ]
    }
   ],
   "source": [
    "w.Print();"
   ]
  },
  {
   "cell_type": "markdown",
   "metadata": {},
   "source": [
    "##### Creation of RooFit data set\n",
    "\n",
    "We create now the RooFit data set importing the data from the ROOT tree.\n",
    "We import also the data set in the workspace.\n",
    "We now bin the data in an histogram and we create a RooFit data set from the histogram with 100 bins from 110 to 160. "
   ]
  },
  {
   "cell_type": "code",
   "execution_count": 4,
   "metadata": {
    "collapsed": false
   },
   "outputs": [
    {
     "data": {
      "image/png": "[encoded data removed]",
      "text/plain": [
       "<IPython.core.display.Image object>"
      ]
     },
     "metadata": {},
     "output_type": "display_data"
    },
    {
     "name": "stderr",
     "output_type": "stream",
     "text": [
      "Info in <TCanvas::MakeDefCanvas>:  created default TCanvas with name c1\n"
     ]
    }
   ],
   "source": [
    "auto h1 = new TH1D(\"h1\",\"Invariant Mass distribution;Mass;\",100,110,160);\n",
    "tree.Draw(\"x >> h1\");\n",
    "h1->Draw(); gPad->Draw();"
   ]
  },
  {
   "cell_type": "code",
   "execution_count": 5,
   "metadata": {
    "collapsed": false
   },
   "outputs": [
    {
     "name": "stdout",
     "output_type": "stream",
     "text": [
      "[#1] INFO:DataHandling -- RooDataHist::adjustBinning(data): fit range of variable x expanded to nearest bin boundaries: [110,160] --> [110,160]\n",
      "[#1] INFO:ObjectHandling -- RooWorkspace::import(w) importing dataset data\n"
     ]
    }
   ],
   "source": [
    "RooDataHist data(\"data\",\"data\",*w.var(\"x\"),h1);\n",
    "w.import(data);"
   ]
  },
  {
   "cell_type": "code",
   "execution_count": 6,
   "metadata": {
    "collapsed": false
   },
   "outputs": [],
   "source": [
    "RooFitResult * r = nullptr;\n",
    "RooPlot * plot = nullptr;"
   ]
  },
  {
   "cell_type": "code",
   "execution_count": 7,
   "metadata": {
    "collapsed": true
   },
   "outputs": [],
   "source": [
    "plot = w.var(\"x\")->frame();\n",
    "data.plotOn(plot);"
   ]
  },
  {
   "cell_type": "code",
   "execution_count": 8,
   "metadata": {
    "collapsed": false
   },
   "outputs": [
    {
     "data": {
      "image/png": "[encoded data removed]",
      "text/plain": [
       "<IPython.core.display.Image object>"
      ]
     },
     "metadata": {},
     "output_type": "display_data"
    }
   ],
   "source": [
    "plot->Draw(); gPad->Draw();"
   ]
  },
  {
   "cell_type": "markdown",
   "metadata": {},
   "source": [
    "### 3 Fit to the data\n",
    "\n",
    "The binned maximum likelihood fit is perfomed using RooFit to the binned data set. \n",
    "Minuit2 is used as minimization engine. Note that we use a special option, RooFit::Offset(true) which subtract from the likelihood an offset to mitigate the numerical precision when computing the negative log-likelihood function."
   ]
  },
  {
   "cell_type": "code",
   "execution_count": 9,
   "metadata": {
    "collapsed": false
   },
   "outputs": [
    {
     "name": "stdout",
     "output_type": "stream",
     "text": [
      "[#1] INFO:Minization -- p.d.f. provides expected number of events, including extended term in likelihood.\n",
      "[#1] INFO:NumericIntegration -- RooRealIntegral::init(bmodel_Int[x]) using numeric integrator RooIntegrator1D to calculate Int(x)\n",
      "[#1] INFO:Minization -- RooMinimizer::optimizeConst: activating const optimization\n",
      "[#1] INFO:NumericIntegration -- RooRealIntegral::init(bmodel_Int[x]) using numeric integrator RooIntegrator1D to calculate Int(x)\n",
      "[#1] INFO:Minization --  The following expressions will be evaluated in cache-and-track mode: (bmodel,smodel)\n",
      "Minuit2Minimizer: Minimize with max-calls 3000 convergence for edm < 1 strategy 1\n",
      "[#1] INFO:Minization -- RooNLLVar::evaluatePartition(nll_model_data) first = 0 last = 100 Likelihood offset now set to -156452\n",
      "MnSeedGenerator: for initial parameters FCN = 0\n",
      "MnSeedGenerator: Initial state:   - FCN =                0 Edm =      13041.3 NCalls =     29\n",
      "MnSeedGenerator: Negative G2 found - new state:   - FCN =  -383.2116896473 Edm =      14685.2 NCalls =    122\n",
      "VariableMetric: start iterating until Edm is < 0.001\n",
      "VariableMetric: Initial state   - FCN =  -383.2116896473 Edm =      14685.2 NCalls =    122\n",
      "VariableMetric: Iteration #   0 - FCN =  -383.2116896473 Edm =      14685.2 NCalls =    122\n",
      "VariableMetric: Iteration #   1 - FCN =  -13559.64711588 Edm =      130.358 NCalls =    142\n",
      "VariableMetric: Iteration #   2 - FCN =  -13642.22777248 Edm =       16.415 NCalls =    158\n",
      "VariableMetric: Iteration #   3 - FCN =  -13657.78849875 Edm =     0.215992 NCalls =    172\n",
      "VariableMetric: Iteration #   4 - FCN =  -13660.39131056 Edm =    0.0993498 NCalls =    196\n",
      "VariableMetric: Iteration #   5 - FCN =  -13660.52714822 Edm =    0.0458811 NCalls =    210\n",
      "VariableMetric: Iteration #   6 - FCN =  -13660.59355305 Edm =    0.0734435 NCalls =    224\n",
      "VariableMetric: Iteration #   7 - FCN =  -13660.76081794 Edm =   0.00668027 NCalls =    240\n",
      "VariableMetric: Iteration #   8 - FCN =  -13660.79479443 Edm =     0.019438 NCalls =    254\n",
      "VariableMetric: Iteration #   9 - FCN =  -13660.88249173 Edm =   0.00314256 NCalls =    268\n",
      "VariableMetric: Iteration #  10 - FCN =  -13660.88702427 Edm =   0.00192065 NCalls =    282\n",
      "VariableMetric: Iteration #  11 - FCN =    -13660.924996 Edm =    0.0363763 NCalls =    298\n",
      "VariableMetric: Iteration #  12 - FCN =  -13661.20763671 Edm =     0.230088 NCalls =    314\n",
      "VariableMetric: Iteration #  13 - FCN =  -13661.72402975 Edm =   0.00888779 NCalls =    329\n",
      "VariableMetric: Iteration #  14 - FCN =  -13661.73364695 Edm =  0.000163892 NCalls =    343\n",
      "VariableMetric: After Hessian   - FCN =  -13661.73364695 Edm =  0.000137924 NCalls =    385\n",
      "VariableMetric: Iteration #  15 - FCN =  -13661.73364695 Edm =  0.000137924 NCalls =    385\n",
      "Minuit2Minimizer : Valid minimum - status = 0\n",
      "FVAL  = -13661.7336469517031\n",
      "Edm   = 0.000137924389541850236\n",
      "Nfcn  = 385\n",
      "a1\t  = 8.61176\t +/-  0.799997\t(limited)\n",
      "a2\t  = -2.01906\t +/-  0.302624\t(limited)\n",
      "mass\t  = 124.081\t +/-  0.535962\t(limited)\n",
      "nbackground\t  = 30494.3\t +/-  195.978\t(limited)\n",
      "nsignal\t  = 275.167\t +/-  90.0075\t(limited)\n",
      "width\t  = 1.48511\t +/-  0.477616\t(limited)\n",
      "[#1] INFO:Minization -- RooMinimizer::optimizeConst: deactivating const optimization\n"
     ]
    },
    {
     "name": "stderr",
     "output_type": "stream",
     "text": [
      "Info in <Minuit2>: Minuit2Minimizer::Hesse : Hesse is valid - matrix is accurate\n"
     ]
    }
   ],
   "source": [
    "r = model->fitTo(data, RooFit::Minimizer(\"Minuit2\"),RooFit::Save(true), RooFit::Offset(true));"
   ]
  },
  {
   "cell_type": "markdown",
   "metadata": {},
   "source": [
    "#### 4. Plot of the fit result over the data"
   ]
  },
  {
   "cell_type": "code",
   "execution_count": 10,
   "metadata": {
    "collapsed": false,
    "scrolled": false
   },
   "outputs": [
    {
     "data": {
      "image/png": "[encoded data removed]",
      "text/plain": [
       "<IPython.core.display.Image object>"
      ]
     },
     "metadata": {},
     "output_type": "display_data"
    },
    {
     "name": "stdout",
     "output_type": "stream",
     "text": [
      "[#1] INFO:NumericIntegration -- RooRealIntegral::init(bmodel_Int[x]) using numeric integrator RooIntegrator1D to calculate Int(x)\n",
      "[#1] INFO:Plotting -- RooAbsPdf::plotOn(model) directly selected PDF components: (bmodel)\n",
      "[#1] INFO:Plotting -- RooAbsPdf::plotOn(model) indirectly selected PDF components: (z)\n",
      "[#1] INFO:NumericIntegration -- RooRealIntegral::init(bmodel_Int[x]) using numeric integrator RooIntegrator1D to calculate Int(x)\n",
      "[#1] INFO:Plotting -- RooAbsPdf::plotOn(model) directly selected PDF components: (smodel)\n",
      "[#1] INFO:Plotting -- RooAbsPdf::plotOn(model) indirectly selected PDF components: ()\n",
      "[#1] INFO:NumericIntegration -- RooRealIntegral::init(bmodel_Int[x]) using numeric integrator RooIntegrator1D to calculate Int(x)\n"
     ]
    }
   ],
   "source": [
    "\n",
    "model->plotOn(plot);\n",
    "model->plotOn(plot, RooFit::Components(\"bmodel\"),RooFit::LineStyle(kDashed));\n",
    "model->plotOn(plot, RooFit::Components(\"smodel\"),RooFit::LineColor(kRed));\n",
    "model->paramOn(plot);\n",
    "\n",
    "plot->Draw();\n",
    "gPad->Draw();"
   ]
  },
  {
   "cell_type": "markdown",
   "metadata": {},
   "source": [
    "#### 5. Create RooStats model for statistical calculation\n",
    "Before saving the workspace we create the RooStats model config object which is needed for the RooStats tools."
   ]
  },
  {
   "cell_type": "code",
   "execution_count": 11,
   "metadata": {
    "collapsed": false
   },
   "outputs": [
    {
     "name": "stdout",
     "output_type": "stream",
     "text": [
      "\n",
      "=== Using the following for ModelConfig ===\n",
      "Observables:             RooArgSet:: = (x)\n",
      "Parameters of Interest:  RooArgSet:: = (nsignal)\n",
      "Nuisance Parameters:     RooArgSet:: = (a1,a2,nbackground)\n",
      "PDF:                     RooAddPdf::model[ nbackground * bmodel + nsignal * smodel ] = 0.000350859\n",
      "\n"
     ]
    }
   ],
   "source": [
    "RooStats::ModelConfig mc(\"ModelConfig\",&w);\n",
    "mc.SetPdf(*w.pdf(\"model\"));\n",
    "mc.SetParametersOfInterest(*w.var(\"nsignal\"));\n",
    "mc.SetObservables(*w.var(\"x\"));\n",
    "// define set of nuisance parameters\n",
    "w.defineSet(\"nuisParams\",\"a1,a2,nbackground\");\n",
    "\n",
    "mc.SetNuisanceParameters(*w.set(\"nuisParams\"));\n",
    "mc.Print();"
   ]
  },
  {
   "cell_type": "markdown",
   "metadata": {},
   "source": [
    "We want to semplify the H->gg model (for speeding-up ) the RooStats calculations, by assuming that the mass and the sigma of the signal are known and do not vary in the fits. We set them to constant"
   ]
  },
  {
   "cell_type": "code",
   "execution_count": 12,
   "metadata": {
    "collapsed": false
   },
   "outputs": [],
   "source": [
    "w.var(\"mass\")->setConstant(true);\n",
    "w.var(\"width\")->setConstant(true);\n",
    "w.import(mc);"
   ]
  },
  {
   "cell_type": "code",
   "execution_count": 13,
   "metadata": {
    "collapsed": false
   },
   "outputs": [
    {
     "name": "stdout",
     "output_type": "stream",
     "text": [
      "\n",
      "RooWorkspace(w) w contents\n",
      "\n",
      "variables\n",
      "---------\n",
      "(a1,a2,mass,nbackground,nsignal,width,x)\n",
      "\n",
      "p.d.f.s\n",
      "-------\n",
      "RooExponential::bmodel[ x=z c=1 ] = 0.000354025\n",
      "RooAddPdf::model[ nbackground * bmodel + nsignal * smodel ] = 0.000350859\n",
      "RooGaussian::smodel[ x=x mean=mass sigma=width ] = 1.8233e-12\n",
      "\n",
      "functions\n",
      "--------\n",
      "RooFormulaVar::z[ actualVars=(a1,a2,x) formula=\"-(a1*x/100.+a2*(x/100.)^2)\" ] = -7.94614\n",
      "\n",
      "datasets\n",
      "--------\n",
      "RooDataHist::data(x)\n",
      "\n",
      "named sets\n",
      "----------\n",
      "ModelConfig_NuisParams:(a1,a2,nbackground)\n",
      "ModelConfig_Observables:(x)\n",
      "ModelConfig_POI:(nsignal)\n",
      "nuisParams:(a1,a2,nbackground)\n",
      "\n",
      "generic objects\n",
      "---------------\n",
      "RooStats::ModelConfig::ModelConfig\n",
      "\n"
     ]
    }
   ],
   "source": [
    "w.writeToFile(\"HiggsBinModel.root\",true);\n",
    "w.Print();"
   ]
  },
  {
   "cell_type": "code",
   "execution_count": null,
   "metadata": {
    "collapsed": true
   },
   "outputs": [],
   "source": []
  }
 ],
 "metadata": {
  "kernelspec": {
   "display_name": "ROOT C++",
   "language": "c++",
   "name": "root"
  },
  "language_info": {
   "codemirror_mode": "text/x-c++src",
   "file_extension": ".C",
   "mimetype": " text/x-c++src",
   "name": "c++"
  }
 },
 "nbformat": 4,
 "nbformat_minor": 0
}
