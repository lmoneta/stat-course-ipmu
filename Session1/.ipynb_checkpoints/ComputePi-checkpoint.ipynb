{
 "cells": [
  {
   "cell_type": "markdown",
   "metadata": {},
   "source": [
    "# Computation of  the number $\\pi$"
   ]
  },
  {
   "cell_type": "code",
   "execution_count": 1,
   "metadata": {
    "collapsed": false
   },
   "outputs": [
    {
     "name": "stdout",
     "output_type": "stream",
     "text": [
      "(int) 100000000\n"
     ]
    }
   ],
   "source": [
    "n = 100000000"
   ]
  },
  {
   "cell_type": "markdown",
   "metadata": {},
   "source": [
    "### Define the random number generator to use "
   ]
  },
  {
   "cell_type": "code",
   "execution_count": 2,
   "metadata": {
    "collapsed": false
   },
   "outputs": [],
   "source": [
    "TRandom * r = new TRandomMixMax();"
   ]
  },
  {
   "cell_type": "code",
   "execution_count": 3,
   "metadata": {
    "collapsed": false
   },
   "outputs": [
    {
     "name": "stdout",
     "output_type": "stream",
     "text": [
      "(TStopwatch *) 0x7fc76f04f190\n"
     ]
    }
   ],
   "source": [
    "t = new TStopwatch()"
   ]
  },
  {
   "cell_type": "code",
   "execution_count": 4,
   "metadata": {
    "collapsed": true
   },
   "outputs": [],
   "source": [
    "n_inside = 0;\n",
    "t->Start();"
   ]
  },
  {
   "cell_type": "code",
   "execution_count": 5,
   "metadata": {
    "collapsed": false
   },
   "outputs": [
    {
     "name": "stdout",
     "output_type": "stream",
     "text": [
      "Generated 200000000 numbers to compute pi in 3.75 sec \n"
     ]
    }
   ],
   "source": [
    "for (int i = 0; i < n; ++i) { \n",
    "    double x = gRandom->Uniform(0,1);\n",
    "    double y = gRandom->Uniform(0,1);\n",
    "    if (sqrt(x*x + y*y) <= 1.0 ) {\n",
    "        n_inside += 1;\n",
    "    }\n",
    "}\n",
    "t->Stop();\n",
    "std::cout << \"Generated \" << 2 * n << \" numbers to compute pi in \" << t->CpuTime() << \" sec \" << std::endl;"
   ]
  },
  {
   "cell_type": "markdown",
   "metadata": {},
   "source": [
    "### From the number inside the circle compute $\\pi$\n",
    "\n",
    "The true value of $\\pi$ is 3.1415926535897932384626"
   ]
  },
  {
   "cell_type": "code",
   "execution_count": 6,
   "metadata": {
    "collapsed": false
   },
   "outputs": [
    {
     "name": "stdout",
     "output_type": "stream",
     "text": [
      "pi =           3.14154880 \n"
     ]
    }
   ],
   "source": [
    "pi = 4.*double(n_inside)/double(n);\n",
    "printf(\"pi = %20.8f \\n\",pi);    "
   ]
  },
  {
   "cell_type": "code",
   "execution_count": 8,
   "metadata": {
    "collapsed": false
   },
   "outputs": [
    {
     "name": "stderr",
     "output_type": "stream",
     "text": [
      "\u001b[1minput_line_43:2:9: \u001b[0m\u001b[0;1;31merror: \u001b[0m\u001b[1mredefinition of 'p'\u001b[0m\n",
      " double p = double(n_inside)/double(n);\n",
      "\u001b[0;1;32m        ^\n",
      "\u001b[0m\u001b[1minput_line_42:2:9: \u001b[0m\u001b[0;1;30mnote: \u001b[0mprevious definition is here\u001b[0m\n",
      " double p = double(n_inside)/double(n);\n",
      "\u001b[0;1;32m        ^\n",
      "\u001b[0m"
     ]
    }
   ],
   "source": [
    "double p = double(n_inside)/double(n);\n",
    "double err_pi = sqrt( p*(1.-p)/n );\n",
    "std::cout << \"Error in pi is \" << err_pi << std::endl;"
   ]
  },
  {
   "cell_type": "code",
   "execution_count": null,
   "metadata": {
    "collapsed": true
   },
   "outputs": [],
   "source": []
  }
 ],
 "metadata": {
  "kernelspec": {
   "display_name": "ROOT C++",
   "language": "c++",
   "name": "root"
  },
  "language_info": {
   "codemirror_mode": "text/x-c++src",
   "file_extension": ".C",
   "mimetype": " text/x-c++src",
   "name": "c++"
  }
 },
 "nbformat": 4,
 "nbformat_minor": 1
}
