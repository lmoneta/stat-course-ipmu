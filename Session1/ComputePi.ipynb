{
 "cells": [
  {
   "cell_type": "markdown",
   "metadata": {},
   "source": [
    "# Computation of  the number $\\pi$ using Monte Carlo"
   ]
  },
  {
   "cell_type": "code",
   "execution_count": 1,
   "metadata": {
    "collapsed": false
   },
   "outputs": [
    {
     "name": "stdout",
     "output_type": "stream",
     "text": [
      "(int) 1000000000\n"
     ]
    }
   ],
   "source": [
    "n = 1000000000"
   ]
  },
  {
   "cell_type": "markdown",
   "metadata": {},
   "source": [
    "### Define the random number generator to use "
   ]
  },
  {
   "cell_type": "code",
   "execution_count": 2,
   "metadata": {
    "collapsed": false
   },
   "outputs": [],
   "source": [
    "TRandom * r = new TRandom3();"
   ]
  },
  {
   "cell_type": "code",
   "execution_count": 3,
   "metadata": {
    "collapsed": false
   },
   "outputs": [
    {
     "name": "stdout",
     "output_type": "stream",
     "text": [
      "(TStopwatch *) 0x7f7fab37cc40\n"
     ]
    }
   ],
   "source": [
    "t = new TStopwatch()"
   ]
  },
  {
   "cell_type": "markdown",
   "metadata": {},
   "source": [
    "### Computation of $\\pi$ \n",
    "\n",
    "We compute $\\pi$ by calculating the area of a quarter of a circle with radius 1 using a Monte Carlo method.\n",
    "We generate 2 numbers (x,y) between 0 and 1 and we accept the numbers which are inside the circle: $x^2+y^2 <= 1$ "
   ]
  },
  {
   "cell_type": "code",
   "execution_count": 4,
   "metadata": {
    "collapsed": true
   },
   "outputs": [],
   "source": [
    "n_inside = 0;\n",
    "t->Start();"
   ]
  },
  {
   "cell_type": "code",
   "execution_count": 5,
   "metadata": {
    "collapsed": false
   },
   "outputs": [
    {
     "name": "stdout",
     "output_type": "stream",
     "text": [
      "Generated 2000000000 numbers to compute pi in 37.62 sec \n"
     ]
    }
   ],
   "source": [
    "for (int i = 0; i < n; ++i) { \n",
    "    double x = gRandom->Uniform(0,1);\n",
    "    double y = gRandom->Uniform(0,1);\n",
    "    if (sqrt(x*x + y*y) <= 1.0 ) {\n",
    "        n_inside += 1;\n",
    "    }\n",
    "}\n",
    "t->Stop();\n",
    "std::cout << \"Generated \" << 2 * n << \" numbers to compute pi in \" << t->CpuTime() << \" sec \" << std::endl;"
   ]
  },
  {
   "cell_type": "markdown",
   "metadata": {},
   "source": [
    "#### From the number inside the circle compute $\\pi$\n",
    "\n",
    "For comparison the true value of $\\pi$ is 3.1415926535897932384626"
   ]
  },
  {
   "cell_type": "code",
   "execution_count": 6,
   "metadata": {
    "collapsed": false
   },
   "outputs": [
    {
     "name": "stdout",
     "output_type": "stream",
     "text": [
      "pi =           3.14161440 \n"
     ]
    }
   ],
   "source": [
    "pi = 4.*double(n_inside)/double(n);\n",
    "printf(\"pi = %20.8f \\n\",pi);    "
   ]
  },
  {
   "cell_type": "markdown",
   "metadata": {},
   "source": [
    "We compute the error on the obtained value assuming the distribution for the number of events found inside the circle is a binomial distribution. \n",
    "\n",
    "The standard error for *n_inside* is then obtained from the variance of the binomial distribution $Var = n * p * (1-p)$, where $p = \\pi/4.$"
   ]
  },
  {
   "cell_type": "code",
   "execution_count": 7,
   "metadata": {
    "collapsed": false
   },
   "outputs": [
    {
     "name": "stdout",
     "output_type": "stream",
     "text": [
      "Error in pi is 5.19304e-05\n"
     ]
    }
   ],
   "source": [
    "double p = TMath::Pi()/4.;\n",
    "double err_pi = 4.*sqrt( p*(1.-p)/n );\n",
    "std::cout << \"Error in pi is \" << err_pi << std::endl;"
   ]
  },
  {
   "cell_type": "code",
   "execution_count": 8,
   "metadata": {
    "collapsed": false
   },
   "outputs": [
    {
     "name": "stdout",
     "output_type": "stream",
     "text": [
      "Difference with respect true value = 2.17424e-05 which corresponds to 0.418684 sigma\n"
     ]
    }
   ],
   "source": [
    "double true_pi =  3.1415926535897932384626;\n",
    "std::cout << \"Difference with respect true value = \" << pi-true_pi << \" which corresponds to \" \n",
    "    << (pi-true_pi)/err_pi << \" sigma\" << std::endl;"
   ]
  },
  {
   "cell_type": "code",
   "execution_count": null,
   "metadata": {
    "collapsed": true
   },
   "outputs": [],
   "source": []
  }
 ],
 "metadata": {
  "kernelspec": {
   "display_name": "ROOT C++",
   "language": "c++",
   "name": "root"
  },
  "language_info": {
   "codemirror_mode": "text/x-c++src",
   "file_extension": ".C",
   "mimetype": " text/x-c++src",
   "name": "c++"
  }
 },
 "nbformat": 4,
 "nbformat_minor": 1
}
