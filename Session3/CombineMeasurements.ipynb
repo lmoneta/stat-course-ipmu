{
 "cells": [
  {
   "cell_type": "markdown",
   "metadata": {},
   "source": [
    "## Example of Measurement Combination \n",
    "\n",
    "As example to show the combination of different measurements and why it is important to consider their correlations, we create this example: a fitting to 6 tracker elements. \n",
    "\n",
    "A tracker has detector 6 elements at x = -11, -10, -9, +9, +10 and +11 cms, which each measure a track’s y-coordinate to an accuracy of *± 1* cm. A straight line $y = a + bx$ is fitted (for example by chi-squared) to the data.\n",
    "We fit \n",
    "- the 3 elements at negative x (line L1); \n",
    "- the 3 elements at positive  x (L2); \n",
    "- all 6 detector elements.\n",
    "\n",
    "We study how one can combine the result from the first two fits (L1 and L2)  for the *a* and *b* parameters. "
   ]
  },
  {
   "cell_type": "code",
   "execution_count": null,
   "metadata": {
    "collapsed": true
   },
   "outputs": [],
   "source": [
    "double xpoints[] = { -11,-10,-9, 9,10,11};"
   ]
  },
  {
   "cell_type": "code",
   "execution_count": null,
   "metadata": {
    "collapsed": true
   },
   "outputs": [],
   "source": [
    "auto f1 = new TF1(\"f1\",\"[A]*x + [B]\");\n",
    "f1->SetParameter(\"A\",0.5);\n",
    "f1->SetParameter(\"B\",0.);"
   ]
  },
  {
   "cell_type": "raw",
   "metadata": {},
   "source": [
    "Generate some random y points with an error of 1"
   ]
  },
  {
   "cell_type": "code",
   "execution_count": null,
   "metadata": {
    "collapsed": false
   },
   "outputs": [],
   "source": [
    "double ypoints[6]; \n",
    "double sigma = 1; \n",
    "TRandom3 r(1);\n",
    "ROOT::Math::MinimizerOptions::SetDefaultMinimizer(\"Minuit2\");"
   ]
  },
  {
   "cell_type": "code",
   "execution_count": null,
   "metadata": {
    "collapsed": false
   },
   "outputs": [],
   "source": [
    "for (int i = 0; i < 6; ++i) { \n",
    "    ypoints[i] = f1->Eval(xpoints[i]) + r.Gaus(sigma);\n",
    "}"
   ]
  },
  {
   "cell_type": "code",
   "execution_count": null,
   "metadata": {
    "collapsed": false
   },
   "outputs": [],
   "source": [
    "auto gr = new TGraphErrors(6,xpoints,ypoints);\n",
    "for (int i = 0; i < 6; ++i)\n",
    "    gr->SetPointError(i,0,1);\n"
   ]
  },
  {
   "cell_type": "code",
   "execution_count": null,
   "metadata": {
    "collapsed": true
   },
   "outputs": [],
   "source": [
    "%jsroot on"
   ]
  },
  {
   "cell_type": "code",
   "execution_count": null,
   "metadata": {
    "collapsed": false
   },
   "outputs": [],
   "source": [
    "gr->SetMarkerStyle(20);\n",
    "gr->Draw(\"AP\");\n",
    "gPad->Draw();"
   ]
  },
  {
   "cell_type": "markdown",
   "metadata": {},
   "source": [
    "#### 1. Straight Line Fit to Negative Points (L1)\n",
    "\n",
    "We perform a straight line fit to the 3 negative points \n",
    "and we print the result and the correlation matrix obtained from the fit."
   ]
  },
  {
   "cell_type": "code",
   "execution_count": null,
   "metadata": {
    "collapsed": false
   },
   "outputs": [],
   "source": [
    "f1->SetRange(-12,0); \n",
    "f1->SetLineColor(kBlue);\n",
    "r1 = gr->Fit(f1,\"S R +\");\n",
    "r1->GetCorrelationMatrix().Print();\n",
    "gPad->Draw();"
   ]
  },
  {
   "cell_type": "markdown",
   "metadata": {},
   "source": [
    "#### 2. Straight Line Fit to Positive Points (L2)\n"
   ]
  },
  {
   "cell_type": "code",
   "execution_count": null,
   "metadata": {
    "collapsed": false
   },
   "outputs": [],
   "source": [
    "f1->SetRange(0,12);\n",
    "f1->SetLineColor(kBlack);\n",
    "r2 = gr->Fit(f1,\"S R +\");\n",
    "r2->GetCorrelationMatrix().Print();\n",
    "gPad->Draw();"
   ]
  },
  {
   "cell_type": "markdown",
   "metadata": {},
   "source": [
    "#### 3. Straight Line Fit to All Points (L3)"
   ]
  },
  {
   "cell_type": "code",
   "execution_count": null,
   "metadata": {
    "collapsed": false
   },
   "outputs": [],
   "source": [
    "f1->SetRange(-12,12);\n",
    "f1->SetLineColor(kRed);\n",
    "r3 = gr->Fit(f1,\"S  +\");\n",
    "r3->GetCorrelationMatrix().Print();"
   ]
  },
  {
   "cell_type": "code",
   "execution_count": null,
   "metadata": {
    "collapsed": false
   },
   "outputs": [],
   "source": [
    "gr->SetMarkerStyle(20);\n",
    "gr->Draw(\"AP\"); gPad->Draw();"
   ]
  },
  {
   "cell_type": "markdown",
   "metadata": {},
   "source": [
    "### Combination of the obtained results\n",
    "\n",
    "We perform now the combination of the parameters for the first two fit and we compare the combined result with the combined fit.\n",
    "We do the combination using first just as weight the inverse of the squared error\n",
    "$$w_i = \\frac{ 1/\\sigma_{i}^2 }{\\sum_i 1/\\sigma_{i}^2 }$$"
   ]
  },
  {
   "cell_type": "code",
   "execution_count": null,
   "metadata": {
    "collapsed": false
   },
   "outputs": [],
   "source": [
    "ipar = 0;\n",
    "v1 = r1->Parameter(ipar);\n",
    "err1 = r1->Error(ipar);\n",
    "v2 = r2->Parameter(ipar);\n",
    "err2 = r2->Error(ipar);\n"
   ]
  },
  {
   "cell_type": "code",
   "execution_count": null,
   "metadata": {
    "collapsed": false
   },
   "outputs": [],
   "source": [
    "w1  = 1./(err1*err1);\n",
    "w2 = 1./(err2*err2);\n",
    "wtot = w1+w2; \n",
    "value_comb = (w1*v1 + w2*v2)/wtot; \n",
    "err_comb = sqrt(1./wtot);"
   ]
  },
  {
   "cell_type": "code",
   "execution_count": null,
   "metadata": {
    "collapsed": false
   },
   "outputs": [],
   "source": [
    "std::cout << \"The combined value for parameter  \" << r1->ParName(ipar) << \" is : \" \n",
    "         << value_comb << \" +/- \" << err_comb << std::endl;"
   ]
  },
  {
   "cell_type": "markdown",
   "metadata": {},
   "source": [
    "As you see these values do not make sense, because we did not take into account the correlations between the two fitted parameters. We cannot consider them indipendently. \n",
    "If we now we do the combination using instead the correct weights based on the inverse of the covariance (error) matrices.\n",
    "\n",
    "$$W_i =  M_{i}^{-1} $$\n",
    "\n",
    "where $M_i$ is the covariance matrix for the $i$ measurement, and $W_i$ is the resulting un-normalized weight matrix. "
   ]
  },
  {
   "cell_type": "code",
   "execution_count": null,
   "metadata": {
    "collapsed": false
   },
   "outputs": [],
   "source": [
    "M1 = r1->GetCovarianceMatrix();\n",
    "M2 = r2->GetCovarianceMatrix();\n",
    "W1 = M1.Invert();\n",
    "W2 = M2.Invert(); "
   ]
  },
  {
   "cell_type": "markdown",
   "metadata": {},
   "source": [
    "Using simple matrix algebra we can get then the combined values:\n",
    "$$X_{comb} = (W_1+W_2)^{-1} * ( W_1 * X_1 + W_2 * X_2 ) $$\n",
    "\n",
    "Where $X_1$ and $X_2$ are the vectors of the measurements. For this example $X_1 = (a_1,b_1)$ \n",
    "\n",
    "The combined error will be instead\n",
    "    $$M_{comb} = (W_1+W_2)^{-1}$$\n",
    "    \n",
    "We can compute first the combined error:     "
   ]
  },
  {
   "cell_type": "code",
   "execution_count": null,
   "metadata": {
    "collapsed": false
   },
   "outputs": [],
   "source": [
    "Wcomb = W1+W2; \n",
    "Mcomb = Wcomb.Invert();\n",
    "Mcomb.Print();"
   ]
  },
  {
   "cell_type": "code",
   "execution_count": null,
   "metadata": {
    "collapsed": false
   },
   "outputs": [],
   "source": [
    "std::cout << \"Combined error on A = \" << sqrt(Mcomb(0,0)) << std::endl;\n",
    "std::cout << \"Combined error on B = \" << sqrt(Mcomb(1,1)) << std::endl;"
   ]
  },
  {
   "cell_type": "markdown",
   "metadata": {},
   "source": [
    "And then the combined value"
   ]
  },
  {
   "cell_type": "code",
   "execution_count": null,
   "metadata": {
    "collapsed": false
   },
   "outputs": [],
   "source": [
    "TVectorD Vec1(2,r1->GetParams());\n",
    "TVectorD Vec2(2,r2->GetParams());"
   ]
  },
  {
   "cell_type": "code",
   "execution_count": null,
   "metadata": {
    "collapsed": false
   },
   "outputs": [],
   "source": [
    "TVectorD Vec_comb(2);\n",
    "Vec_comb = W1*Vec1+W2*Vec2;\n",
    "Vec_comb = Mcomb * Vec_comb; \n",
    "Vec_comb.Print();"
   ]
  },
  {
   "cell_type": "code",
   "execution_count": null,
   "metadata": {
    "collapsed": false
   },
   "outputs": [],
   "source": [
    "std::cout << \"Computed combined values are : \\n\";\n",
    "std::cout << \"A = \" << Vec_comb(0) << \" +/- \" << sqrt(Mcomb(0,0)) << std::endl;\n",
    "std::cout << \"B = \" << Vec_comb(1) << \" +/- \" << sqrt(Mcomb(1,1)) << std::endl;"
   ]
  },
  {
   "cell_type": "code",
   "execution_count": null,
   "metadata": {
    "collapsed": false
   },
   "outputs": [],
   "source": [
    "std::cout << \"Values obtained from the combined fit are : \\n\";\n",
    "std::cout << \"A = \" << r3->Parameter(0) << \" +/- \" << r3->Error(0) << std::endl;\n",
    "std::cout << \"B = \" << r3->Parameter(1) << \" +/- \" << r3->Error(1) << std::endl;"
   ]
  },
  {
   "cell_type": "markdown",
   "metadata": {},
   "source": [
    "As you see the direct computation or the one obtained from the fit give exactly the same result as expected."
   ]
  }
 ],
 "metadata": {
  "kernelspec": {
   "display_name": "ROOT C++",
   "language": "c++",
   "name": "root"
  },
  "language_info": {
   "codemirror_mode": "text/x-c++src",
   "file_extension": ".C",
   "mimetype": " text/x-c++src",
   "name": "c++"
  }
 },
 "nbformat": 4,
 "nbformat_minor": 0
}
