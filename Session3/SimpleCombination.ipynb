{
 "cells": [
  {
   "cell_type": "markdown",
   "metadata": {},
   "source": [
    "## Combination of Correlated measurement\n",
    "\n",
    "This is a simple example showing the combination of two measurements which are coreelated\n",
    "\n",
    "These below are the true value and the assumed measurement errors and correlation.\n",
    "\n",
    "We assume the two measurements are \n",
    "\n",
    "$$ x_1 = 8 \\pm 2 $$\n",
    "$$ x_2 = 20 \\pm 4 $$\n",
    "\n",
    "The notebook provides also the capability to generate the two measured value randomly. We start using the given values. "
   ]
  },
  {
   "cell_type": "code",
   "execution_count": null,
   "metadata": {
    "collapsed": true
   },
   "outputs": [],
   "source": [
    "double xtrue = 10; \n",
    "double sigma1 = 2; \n",
    "double sigma2 = 4; \n",
    "double rho = 0.98; \n",
    "double x1 = 8; \n",
    "double x2 = 20; "
   ]
  },
  {
   "cell_type": "markdown",
   "metadata": {},
   "source": [
    "##### Random generation of the two measurements\n",
    "We can generate randomly two correlated measurements with the given true value and given error and correlation.\n",
    "We generate the values using the multivariate normal distribution for 2 dimension (bi-gaussian).\n",
    "We use the ROOT *bigaus* function. See the function printout for the parameter definition"
   ]
  },
  {
   "cell_type": "code",
   "execution_count": null,
   "metadata": {
    "collapsed": false
   },
   "outputs": [],
   "source": [
    "auto f = new TF2(\"f2\",\"bigaus\",0,10,-10,30);\n",
    "double xr1,xr2;\n",
    "f->Print();"
   ]
  },
  {
   "cell_type": "code",
   "execution_count": null,
   "metadata": {
    "collapsed": false
   },
   "outputs": [],
   "source": [
    "f->SetParameters(1,xtrue,sigma1,xtrue,sigma2,rho);"
   ]
  },
  {
   "cell_type": "code",
   "execution_count": null,
   "metadata": {
    "collapsed": false
   },
   "outputs": [],
   "source": [
    "gRandom->SetSeed(0); // to get always a different value\n",
    "f->GetRandom2(xr1,xr2);\n",
    "// uncomment to use the random values or comment to use the fixed values\n",
    "//x1 = xr1; \n",
    "//x2 = xr2; "
   ]
  },
  {
   "cell_type": "code",
   "execution_count": null,
   "metadata": {
    "collapsed": false
   },
   "outputs": [],
   "source": [
    "std::cout << \" x1 = \" << x1 << \" +/- \" << sigma1 << std::endl;\n",
    "std::cout << \" x2 = \" << x2 << \" +/- \" << sigma2 << std::endl;"
   ]
  },
  {
   "cell_type": "markdown",
   "metadata": {
    "collapsed": true
   },
   "source": [
    "#### Combination\n",
    "\n",
    "We perform now the combination of the two correlated measurement.\n",
    "The formula to combine them using BLUE is \n",
    "\n",
    "$$x_{comb} = w_1 * x_1 + w_2 * x_2$$\n",
    "\n",
    "where the weights are:\n",
    "\n",
    "$$w_i = \\frac{\\sum_j C_{i,j}^{-1} }{\\sum_{i,j} C_{i,j}^{-1} }$$\n",
    "\n",
    "and $C_{i,j}$ is the covariance matrix.\n",
    "\n",
    "The combined error will be\n",
    "\n",
    "$$\\sigma_{comb} = \\frac{1}{\\sqrt {\\sum_{i,j} C_{i,j}^{-1} }  }$$\n",
    "\n",
    "We start building the covariance matrix of the two measurements"
   ]
  },
  {
   "cell_type": "code",
   "execution_count": null,
   "metadata": {
    "collapsed": false
   },
   "outputs": [],
   "source": [
    "TMatrixDSym covMatrix(2);\n",
    "covMatrix(0,0) = sigma1*sigma1;\n",
    "covMatrix(1,1) = sigma2*sigma2; \n",
    "covMatrix(0,1) = rho * sigma1 * sigma2; \n",
    "covMatrix(1,0) = covMatrix(0,1);\n",
    "covMatrix.Print();"
   ]
  },
  {
   "cell_type": "markdown",
   "metadata": {},
   "source": [
    "We invert now the covariance matrix to get the weights for the combination. \n",
    "The un-normalized weight for the $i$-measurement is equal to the sum of the element in the $i$-th row of the inverse covariance matrix. "
   ]
  },
  {
   "cell_type": "code",
   "execution_count": null,
   "metadata": {
    "collapsed": true
   },
   "outputs": [],
   "source": [
    "TMatrixDSym invCMatrix = covMatrix.Invert();"
   ]
  },
  {
   "cell_type": "code",
   "execution_count": null,
   "metadata": {
    "collapsed": false
   },
   "outputs": [],
   "source": [
    "invCMatrix.Print();"
   ]
  },
  {
   "cell_type": "code",
   "execution_count": null,
   "metadata": {
    "collapsed": true
   },
   "outputs": [],
   "source": [
    "double w1 = invCMatrix(0,0)+invCMatrix(0,1);\n",
    "double w2 = invCMatrix(1,0)+invCMatrix(1,1);\n",
    "double wtot = w1+w2;"
   ]
  },
  {
   "cell_type": "markdown",
   "metadata": {},
   "source": [
    "Once we have the weights we can get the combined value and error"
   ]
  },
  {
   "cell_type": "code",
   "execution_count": null,
   "metadata": {
    "collapsed": true
   },
   "outputs": [],
   "source": [
    "double xcomb = (w1 * x1 + w2 * x2)/wtot; "
   ]
  },
  {
   "cell_type": "code",
   "execution_count": null,
   "metadata": {
    "collapsed": false
   },
   "outputs": [],
   "source": [
    "double xerror = sqrt( 1./ wtot); "
   ]
  },
  {
   "cell_type": "code",
   "execution_count": null,
   "metadata": {
    "collapsed": false
   },
   "outputs": [],
   "source": [
    "std::cout << \"combined measurement is \" << xcomb << \" +/- \" << xerror << std::endl; \n",
    "std::cout << \"combination weights are \" << w1/wtot << \" , \" << w2/wtot << std::endl;"
   ]
  },
  {
   "cell_type": "markdown",
   "metadata": {},
   "source": [
    "You see that by obtaining a negative weight the combined measurement is outside the two measured values. \n",
    "\n",
    "By using the formula for the inverse of the covariance matrix in case of two measurement, we can show that \n",
    "\n",
    "$$w_1 = \\sigma_{2}^2 - \\rho * \\sigma_1 * \\sigma_2 $$\n",
    "$$w_2 = \\sigma_{1}^2 - \\rho * \\sigma_1 * \\sigma_2 $$\n",
    "\n",
    "therefore one has a negative weight when $\\rho > \\sigma_1/\\sigma_2$, if $\\sigma_2$ is greater than $\\sigma_1$, otherwise when $\\rho > \\sigma_2/\\sigma_1$.  "
   ]
  }
 ],
 "metadata": {
  "kernelspec": {
   "display_name": "ROOT C++",
   "language": "c++",
   "name": "root"
  },
  "language_info": {
   "codemirror_mode": "text/x-c++src",
   "file_extension": ".C",
   "mimetype": " text/x-c++src",
   "name": "c++"
  }
 },
 "nbformat": 4,
 "nbformat_minor": 0
}
