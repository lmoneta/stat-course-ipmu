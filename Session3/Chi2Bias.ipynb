{
 "cells": [
  {
   "cell_type": "markdown",
   "metadata": {},
   "source": [
    "# Bias of Least Square (Chi-Square) Fit\n",
    "\n",
    "The aim of this notebook is to show the bias, when fitting an histogram with the least square method (Chi-square histogram fit). \n",
    "\n",
    "We generate a set of data points with size *n* (e.g. *n* = 1000) uniformly distributed in an arbitrary interval (e.g. [0,100] ) and we perform a fit to the histogram with a constant function to determine the function offset parameter, which is directly related to the generated number of events. \n",
    "\n",
    "#### 1. Generation  of events\n",
    "\n",
    "We generate *n* events (*n* = 1000) in the range [0,100] and we will with these events an histogram with nbins=100"
   ]
  },
  {
   "cell_type": "code",
   "execution_count": null,
   "metadata": {
    "collapsed": false
   },
   "outputs": [],
   "source": [
    "auto h1 = new TH1D(\"h1\",\"A Constant Distribution\",100,0,100);"
   ]
  },
  {
   "cell_type": "code",
   "execution_count": null,
   "metadata": {
    "collapsed": false
   },
   "outputs": [],
   "source": [
    "int n = 1000;\n",
    "// use seed = 0 to get different number every time\n",
    "TRandom3 r(0); \n",
    "for (int i = 0; i < n; ++i) { \n",
    "    h1->Fill(r.Uniform(0,100));\n",
    "}"
   ]
  },
  {
   "cell_type": "markdown",
   "metadata": {},
   "source": [
    "#### 2. Fit events with a constant function and using the Neyman chi-square\n",
    "\n",
    "We create first the fit function, in this case constant function\n",
    "\n",
    "$$f(x) = A $$ \n",
    "\n",
    "If we have generated *n* events, the true value of the constant $A_{true} =  \\frac{N}{nbins}$, where $nbins$ is the number of bins of the histogram. "
   ]
  },
  {
   "cell_type": "code",
   "execution_count": null,
   "metadata": {
    "collapsed": false
   },
   "outputs": [],
   "source": [
    "auto f1 = new TF1(\"f1\",\"[A]\");\n",
    "double trueValue = double(n)/h1->GetNbinsX();   "
   ]
  },
  {
   "cell_type": "code",
   "execution_count": null,
   "metadata": {
    "collapsed": true
   },
   "outputs": [],
   "source": [
    "ROOT::Math::MinimizerOptions::SetDefaultMinimizer(\"Minuit2\"); \n",
    "TFitResultPtr result_neyman, result_pearson, result_likelihood;"
   ]
  },
  {
   "cell_type": "markdown",
   "metadata": {},
   "source": [
    "\n",
    "We perform first a chi-square fit. The default one in ROOT is the Neyman chi-square, where the observed error are used.\n",
    "Note that we use the fit option **S** to save the result of the fit in the `TFitResult` object"
   ]
  },
  {
   "cell_type": "code",
   "execution_count": null,
   "metadata": {
    "collapsed": false
   },
   "outputs": [],
   "source": [
    "%jsroot on\n",
    "canvas = new TCanvas(); \n",
    "result_neyman = h1->Fit(f1,\"S\");\n",
    "canvas->Draw();"
   ]
  },
  {
   "cell_type": "markdown",
   "metadata": {},
   "source": [
    "#### 3. Fit again the events  using the Pearson chi-square\n",
    "\n",
    "Now we performa Pearson chi2 (fit option \"P\"). In this case the expected error is used"
   ]
  },
  {
   "cell_type": "code",
   "execution_count": null,
   "metadata": {
    "collapsed": false
   },
   "outputs": [],
   "source": [
    "result_pearson = h1->Fit(f1,\"S P \");"
   ]
  },
  {
   "cell_type": "markdown",
   "metadata": {},
   "source": [
    "#### 4. Fit events with the binned likelihood method\n",
    "\n",
    "Now we perform a binned likelihood fit. The Fit option to use is \"L\""
   ]
  },
  {
   "cell_type": "code",
   "execution_count": null,
   "metadata": {
    "collapsed": false
   },
   "outputs": [],
   "source": [
    "result_likelihood = h1->Fit(f1,\"S L\");"
   ]
  },
  {
   "cell_type": "code",
   "execution_count": null,
   "metadata": {
    "collapsed": false,
    "scrolled": false
   },
   "outputs": [],
   "source": [
    "g = new TGraphErrors(3);\n",
    "g->SetMarkerStyle(20);\n",
    "g->SetPoint(0,1,result_neyman->Value(0));\n",
    "g->SetPointError(0,0,result_neyman->Error(0));\n",
    "//\n",
    "g->SetPoint(1,2,result_pearson->Value(0));\n",
    "g->SetPointError(1,0,result_pearson->Error(0));\n",
    "//\n",
    "g->SetPoint(2,3,result_likelihood->Value(0));\n",
    "g->SetPointError(2,0,result_likelihood->Error(0));\n",
    "\n",
    "g->Draw(\"A EP\");\n",
    "\n",
    "line = new TLine(0.8,trueValue,3.2,trueValue);\n",
    "line->Draw();\n",
    "line->SetLineColor(kRed);\n",
    "\n",
    "gPad->Draw();"
   ]
  },
  {
   "cell_type": "code",
   "execution_count": null,
   "metadata": {
    "collapsed": false
   },
   "outputs": [],
   "source": [
    "std::cout << \"Neyman chi2 fit bias  = \" << result_neyman->Value(0)-trueValue<< std::endl;\n",
    "std::cout << \"Pearson chi2 fit bias = \" << result_pearson->Value(0)-trueValue << std::endl;\n",
    "std::cout << \"Likelihood fit bias   = \" << result_likelihood->Value(0)-trueValue << std::endl;"
   ]
  },
  {
   "cell_type": "markdown",
   "metadata": {},
   "source": [
    "This is expected. The bias as the Neyman chi-squared is $\\approx - \\chi^2/N_{bins}$ while for the Pearson chi-squared is + $0.5 * \\chi^2/N_{bins}$.\n",
    "\n",
    "You can repeat this exercise with a different function (e.g a Gaussian distribution), and  you can optionally study using pseudo-experiments (Monte Carlo) the distribution of the fitted parameters. "
   ]
  },
  {
   "cell_type": "code",
   "execution_count": null,
   "metadata": {
    "collapsed": true
   },
   "outputs": [],
   "source": []
  }
 ],
 "metadata": {
  "kernelspec": {
   "display_name": "ROOT C++",
   "language": "c++",
   "name": "root"
  },
  "language_info": {
   "codemirror_mode": "text/x-c++src",
   "file_extension": ".C",
   "mimetype": " text/x-c++src",
   "name": "c++"
  }
 },
 "nbformat": 4,
 "nbformat_minor": 0
}
